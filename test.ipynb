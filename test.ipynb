{
 "metadata": {
  "language_info": {
   "codemirror_mode": {
    "name": "ipython",
    "version": 3
   },
   "file_extension": ".py",
   "mimetype": "text/x-python",
   "name": "python",
   "nbconvert_exporter": "python",
   "pygments_lexer": "ipython3",
   "version": "3.6.13"
  },
  "orig_nbformat": 2,
  "kernelspec": {
   "name": "python3613jvsc74a57bd0f4671ad35fdc0609fa675edcd17de5b3092cb55d03f1d9670a78611a41fb18f3",
   "display_name": "Python 3.6.13 64-bit (conda)"
  },
  "metadata": {
   "interpreter": {
    "hash": "f4671ad35fdc0609fa675edcd17de5b3092cb55d03f1d9670a78611a41fb18f3"
   }
  }
 },
 "nbformat": 4,
 "nbformat_minor": 2,
 "cells": [
  {
   "cell_type": "code",
   "execution_count": 70,
   "metadata": {},
   "outputs": [],
   "source": [
    "import torch\n",
    "import torch.nn as nn\n",
    "import torch.nn.functional as functional\n",
    "import sklearn.metrics as metrics\n",
    "from rdkit import Chem\n",
    "from rdkit.Chem import rdchem as utils\n",
    "\n",
    "import numpy as np\n",
    "from numpy import exp\n",
    "from numpy.random import normal\n"
   ]
  },
  {
   "cell_type": "code",
   "execution_count": 72,
   "metadata": {},
   "outputs": [],
   "source": [
    "base_folder = 'data/'\n",
    "\n",
    "train_r_file = base_folder + 'train_reactants.sdf'\n",
    "train_ts_file = base_folder + 'train_ts.sdf'\n",
    "train_p_file = base_folder + 'train_products.sdf'\n",
    "\n",
    "test_r_file = base_folder + 'test_reactants.sdf'\n",
    "test_ts_file = base_folder + 'test_ts.sdf'\n",
    "test_p_file = base_folder + 'test_products.sdf'\n",
    "\n",
    "train_r = Chem.ForwardSDMolSupplier(train_r_file, removeHs=False, sanitize=False)\n",
    "train_r = [x for x in train_r]\n",
    "train_ts = Chem.ForwardSDMolSupplier(train_ts_file, removeHs=False, sanitize=False)\n",
    "train_ts = [x for x in train_ts]\n",
    "train_p = Chem.ForwardSDMolSupplier(train_p_file, removeHs=False, sanitize=False)\n",
    "train_p = [x for x in train_p]\n",
    "\n",
    "test_r = Chem.ForwardSDMolSupplier(test_r_file, removeHs=False, sanitize=False)\n",
    "test_r = [x for x in test_r]\n",
    "test_ts = Chem.ForwardSDMolSupplier(test_ts_file, removeHs=False, sanitize=False)\n",
    "test_ts = [x for x in test_ts]\n",
    "test_p = Chem.ForwardSDMolSupplier(test_p_file, removeHs=False, sanitize=False)\n",
    "test_p = [x for x in test_p]\n"
   ]
  },
  {
   "cell_type": "code",
   "execution_count": null,
   "metadata": {},
   "outputs": [],
   "source": [
    "from rdkit.Chem.rdchem import HybridizationType\n",
    "from rdkit.Chem.rdchem import BondType as BT\n",
    "from torch_scatter import scatter\n",
    "from torch_geometric.data import Data\n",
    "\n",
    "types = {'H': 0, 'C': 1, 'N': 2, 'O': 3, 'F': 4}\n",
    "bonds = {BT.SINGLE: 0, BT.DOUBLE: 1, BT.TRIPLE: 2, BT.AROMATIC: 3}\n",
    "\n",
    "geometries = Chem.SDMolSupplier('data/raw/test_reactants.sdf', removeHs=False, sanitize=False)\n",
    "\n",
    "# Reaction centers refer to the pairs of atoms that lose/form a bond in the reactions."
   ]
  },
  {
   "cell_type": "code",
   "execution_count": null,
   "metadata": {},
   "outputs": [],
   "source": [
    "data_list = []\n",
    "for i, mol in enumerate(geometries):\n",
    "    N = mol.GetNumAtoms()\n",
    "    # get atom positions and other data of each atom\n",
    "    atom_data = train_r.GetItemText(i).split('\\n')[4:4 + N]\n",
    "    # just get atom positions (x,y,z)\n",
    "    print(i)\n",
    "    atom_positions = [[float(x) for x in line.split()[:3]] for line in atom_data]\n",
    "    atom_positions = torch.tensor(atom_positions, dtype=torch.float) # node position matrix with shape [num_nodes, num_dimensions]=torch.Size([num_atoms, 3])\n",
    "\n",
    "    type_idx = []\n",
    "    atomic_number = []\n",
    "    aromatic = []\n",
    "    sp = []\n",
    "    sp2 = []\n",
    "    sp3 = []\n",
    "    num_hs = []\n",
    "\n",
    "    for atom in mol.GetAtoms():\n",
    "        \n",
    "        # remember not to use these features in any special MP\n",
    "        type_idx.append(types[atom.GetSymbol()]) # self.types\n",
    "        atomic_number.append(atom.GetAtomicNum())\n",
    "        aromatic.append(1 if atom.GetIsAromatic() else 0)\n",
    "        \n",
    "        hybridisation = atom.GetHybridization()\n",
    "        sp.append(1 if hybridisation == HybridizationType.SP else 0)\n",
    "        sp2.append(1 if hybridisation == HybridizationType.SP2 else 0)\n",
    "        sp3.append(1 if hybridisation == HybridizationType.SP3 else 0)\n",
    "\n",
    "    row, col, edge_type = [], [], []\n",
    "    for bond in mol.GetBonds(): \n",
    "        # get start and end atoms of bond\n",
    "        start, end = bond.GetBeginAtomIdx(), bond.GetEndAtomIdx()\n",
    "        row += [start, end]\n",
    "        col += [end, start]\n",
    "        # edge type for each bond type; *2 because for each atom I assume\n",
    "        edge_type += 2 * [bonds[bond.GetBondType()]] # self.bonds\n",
    "        # print(edge_type)\n",
    "\n",
    "    # [0]: [start_1, end_1, start_2, end_2, ...]; [1]: [end_1, start_2, end_2, ...]\n",
    "    edge_index = torch.tensor([row, col], dtype=torch.long) # in PTG, edge_index is graph connectivity in COO format with shape [2, num_edges] and type torch.long; note that num_edges = bonds*2 because undirected edges count both ways; maybe i'll want to change this later?\n",
    "    edge_type = torch.tensor(edge_type, dtype=torch.long)\n",
    "    # one hot the edge types so we have len(types of bond) classes\n",
    "    edge_attr = F.one_hot(edge_type, num_classes=len(bonds)).to(torch.float) # in PTG, edge_attr is edge feature matrix with shape [num_edges, num_edge_features]; self.bonds\n",
    "\n",
    "    # order edges based on combined ascending order\n",
    "    perm = (edge_index[0] * N + edge_index[1]).argsort()\n",
    "    edge_index = edge_index[:, perm]\n",
    "    edge_type = edge_type[perm]\n",
    "    edge_attr = edge_attr[perm]\n",
    "\n",
    "    row, col = edge_index\n",
    "    z = torch.tensor(atomic_number, dtype=torch.long)\n",
    "    hs = (z == 1).to(torch.float) # hydrogens\n",
    "    # scatter reduces values from src tensor into out at indices specified in index\n",
    "    # https://abderhasan.medium.com/pytorchs-scatter-function-a-visual-explanation-351d25c05c73\n",
    "    # helps with one-hot encoding\n",
    "    num_hs = scatter(hs[row], col, dim_size=N).tolist() # length=N\n",
    "    \n",
    "    x1 = F.one_hot(torch.tensor(type_idx), num_classes=len(types)) # self.types\n",
    "    x2 = torch.tensor([atomic_number, aromatic, sp, sp2, sp3, num_hs], dtype=torch.float).t().contiguous()\n",
    "    x = torch.cat([x1.to(torch.float), x2], dim=-1)\n",
    "\n",
    "    # name is lucky's name for these\n",
    "    name = mol.GetProp('_Name')\n",
    "    # no direct y since decode to TS\n",
    "    data = Data(x=x, z=z, pos=atom_positions, edge_index=edge_index, edge_attr=edge_attr,\n",
    "    name=name, idx=i)\n",
    "\n",
    "    data_list = []\n",
    "    data_list.append(data)\n",
    "\n",
    "# torch.save(self.collate(data_list), self.processed_paths[0]) # need to deal with selfs here"
   ]
  },
  {
   "cell_type": "code",
   "execution_count": 71,
   "metadata": {},
   "outputs": [
    {
     "output_type": "execute_result",
     "data": {
      "text/plain": [
       "21"
      ]
     },
     "metadata": {},
     "execution_count": 71
    }
   ],
   "source": [
    "# figuring out padding\n",
    "max(mol.GetNumAtoms() for mol in train_r) # = 21, same for ts, p\n",
    "# min(mol.GetNumAtoms() for mol in train_r) # = 4\n",
    "# need to get more\n",
    "\n",
    "# train_r_small = train_r[0:100]\n",
    "# train_ts_small = train_ts[0:100]\n",
    "# train_p_small = train_p[0:100]\n",
    "\n",
    "print(torch.__version__)\n",
    "# do AE\n",
    "# then get to grips with PTG\n",
    "\n"
   ]
  },
  {
   "cell_type": "code",
   "execution_count": null,
   "metadata": {},
   "outputs": [],
   "source": [
    "# notes\n",
    "num_latent_params = 2 * latent_space_dim\n",
    "network = nn.Sequential(nn.Linear(data_dim, 300), ..., nn.Linear(400, num_latent_params))\n",
    "encoder(network)"
   ]
  }
 ]
}