{
 "metadata": {
  "language_info": {
   "codemirror_mode": {
    "name": "ipython",
    "version": 3
   },
   "file_extension": ".py",
   "mimetype": "text/x-python",
   "name": "python",
   "nbconvert_exporter": "python",
   "pygments_lexer": "ipython3",
   "version": "3.6.13"
  },
  "orig_nbformat": 2,
  "kernelspec": {
   "name": "python3613jvsc74a57bd0f4671ad35fdc0609fa675edcd17de5b3092cb55d03f1d9670a78611a41fb18f3",
   "display_name": "Python 3.6.13 64-bit (conda)"
  }
 },
 "nbformat": 4,
 "nbformat_minor": 2,
 "cells": [
  {
   "source": [
    "With thanks to Lucky Pattanaik for supplying the majority of this code."
   ],
   "cell_type": "markdown",
   "metadata": {}
  },
  {
   "cell_type": "code",
   "execution_count": 5,
   "metadata": {},
   "outputs": [],
   "source": [
    "from rdkit import Chem\n",
    "import numpy as np"
   ]
  },
  {
   "cell_type": "code",
   "execution_count": 3,
   "metadata": {},
   "outputs": [],
   "source": [
    "base_folder = r'../data/raw/'\n",
    "\n",
    "train_r_file = base_folder + 'train_reactants.sdf'\n",
    "train_ts_file = base_folder + 'train_ts.sdf'\n",
    "train_p_file = base_folder + 'train_products.sdf'\n",
    "\n",
    "test_r_file = base_folder + 'test_reactants.sdf'\n",
    "test_ts_file = base_folder + 'test_ts.sdf'\n",
    "test_p_file = base_folder + 'test_products.sdf'\n",
    "\n",
    "train_r = Chem.SDMolSupplier(train_r_file, removeHs=False, sanitize=False)\n",
    "train_r = [x for x in train_r]\n",
    "train_ts = Chem.SDMolSupplier(train_ts_file, removeHs=False, sanitize=False)\n",
    "train_ts = [x for x in train_ts]\n",
    "train_p = Chem.SDMolSupplier(train_p_file, removeHs=False, sanitize=False)\n",
    "train_p = [x for x in train_p]\n",
    "\n",
    "test_r = Chem.SDMolSupplier(test_r_file, removeHs=False, sanitize=False)\n",
    "test_r = [x for x in test_r]\n",
    "test_ts = Chem.SDMolSupplier(test_ts_file, removeHs=False, sanitize=False)\n",
    "test_ts = [x for x in test_ts]\n",
    "test_p = Chem.SDMolSupplier(test_p_file, removeHs=False, sanitize=False)\n",
    "test_p = [x for x in test_p]"
   ]
  },
  {
   "cell_type": "code",
   "execution_count": 6,
   "metadata": {},
   "outputs": [],
   "source": [
    "# weights files\n",
    "# these are the weight matrices they got out of their model\n",
    "\n",
    "atom_weights_file = 'mit_atom_importance_weights.npy'\n",
    "atom_weights = np.load(atom_weights_file)\n",
    "\n",
    "raw_atom_weights_file = 'mit_masked_raw_weights.npy'\n",
    "raw_weights = np.load(raw_atom_weights_file)"
   ]
  },
  {
   "cell_type": "code",
   "execution_count": 10,
   "metadata": {},
   "outputs": [],
   "source": [
    "# get bond \"scores\" based on weight matrices\n",
    "def get_bond_scores(w, mol):\n",
    "    scores = []\n",
    "    for b in mol.GetBonds():\n",
    "        i = b.GetBeginAtomIdx()\n",
    "        j = b.GetEndAtomIdx()\n",
    "        scores.append(w[i,j])\n",
    "    return scores"
   ]
  },
  {
   "cell_type": "code",
   "execution_count": 9,
   "metadata": {},
   "outputs": [],
   "source": [
    "\n",
    "def show_important_bonds(plot_idx):\n",
    "    mol = ts_mols[plot_idx]\n",
    "    n_atoms = mol.GetNumAtoms()\n",
    "    w = raw_weights[plot_idx][raw_weights[plot_idx] != 0].reshape(n_atoms,n_atoms)\n",
    "    bond_weights = np.divide(w,max(np.max(w, axis=1)))\n",
    "\n",
    "    scores = np.trim_zeros(atom_weights[plot_idx]**4, 'b')\n",
    "    bond_scores = np.array(get_bond_scores(bond_weights, mol))**12\n",
    "\n",
    "    highlightAtoms = list(range(len(scores))) #does this by index so if you have atom maps you will have to make a dictionary to translate\n",
    "    highlightAtomColors={idx:(1-scores[idx],1,1-scores[idx]) for idx in highlightAtoms}\n",
    "    highlightBonds = list(range(len(bond_scores)))\n",
    "    highlightBondColors={idx:(1-bond_scores[idx],1,1-bond_scores[idx]) for idx in highlightBonds}\n",
    "\n",
    "    drawing = draw(mol,highlightAtoms=[], highlightAtomColors=[], \\\n",
    "                   atomScores=scores, highlightBonds=highlightBonds, highlightBondColors=highlightBondColors)\n",
    "\n",
    "    display(SVG(draw(r_mols[plot_idx])))\n",
    "    display(SVG(drawing))\n",
    "    display(SVG(draw(p_mols[plot_idx])))"
   ]
  },
  {
   "cell_type": "code",
   "execution_count": null,
   "metadata": {},
   "outputs": [],
   "source": []
  }
 ]
}