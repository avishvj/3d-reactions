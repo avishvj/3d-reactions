{
 "cells": [
  {
   "cell_type": "code",
   "execution_count": 1,
   "metadata": {},
   "outputs": [],
   "source": [
    "from experiments.building_on_mit.emb_space import run_tsi_experiment, display_embeddings\r\n",
    "import torch\r\n",
    "from ts_vae.data_processors.grambow_processor import ReactionDataset\r\n",
    "from torch_geometric.data import DataLoader\r\n",
    "from torch_geometric.utils import to_dense_batch\r\n",
    "import numpy as np\r\n",
    "from ts_vae.gaes.nec_gae import NodeEdgeCoord_AE"
   ]
  },
  {
   "cell_type": "code",
   "execution_count": 2,
   "metadata": {},
   "outputs": [
    {
     "name": "stdout",
     "output_type": "stream",
     "text": [
      "Preparing data...\n",
      "Data prepared.\n",
      "\n",
      "Preparing models...\n",
      "Models prepared.\n",
      "\n",
      "Starting TS interpolation experiment...\n",
      "\n",
      "===== Training epoch 001 complete with loss: 4.8225 ====\n",
      "===== Training epoch 002 complete with loss: 4.6141 ====\n",
      "===== Training epoch 003 complete with loss: 4.3739 ====\n",
      "===== Training epoch 004 complete with loss: 4.1077 ====\n",
      "\n",
      "Completed experiment, use the experiment log to print results...\n"
     ]
    }
   ],
   "source": [
    "exp_log = run_tsi_experiment()"
   ]
  },
  {
   "cell_type": "code",
   "execution_count": 41,
   "metadata": {},
   "outputs": [
    {
     "name": "stdout",
     "output_type": "stream",
     "text": [
      "tensor([[-1.495,  0.715],\n",
      "        [-1.514,  0.685],\n",
      "        [-1.889,  0.790],\n",
      "        [-1.788,  0.781],\n",
      "        [-1.536,  0.684],\n",
      "        [-1.566,  0.715],\n",
      "        [-1.473,  0.774],\n",
      "        [-0.850,  0.412],\n",
      "        [-0.846,  0.398],\n",
      "        [-0.840,  0.384],\n",
      "        [-0.920,  0.394],\n",
      "        [-0.906,  0.394],\n",
      "        [-0.853,  0.355],\n",
      "        [-0.851,  0.345],\n",
      "        [-0.894,  0.379]], grad_fn=<UnbindBackward>)\n"
     ]
    }
   ],
   "source": [
    "ts_emb_batches = []\r\n",
    "batches = []\r\n",
    "\r\n",
    "# get final element of exp_log.embeddings are the final embeddings\r\n",
    "for (node_emb, edge_emb, batch) in exp_log.embeddings[-1]:\r\n",
    "    ts_emb_batch = to_dense_batch(node_emb, batch.x_ts_batch)\r\n",
    "    ts_emb_batches.append(ts_emb_batch[0]) # just append tensors, not true/false values\r\n",
    "    batches.append(batch)\r\n",
    "\r\n",
    "# get each ts from batch and put consecutively in list\r\n",
    "ts_embs = [ts_emb for ts_emb_batch in ts_emb_batches for ts_emb in ts_emb_batch]\r\n",
    "\r\n",
    "# node_embs = torch.cat(node_embs, dim = 0)\r\n",
    "\r\n",
    "# xs, ys = zip(*TSNE().fit_transform(node_embs.detach().numpy()))\r\n",
    "# plt.scatter(xs, ys)\r\n",
    "# node_embs.shape\r\n",
    "\r\n",
    "ts_embs[0]"
   ]
  },
  {
   "cell_type": "code",
   "execution_count": 38,
   "metadata": {},
   "outputs": [
    {
     "data": {
      "text/plain": "320"
     },
     "execution_count": 38,
     "metadata": {},
     "output_type": "execute_result"
    }
   ],
   "source": [
    "ts_embs = [ts_emb for ts_emb_batch in ts_emb_batches for ts_emb in ts_emb_batch]\r\n",
    "\r\n",
    "# xs, ys = zip(*TSNE().fit_transform(ts_embs[0].detach().numpy()))\r\n",
    "\r\n",
    "# have to create a graph embedding! this is just positions to plot\r\n",
    "#ts_embs[0].detach().numpy()[0]\r\n",
    "\r\n",
    "len(ts_embs)"
   ]
  },
  {
   "cell_type": "code",
   "execution_count": 1,
   "metadata": {},
   "outputs": [
    {
     "name": "stdout",
     "output_type": "stream",
     "text": [
      "Preparing data...\n",
      "Data prepared.\n",
      "Preparing model...\n",
      "Model prepared.\n",
      "Starting TS interpolation experiment...\n",
      "===== Training epoch 001 complete with loss: 9.7701 ====\n",
      "===== Training epoch 002 complete with loss: 4.9095 ====\n",
      "===== Training epoch 003 complete with loss: 4.6381 ====\n",
      "===== Training epoch 004 complete with loss: 4.4627 ====\n",
      "\n",
      "Completed experiment, printing results as TSNE plot...\n",
      "1\n"
     ]
    },
    {
     "data": {
      "image/png": "[encoded data removed]",
      "text/plain": "<Figure size 432x288 with 1 Axes>"
     },
     "metadata": {
      "needs_background": "light"
     },
     "output_type": "display_data"
    }
   ],
   "source": [
    "%run -i experiments/model_learning/what_is_learned"
   ]
  }
 ],
 "metadata": {
  "kernelspec": {
   "display_name": "Python 3.6.13 64-bit (conda)",
   "name": "3d-rdkit"
  },
  "language_info": {
   "codemirror_mode": {
    "name": "ipython",
    "version": 3
   },
   "file_extension": ".py",
   "mimetype": "text/x-python",
   "name": "python",
   "nbconvert_exporter": "python",
   "pygments_lexer": "ipython3",
   "version": "3.6.13"
  },
  "orig_nbformat": 2
 },
 "nbformat": 4,
 "nbformat_minor": 2
}