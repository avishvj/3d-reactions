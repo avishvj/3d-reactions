{
 "cells": [
  {
   "cell_type": "code",
   "execution_count": 2,
   "metadata": {},
   "outputs": [
    {
     "name": "stdout",
     "output_type": "stream",
     "text": [
      "Files removed.\n",
      "Processing...\n"
     ]
    },
    {
     "name": "stderr",
     "output_type": "stream",
     "text": [
      "  0%|          | 10/7581 [00:00<02:23, 52.77it/s]\n"
     ]
    },
    {
     "name": "stdout",
     "output_type": "stream",
     "text": [
      "Done!\n"
     ]
    }
   ],
   "source": [
    "from ts_vae.data_processors.ts_gen_processor import TSGenDataset\r\n",
    "from torch_geometric.data import DataLoader\r\n",
    "import numpy as np\r\n",
    "from ts_vae.utils import remove_files\r\n",
    "remove_files() \r\n",
    "rxns = TSGenDataset(r'data')\r\n",
    "rxns[0]\r\n",
    "###\r\n",
    "tt_split = 0.8\r\n",
    "num_rxns = len(rxns)\r\n",
    "num_train = int(np.floor(tt_split * num_rxns))\r\n",
    "batch_size = 2\r\n",
    "train_loader = DataLoader(rxns[: num_train], batch_size = batch_size)\r\n",
    "test_loader = DataLoader(rxns[num_train: ], batch_size = batch_size)\r\n",
    "###\r\n",
    "batch = next(iter(train_loader))\r\n",
    "test = batch.edge_attr"
   ]
  },
  {
   "cell_type": "code",
   "execution_count": 3,
   "metadata": {},
   "outputs": [
    {
     "data": {
      "text/plain": "tensor([15, 13])"
     },
     "execution_count": 3,
     "metadata": {},
     "output_type": "execute_result"
    }
   ],
   "source": [
    "batch.num_atoms"
   ]
  },
  {
   "cell_type": "code",
   "execution_count": 2,
   "metadata": {},
   "outputs": [
    {
     "name": "stdout",
     "output_type": "stream",
     "text": [
      "Files removed.\n",
      "Processing...\n"
     ]
    },
    {
     "name": "stderr",
     "output_type": "stream",
     "text": [
      "  7%|▋         | 500/7581 [00:01<00:27, 257.24it/s]\n"
     ]
    },
    {
     "name": "stdout",
     "output_type": "stream",
     "text": [
      "Done!\n",
      "Starting ablation experiment...\n",
      "===== Training epoch 001 complete with loss: 2.4137 ====\n",
      "===== Training epoch 002 complete with loss: 2.2651 ====\n",
      "===== Training epoch 003 complete with loss: 2.0993 ====\n",
      "===== Training epoch 004 complete with loss: 2.0366 ====\n",
      "===== Training epoch 005 complete with loss: 2.0354 ====\n",
      "===== Testing epoch 005 complete with loss: 2.1474 ====\n",
      "Completed ablation experiment, use the experiment log to print results.\n"
     ]
    }
   ],
   "source": [
    "from experiments.building_on_mit.meta_eval.meta_eval import ablation_experiment\r\n",
    "from ts_vae.utils import remove_files\r\n",
    "remove_files()\r\n",
    "train_log, test_log = ablation_experiment(tt_split = 0.8, epochs = 5, test_interval = 5, \\\r\n",
    "                                          batch_size = 5, h_nf = 20, n_layers = 1, gnn_depth = 2)\r\n",
    "\r\n",
    "# b=8, h=256, gnn_depth=3, n_layers=2\r\n",
    "# b=20, h=256, n_layers=2, gnn_depth=3 -> 33, 36; e=125s\r\n",
    "# b=20, h=256, n_layers=1, gnn_depth=3 -> 58, 36; e=50s\r\n",
    "# b=20, h=256, n_layers=1, gnn_depth=2 -> 35, 36; e=70s"
   ]
  },
  {
   "cell_type": "code",
   "execution_count": 2,
   "metadata": {},
   "outputs": [
    {
     "data": {
      "text/plain": "(200, 21, 21)"
     },
     "execution_count": 2,
     "metadata": {},
     "output_type": "execute_result"
    }
   ],
   "source": [
    "import torch\r\n",
    "\r\n",
    "# want to create a D_init of [num_train, 21, 21] for plotting\r\n",
    "batched_test_Ds = test_log.epoch_ae_results[0]['D_init']\r\n",
    "test_Ds = torch.cat([D for D in batched_test_Ds], 0)\r\n",
    "test_Ds = test_Ds.detach().cpu().numpy()\r\n",
    "\r\n",
    "# might be easier to view training dynamics this way\r\n",
    "\r\n",
    "test_Ds.shape"
   ]
  }
 ],
 "metadata": {
  "kernelspec": {
   "display_name": "Python 3.6.13 64-bit (conda)",
   "name": "python3613jvsc74a57bd0f4671ad35fdc0609fa675edcd17de5b3092cb55d03f1d9670a78611a41fb18f3"
  },
  "language_info": {
   "codemirror_mode": {
    "name": "ipython",
    "version": 3
   },
   "file_extension": ".py",
   "mimetype": "text/x-python",
   "name": "python",
   "nbconvert_exporter": "python",
   "pygments_lexer": "ipython3",
   "version": "3.6.13"
  },
  "orig_nbformat": 2
 },
 "nbformat": 4,
 "nbformat_minor": 2
}