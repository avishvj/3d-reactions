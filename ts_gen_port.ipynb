{
 "cells": [
  {
   "cell_type": "code",
   "execution_count": 2,
   "metadata": {},
   "outputs": [],
   "source": [
    "from ts_vae.data_processors.ts_gen_processor import TSGenDataset\r\n",
    "from torch_geometric.data import DataLoader\r\n",
    "import numpy as np\r\n",
    "#from ts_vae.utils import remove_files\r\n",
    "#remove_files() \r\n",
    "rxns = TSGenDataset(r'data')"
   ]
  },
  {
   "cell_type": "code",
   "execution_count": 3,
   "metadata": {},
   "outputs": [],
   "source": [
    "tt_split = 0.8\r\n",
    "num_rxns = len(rxns)\r\n",
    "num_train = int(np.floor(tt_split * num_rxns))\r\n",
    "batch_size = 4\r\n",
    "#to_follow = ['edge_index_r', 'edge_index_ts', 'edge_index_p', 'edge_attr_r', 'edge_attr_ts', 'edge_attr_p'\r\n",
    "#                'pos_r', 'pos_ts', 'pos_p', 'x_r', 'x_ts', 'x_p']\r\n",
    "train_loader = DataLoader(rxns[: num_train], batch_size = batch_size)\r\n",
    "test_loader = DataLoader(rxns[num_train: ], batch_size = batch_size)"
   ]
  },
  {
   "cell_type": "code",
   "execution_count": 48,
   "metadata": {},
   "outputs": [],
   "source": [
    "# rxns[0]\r\n",
    "batch = next(iter(train_loader))\r\n",
    "test = batch.edge_attr"
   ]
  },
  {
   "cell_type": "code",
   "execution_count": 10,
   "metadata": {},
   "outputs": [
    {
     "data": {
      "text/plain": "(tensor([[[-0.000,  1.336, -0.589,  0.743, -0.246, -0.781,  1.144,  0.605,\n           -0.272,  1.757],\n          [ 0.416,  0.000, -0.413, -1.241,  0.600,  0.053,  0.644, -0.614,\n            0.296, -1.179],\n          [ 0.761, -0.984,  0.000, -0.041, -1.536, -1.153,  0.148,  2.648,\n           -0.994, -1.507],\n          [ 0.078, -1.251, -0.024,  0.000, -0.948,  0.481,  0.303,  1.155,\n            0.323, -0.738],\n          [-2.637,  0.909, -0.804,  0.468, -0.000, -0.677,  0.869,  0.920,\n            0.361,  0.355],\n          [-0.087, -0.143, -0.773, -0.717, -0.036, -0.000,  1.621,  1.006,\n           -0.588, -0.413],\n          [ 0.266,  1.646,  0.426, -1.019,  0.105,  0.526,  0.000,  0.727,\n            1.849,  1.226],\n          [-0.065,  0.545, -0.059,  2.357,  0.246,  0.317,  1.227,  0.000,\n           -0.444, -0.959],\n          [-1.596, -0.111, -1.336, -0.953, -1.064,  0.287,  1.823, -1.030,\n            0.000, -1.419],\n          [-1.528, -0.183, -0.770, -1.218,  1.358, -1.190,  1.362, -1.277,\n           -0.138,  0.000]],\n \n         [[ 0.000,  0.181,  0.122, -0.326,  0.708, -1.012,  0.503, -0.778,\n            1.560, -1.258],\n          [ 0.175, -0.000,  2.062,  0.196,  0.546, -0.334, -1.553,  0.965,\n            1.728,  0.213],\n          [-0.970,  1.107,  0.000,  0.191, -0.604, -0.034, -1.671,  1.059,\n            2.328, -0.429],\n          [ 1.918, -0.817, -1.003, -0.000,  1.005,  0.268,  0.677, -0.347,\n           -1.470,  0.718],\n          [ 2.401,  1.507, -0.044, -0.083,  0.000,  0.707, -0.536,  0.866,\n            2.697, -0.334],\n          [-0.786, -0.640,  0.749,  1.087, -0.387,  0.000, -2.114,  0.325,\n           -0.545, -0.670],\n          [-0.265,  1.441,  2.126, -2.754, -0.305, -1.249, -0.000, -1.099,\n            0.363, -0.637],\n          [ 0.109,  0.374,  0.057,  0.956, -0.534,  1.143,  0.665, -0.000,\n            1.125, -0.885],\n          [-0.045,  0.315, -0.231, -1.158, -0.347, -1.472, -1.536,  0.572,\n           -0.000,  1.116],\n          [-1.207,  0.889,  0.385, -0.315,  0.428, -0.113, -0.180,  1.276,\n            1.110, -0.000]]]),\n tensor([[[    0.000,     1.784,     0.347,     0.552,     0.060,     0.609,\n               1.309,     0.366,     0.074,     3.088],\n          [    0.173,     0.000,     0.171,     1.541,     0.360,     0.003,\n               0.415,     0.377,     0.088,     1.391],\n          [    0.579,     0.969,     0.000,     0.002,     2.361,     1.330,\n               0.022,     7.009,     0.988,     2.270],\n          [    0.006,     1.566,     0.001,     0.000,     0.898,     0.231,\n               0.092,     1.334,     0.104,     0.544],\n          [    6.956,     0.827,     0.646,     0.219,     0.000,     0.459,\n               0.755,     0.847,     0.130,     0.126],\n          [    0.008,     0.020,     0.597,     0.514,     0.001,     0.000,\n               2.626,     1.012,     0.346,     0.170],\n          [    0.071,     2.708,     0.181,     1.038,     0.011,     0.276,\n               0.000,     0.528,     3.420,     1.503],\n          [    0.004,     0.297,     0.004,     5.557,     0.060,     0.100,\n               1.506,     0.000,     0.198,     0.919],\n          [    2.546,     0.012,     1.784,     0.908,     1.133,     0.082,\n               3.323,     1.062,     0.000,     2.013],\n          [    2.335,     0.034,     0.593,     1.483,     1.845,     1.417,\n               1.855,     1.630,     0.019,     0.000]],\n \n         [[    0.000,     0.033,     0.015,     0.106,     0.502,     1.024,\n               0.253,     0.605,     2.433,     1.583],\n          [    0.031,     0.000,     4.251,     0.039,     0.298,     0.111,\n               2.412,     0.930,     2.986,     0.045],\n          [    0.941,     1.225,     0.000,     0.036,     0.365,     0.001,\n               2.793,     1.121,     5.418,     0.184],\n          [    3.677,     0.667,     1.006,     0.000,     1.010,     0.072,\n               0.459,     0.121,     2.162,     0.515],\n          [    5.766,     2.270,     0.002,     0.007,     0.000,     0.499,\n               0.288,     0.750,     7.276,     0.112],\n          [    0.617,     0.410,     0.561,     1.181,     0.150,     0.000,\n               4.467,     0.105,     0.297,     0.449],\n          [    0.070,     2.078,     4.520,     7.585,     0.093,     1.561,\n               0.000,     1.208,     0.132,     0.406],\n          [    0.012,     0.140,     0.003,     0.914,     0.286,     1.306,\n               0.443,     0.000,     1.265,     0.784],\n          [    0.002,     0.100,     0.054,     1.341,     0.120,     2.167,\n               2.360,     0.328,     0.000,     1.244],\n          [    1.456,     0.790,     0.148,     0.099,     0.183,     0.013,\n               0.032,     1.628,     1.231,     0.000]]]))"
     },
     "execution_count": 10,
     "metadata": {},
     "output_type": "execute_result"
    }
   ],
   "source": [
    "import torch\r\n",
    "n = 10\r\n",
    "a = torch.randn(2, n, n)\r\n",
    "a = a * (1 - torch.eye(n)) # remove self loops\r\n",
    "a, torch.square(a)"
   ]
  },
  {
   "cell_type": "code",
   "execution_count": 1,
   "metadata": {},
   "outputs": [
    {
     "name": "stdout",
     "output_type": "stream",
     "text": [
      "Files removed.\n",
      "Processing...\n"
     ]
    },
    {
     "name": "stderr",
     "output_type": "stream",
     "text": [
      "  1%|▏         | 100/7581 [00:00<00:24, 309.64it/s]\n"
     ]
    },
    {
     "name": "stdout",
     "output_type": "stream",
     "text": [
      "Done!\n",
      "Starting ablation experiment...\n",
      "===== Training epoch 001 complete with loss: 152.5986 ====\n",
      "===== Training epoch 002 complete with loss: 40.7953 ====\n",
      "===== Testing epoch 002 complete with loss: 52.3740 ====\n",
      "Completed ablation experiment, use the experiment log to print results.\n"
     ]
    }
   ],
   "source": [
    "from experiments.building_on_mit.meta_eval.meta_eval import ablation_experiment\r\n",
    "from ts_vae.utils import remove_files\r\n",
    "remove_files()\r\n",
    "# have to use batch_size = 1 right now\r\n",
    "train_log, test_log = ablation_experiment(0.8, 5, 2, 2)"
   ]
  },
  {
   "cell_type": "code",
   "execution_count": 19,
   "metadata": {},
   "outputs": [
    {
     "data": {
      "text/plain": "torch.Size([21, 21])"
     },
     "execution_count": 19,
     "metadata": {},
     "output_type": "execute_result"
    }
   ],
   "source": [
    "# dir(train_log)\r\n",
    "train_log.epoch_ae_results[0]['D_init'][0].shape"
   ]
  }
 ],
 "metadata": {
  "kernelspec": {
   "display_name": "Python 3.6.13 64-bit (conda)",
   "name": "python3613jvsc74a57bd0f4671ad35fdc0609fa675edcd17de5b3092cb55d03f1d9670a78611a41fb18f3"
  },
  "language_info": {
   "codemirror_mode": {
    "name": "ipython",
    "version": 3
   },
   "file_extension": ".py",
   "mimetype": "text/x-python",
   "name": "python",
   "nbconvert_exporter": "python",
   "pygments_lexer": "ipython3",
   "version": "3.6.13"
  },
  "orig_nbformat": 2
 },
 "nbformat": 4,
 "nbformat_minor": 2
}