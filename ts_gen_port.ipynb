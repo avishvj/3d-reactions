{
  "cells": [
    {
      "cell_type": "code",
      "execution_count": 18,
      "metadata": {
        "gather": {
          "logged": 1627508054875
        }
      },
      "outputs": [],
      "source": [
        "from ts_vae.data_processors.ts_gen_processor import TSGenDataset\n",
        "from torch_geometric.data import DataLoader\n",
        "import torch\n",
        "import numpy as np\n",
        "# from ts_vae.utils import remove_files\n",
        "# remove_files() \n",
        "rxns = TSGenDataset(r'data')\n",
        "rxns[0]\n",
        "###\n",
        "tt_split = 0.889\n",
        "num_rxns = len(rxns)\n",
        "num_train = int(np.floor(tt_split * num_rxns))\n",
        "batch_size = 2\n",
        "train_loader = DataLoader(rxns[: num_train], batch_size = batch_size)\n",
        "test_loader = DataLoader(rxns[num_train: ], batch_size = batch_size)\n",
        "device = torch.device(\"cuda:0\" if torch.cuda.is_available() else \"cpu\")\n",
        "#for inputs in train_loader:\n",
        "#    inputs = inputs.to(device)\n",
        "###\n",
        "batch = next(iter(train_loader))\n",
        "test = batch.edge_attr"
      ]
    },
    {
      "cell_type": "code",
      "execution_count": 10,
      "metadata": {
        "gather": {
          "logged": 1627508349029
        }
      },
      "outputs": [],
      "source": [
        "import torch\n",
        "torch.cuda.empty_cache()"
      ]
    },
    {
      "cell_type": "code",
      "execution_count": 11,
      "metadata": {},
      "outputs": [
        {
          "name": "stdout",
          "output_type": "stream",
          "text": [
            "Starting ablation experiment...\n",
            "===== Training epoch 001 complete with loss: 2.0164 ====\n",
            "===== Training epoch 002 complete with loss: 2.0128 ====\n",
            "===== Training epoch 003 complete with loss: 2.0079 ====\n",
            "===== Training epoch 004 complete with loss: 1.9958 ====\n",
            "===== Training epoch 005 complete with loss: 1.9829 ====\n",
            "===== Training epoch 006 complete with loss: 1.9769 ====\n",
            "===== Training epoch 007 complete with loss: 1.9755 ====\n",
            "===== Training epoch 008 complete with loss: 1.9729 ====\n",
            "===== Training epoch 009 complete with loss: 1.9721 ====\n",
            "===== Training epoch 010 complete with loss: 1.9715 ====\n",
            "===== Testing epoch 010 complete with loss: 1.9453 ====\n",
            "Completed ablation experiment, use the experiment log to print results.\n"
          ]
        }
      ],
      "source": [
        "from experiments.building_on_mit.meta_eval.meta_eval import ablation_experiment\n",
        "# from ts_vae.utils import remove_files\n",
        "# remove_files()\n",
        "train_log, test_log = ablation_experiment(tt_split = 0.889, epochs = 10, test_interval = 10, \\\n",
        "                                          batch_size = 8, h_nf = 256, n_layers = 2, gnn_depth = 3)\n",
        "\n",
        "# full params for 20 epochs, ran everything, took 2500s, test_interval=2 worked first time not on second; ~2m for each epoch\n",
        "\n",
        "# tt_split=0.889, gives 842 test rxns\n",
        "# batch_size = 8, h_nf = 128, n_layers = 1, gnn_depth = 2  ==> 5 epochs=10m\n",
        "# batch_size = 32, h_nf = 128, n_layers = 2, gnn_depth = 3 ==> \n",
        "\n",
        "# no mlp, loss is worse by ~0.15 and get stranger D_inits\n",
        "# no tranpose: almost identical results\n",
        "\n",
        "# gnn + dw, no recon, train on D_init: e=10,b=32,h/n/g=standard\n",
        "#   - just init: \n",
        "#       2,3 --> one peak at ~7.5\n",
        "#   - init + gnn w node: e=10-time=90s; e=20, time=180s\n",
        "#       6 --> one enormous peak at ~7.5, extremely similar matrices\n",
        "#       7 --> more of a distr but weird\n",
        "#       8 --> e=20: much better shape (bimodal) but shifted to 5-7.5\n",
        "#       9 --> e=20: back to enormous peak at ~7.5\n",
        "#   - init + gnn w edge: e=10-time=200s\n",
        "#      10 --> time=200s: bimodal but v flat and wide from 1-8A, matrices more different\n",
        "#      11 --> e=20-time=400s: trimodal (two big one small) from around 4-10A\n",
        "#      12 --> b=8-time=260s: trimodal (two big one small) from around 4-10A\n",
        "#      notes: this change causes more diff matrices and bimodality\n",
        "#   - init + gnn w edge, node\n",
        "#       4,5 --> more bimodal (like gt), bigger peak ~6.5, smaller peak ~8.7\n",
        "#       13 --> time=290s: unimodal ~1 (much nearer GT) but long low tail to 8A\n",
        "#       14 --> b=8-time=380s: unimodal ~5.8, low and flat, gaussian-looking\n",
        "#       15 --> b=8,e=20-time=760s: similar to 14 but more bimodal (and weird)\n",
        "#   - other notes: training decreasing from ~5.3 -> ~3.7\n",
        "# gnn + dw + recon no opt, train on X->D: e=10,b=8,h/n/g=standard\n",
        "#   - gram + low rank, no opt: \n",
        "#       16 --> flat like a uniform from 3-7A\n",
        "#       17 --> unimodal ~4A from 2-6A, matrices looking double what they should be\n",
        "#       with only f_i not f_j: bottom triangle is double\n",
        "#       without symmetrise, all elements in matrix are v similar\n",
        "#       trying with -2 in d_init_const\n",
        "#       18 --> e=20-time=1000s: with -2 d_init_const, unimodal produced results ~3.5A\n",
        "#       19 --> e=20-time= : with -3 d_init_const, v similar matrices\n",
        "# gnn + dw + recon no opt, train on X: e=20,b=8,h/n/g=standard\n",
        "#       20 --> same as 19 with diff loss and -2.5 const but getting more differences in matrix [am i?]\n",
        "#       21 --> e=10 but same as 20 w -2 const, better range ~1.5-2.5A but unimodal, v similar matrices\n",
        "#       22 --> e=10 but same as 2- w -2.25 const, range ~2.5-3A and unimodal-ish, v similar matrices\n",
        "#       23 --> time=1100s: -3 const, far too small\n",
        "#       24 --> e=10-time=530s: unimodal ~3A from 2-5A\n",
        "#       25 --> const -2.3: unimodal ~2A from 1.5-2.5A\n",
        "\n"
      ]
    },
    {
      "cell_type": "code",
      "execution_count": 12,
      "metadata": {},
      "outputs": [],
      "source": [
        "file_name = '26.npy'"
      ]
    },
    {
      "cell_type": "code",
      "execution_count": 13,
      "metadata": {},
      "outputs": [],
      "source": [
        "from rdkit import Chem\n",
        "import torch\n",
        "import numpy as np\n",
        "import matplotlib.pyplot as plt\n",
        "import seaborn as sns\n",
        "%matplotlib inline\n",
        "\n",
        "base_folder = r'data/raw/' # normal\n",
        "test_ts_file = base_folder + 'test_ts.sdf'\n",
        "reactant_file = base_folder + 'test_reactants.sdf'\n",
        "product_file = base_folder + 'test_products.sdf'\n",
        "test_r = Chem.SDMolSupplier(reactant_file, removeHs=False, sanitize=False)\n",
        "test_r = [x for x in test_r]\n",
        "test_ts = Chem.SDMolSupplier(test_ts_file, removeHs=False, sanitize=False)\n",
        "test_ts = [ts for ts in test_ts]\n",
        "test_p = Chem.SDMolSupplier(product_file, removeHs=False, sanitize=False)\n",
        "test_p = [x for x  in test_p]\n",
        "\n",
        "# want to create a D_init of [num_train, 21, 21] for plotting\n",
        "batched_test_Ds = test_log.epoch_ae_results[-1]['D_init']\n",
        "# test_Ds = torch.cat([D for D in batched_test_Ds], 0)\n",
        "# test_Ds = test_Ds.detach().cpu().numpy()\n",
        "test_Ds = np.concatenate([D for D in batched_test_Ds], 0)\n",
        "\n",
        "# save and load\n",
        "d_folder = 'experiments/building_on_mit/meta_eval/d_inits/'\n",
        "D_init = np.load(d_folder + 'mit_best.npy')\n",
        "np.save(d_folder + file_name, test_Ds)\n",
        "D_init1 = np.load(d_folder + file_name)\n",
        "d_inits = []\n",
        "d_inits.append(D_init1)\n",
        "num_d_inits = len(d_inits)"
      ]
    },
    {
      "cell_type": "code",
      "execution_count": 14,
      "metadata": {},
      "outputs": [
        {
          "name": "stdout",
          "output_type": "stream",
          "text": [
            "(842, 21, 21) (842, 21, 21)\n",
            "MIT: \n",
            " [[0.    1.852 2.265 1.473 3.435 ... 1.202 0.908 3.458 2.612 2.665]\n",
            " [1.852 0.    1.214 2.46  3.804 ... 0.942 2.191 2.134 2.124 2.606]\n",
            " [2.265 1.214 0.    1.111 2.585 ... 2.049 3.314 0.937 0.939 2.334]\n",
            " [1.473 2.46  1.111 0.    1.005 ... 2.32  3.076 2.319 2.279 0.955]\n",
            " [3.435 3.804 2.585 1.005 0.    ... 5.116 4.847 3.154 2.631 2.207]\n",
            " ...\n",
            " [1.202 0.942 2.049 2.32  5.116 ... 0.    2.087 2.899 2.841 2.623]\n",
            " [0.908 2.191 3.314 3.076 4.847 ... 2.087 0.    4.832 4.329 2.929]\n",
            " [3.458 2.134 0.937 2.319 3.154 ... 2.899 4.832 0.    2.095 2.658]\n",
            " [2.612 2.124 0.939 2.279 2.631 ... 2.841 4.329 2.095 0.    3.261]\n",
            " [2.665 2.606 2.334 0.955 2.207 ... 2.623 2.929 2.658 3.261 0.   ]]\n",
            "Mine: \n",
            " [[0.000e+00 8.026e-14 8.616e-14 8.653e-14 8.961e-14 ... 8.177e-14\n",
            "  2.755e-14 8.988e-14 8.824e-14 8.831e-14]\n",
            " [8.026e-14 0.000e+00 2.914e-14 8.661e-14 8.994e-14 ... 8.122e-14\n",
            "  8.575e-14 8.573e-14 8.575e-14 8.826e-14]\n",
            " [8.616e-14 2.914e-14 0.000e+00 2.946e-14 8.711e-14 ... 8.717e-14\n",
            "  8.987e-14 2.757e-14 2.757e-14 8.638e-14]\n",
            " [8.653e-14 8.661e-14 2.946e-14 0.000e+00 2.814e-14 ... 8.860e-14\n",
            "  8.988e-14 8.662e-14 8.636e-14 2.772e-14]\n",
            " [8.961e-14 8.994e-14 8.711e-14 2.814e-14 0.000e+00 ... 9.088e-14\n",
            "  9.127e-14 8.959e-14 8.846e-14 8.545e-14]\n",
            " ...\n",
            " [8.177e-14 8.122e-14 8.717e-14 8.860e-14 9.088e-14 ... 0.000e+00\n",
            "  8.580e-14 8.990e-14 8.961e-14 8.883e-14]\n",
            " [2.755e-14 8.575e-14 8.987e-14 8.988e-14 9.127e-14 ... 8.580e-14\n",
            "  0.000e+00 9.154e-14 9.118e-14 9.031e-14]\n",
            " [8.988e-14 8.573e-14 2.757e-14 8.662e-14 8.959e-14 ... 8.990e-14\n",
            "  9.154e-14 0.000e+00 8.409e-14 8.890e-14]\n",
            " [8.824e-14 8.575e-14 2.757e-14 8.636e-14 8.846e-14 ... 8.961e-14\n",
            "  9.118e-14 8.409e-14 0.000e+00 9.014e-14]\n",
            " [8.831e-14 8.826e-14 8.638e-14 2.772e-14 8.545e-14 ... 8.883e-14\n",
            "  9.031e-14 8.890e-14 9.014e-14 0.000e+00]]\n",
            "GT: \n",
            " [[0.    1.775 2.646 3.076 4.023 ... 1.54  1.094 3.608 2.859 3.026]\n",
            " [1.775 0.    1.421 2.458 3.552 ... 1.022 2.203 2.038 2.057 2.624]\n",
            " [2.646 1.421 0.    1.516 2.38  ... 2.028 3.312 1.095 1.091 2.235]\n",
            " [3.076 2.458 1.516 0.    1.196 ... 2.44  4.046 2.122 2.147 1.11 ]\n",
            " [4.023 3.552 2.38  1.196 0.    ... 3.611 5.002 2.82  2.609 2.015]\n",
            " ...\n",
            " [1.54  1.022 2.028 2.44  3.611 ... 0.    2.207 2.7   2.795 2.168]\n",
            " [1.094 2.203 3.312 4.046 5.002 ... 2.207 0.    4.15  3.392 4.044]\n",
            " [3.608 2.038 1.095 2.122 2.82  ... 2.7   4.15  0.    1.777 2.788]\n",
            " [2.859 2.057 1.091 2.147 2.609 ... 2.795 3.392 1.777 0.    3.057]\n",
            " [3.026 2.624 2.235 1.11  2.015 ... 2.168 4.044 2.788 3.057 0.   ]]\n"
          ]
        }
      ],
      "source": [
        "print(D_init.shape, D_init1.shape)\n",
        "np.set_printoptions(precision = 3, threshold = 4, edgeitems = 5, suppress = False)\n",
        "i = 1\n",
        "num_atoms = test_ts[i].GetNumAtoms()\n",
        "print(\"MIT: \\n\", D_init[i][0:num_atoms, 0:num_atoms])\n",
        "print(\"Mine: \\n\", D_init1[i][0:num_atoms, 0:num_atoms])\n",
        "print(\"GT: \\n\", Chem.Get3DDistanceMatrix(test_ts[i]))"
      ]
    },
    {
      "cell_type": "code",
      "execution_count": 6,
      "metadata": {},
      "outputs": [
        {
          "data": {
            "text/plain": "(tensor([[0.000, 0.207, 1.894, 1.932,  ..., 1.944, 1.945, 1.938, 1.942],\n         [0.207, 0.000, 1.922, 1.962,  ..., 1.972, 1.973, 1.962, 1.969],\n         [1.894, 1.922, 0.000, 0.349,  ..., 1.994, 1.991, 1.982, 1.983],\n         [1.932, 1.962, 0.349, 0.000,  ..., 2.006, 2.006, 2.015, 2.018],\n         ...,\n         [1.944, 1.972, 1.994, 2.006,  ..., 0.000, 2.003, 2.019, 2.024],\n         [1.945, 1.973, 1.991, 2.006,  ..., 2.003, 0.000, 2.026, 2.019],\n         [1.938, 1.962, 1.982, 2.015,  ..., 2.019, 2.026, 0.000, 2.004],\n         [1.942, 1.969, 1.983, 2.018,  ..., 2.024, 2.019, 2.004, 0.000]]),\n tensor([[0.000, 1.291, 1.711, 2.515,  ..., 4.405, 4.270, 3.113, 3.664],\n         [1.291, 0.000, 1.801, 3.104,  ..., 4.515, 4.344, 2.636, 2.967],\n         [1.711, 1.801, 0.000, 1.541,  ..., 3.092, 2.638, 2.199, 2.239],\n         [2.515, 3.104, 1.541, 0.000,  ..., 2.257, 2.201, 2.629, 3.109],\n         ...,\n         [4.405, 4.515, 3.092, 2.257,  ..., 0.000, 1.774, 2.480, 2.976],\n         [4.270, 4.344, 2.638, 2.201,  ..., 1.774, 0.000, 3.069, 2.549],\n         [3.113, 2.636, 2.199, 2.629,  ..., 2.480, 3.069, 0.000, 1.779],\n         [3.664, 2.967, 2.239, 3.109,  ..., 2.976, 2.549, 1.779, 0.000]],\n        dtype=torch.float64),\n tensor(166.921, dtype=torch.float64))"
          },
          "execution_count": 6,
          "metadata": {},
          "output_type": "execute_result"
        }
      ],
      "source": [
        "from rdkit import Chem\n",
        "import torch\n",
        "\n",
        "def get_euc_dist(X):\n",
        "    D_sq = torch.square(torch.unsqueeze(X, 1) - torch.unsqueeze(X, 2))\n",
        "    D = torch.sum(D_sq, 3) + 1e-2\n",
        "    return D\n",
        "\n",
        "def sequence_mask(sizes, max_size = 21, dtype = torch.bool, device = 'cpu'):\n",
        "    row_vector = torch.arange(0, max_size, 1).to(device)\n",
        "    matrix = torch.unsqueeze(sizes, dim = -1)\n",
        "    mask = row_vector < matrix\n",
        "    mask.type(dtype)\n",
        "    return mask\n",
        "\n",
        "def loss_dist(X_pred, X_gt, mask_D):\n",
        "    D_pred = mask_D * get_euc_dist(X_pred)\n",
        "    D_gt = mask_D * get_euc_dist(X_gt)\n",
        "    loss_dist_all = mask_D * torch.abs(D_pred - D_gt)\n",
        "    loss_dist = torch.sum(loss_dist_all) / torch.sum(mask_D)\n",
        "    return loss_dist\n",
        "\n",
        "i = 8\n",
        "base_folder = r'data/raw/' # normal\n",
        "test_ts_file = base_folder + 'test_ts.sdf'\n",
        "test_ts = Chem.SDMolSupplier(test_ts_file, removeHs=False, sanitize=False)\n",
        "test_ts = [ts for ts in test_ts]\n",
        "num_atoms = test_ts[i].GetNumAtoms()\n",
        "D_gt = torch.from_numpy(Chem.Get3DDistanceMatrix(test_ts[i]))\n",
        "\n",
        "d_folder = 'experiments/building_on_mit/meta_eval/d_inits/'\n",
        "D_init1 = np.load(d_folder + file_name)\n",
        "D_pred = torch.from_numpy(D_init1[i][0:num_atoms, 0:num_atoms])\n",
        "\n",
        "def loss_dist(D_pred, D_gt):\n",
        "    loss_dist_all = torch.abs(D_pred - D_gt)\n",
        "    loss_dist = torch.sum(loss_dist_all)\n",
        "    return loss_dist\n",
        "\n",
        "torch.set_printoptions(precision=3, threshold=5, edgeitems=4, sci_mode=None)\n",
        "D_pred, D_gt, loss_dist(D_pred, D_gt)"
      ]
    },
    {
      "cell_type": "code",
      "execution_count": 15,
      "metadata": {},
      "outputs": [],
      "source": [
        "# lists for plotting\n",
        "gt, best_init, lin_approx = [], [], []\n",
        "d_init_lists = [[] for i in range(num_d_inits)]\n",
        "\n",
        "for idx in range(len(test_ts)):\n",
        "\n",
        "    # num_atoms + mask for reaction core\n",
        "    num_atoms = test_ts[idx].GetNumAtoms()\n",
        "    core_mask = (Chem.GetAdjacencyMatrix(test_p[idx]) + Chem.GetAdjacencyMatrix(test_r[idx])) == 1\n",
        "\n",
        "    # main 3\n",
        "    gt.append(np.ravel(Chem.Get3DDistanceMatrix(test_ts[idx]) * core_mask))\n",
        "    best_init.append(np.ravel(D_init[idx][0:num_atoms, 0:num_atoms] * core_mask))\n",
        "    lin_approx.append(np.ravel((Chem.Get3DDistanceMatrix(test_r[idx]) + Chem.Get3DDistanceMatrix(test_p[idx])) / 2 * core_mask))\n",
        "\n",
        "    # other d_inits\n",
        "    for j, d_init_list in enumerate(d_init_lists):\n",
        "        d_init_lists[j].append(np.ravel(d_inits[j][idx][0:num_atoms, 0:num_atoms]*core_mask))\n",
        "\n",
        "# make plottable\n",
        "all_ds = [gt, best_init, lin_approx, *d_init_lists]\n",
        "all_ds = [np.concatenate(ds).ravel() for ds in all_ds]\n",
        "# all_ds = [ds[ds != 0] for ds in all_ds]"
      ]
    },
    {
      "cell_type": "code",
      "execution_count": 16,
      "metadata": {},
      "outputs": [
        {
          "name": "stdout",
          "output_type": "stream",
          "text": [
            "Len of each list pre removing zeros: 153968 153968 153968 153968 \n",
            "Len of each list post removing zeros: 4346 4346 4346 2140 \n"
          ]
        }
      ],
      "source": [
        "# lists for plotting\n",
        "gt, best_init, lin_approx = [], [], []\n",
        "d_init_lists = [[] for i in range(num_d_inits)]\n",
        "\n",
        "for idx in range(len(test_ts)):\n",
        "\n",
        "    # num_atoms + mask for reaction core\n",
        "    num_atoms = test_ts[idx].GetNumAtoms()\n",
        "    core_mask = (Chem.GetAdjacencyMatrix(test_p[idx]) + Chem.GetAdjacencyMatrix(test_r[idx])) == 1\n",
        "\n",
        "    # main 3\n",
        "    gt.append(np.ravel(Chem.Get3DDistanceMatrix(test_ts[idx]) * core_mask))\n",
        "    best_init.append(np.ravel(D_init[idx][0:num_atoms, 0:num_atoms] * core_mask))\n",
        "    lin_approx.append(np.ravel((Chem.Get3DDistanceMatrix(test_r[idx]) + Chem.Get3DDistanceMatrix(test_p[idx])) / 2 * core_mask))\n",
        "\n",
        "    # other d_inits\n",
        "    for j, d_init_list in enumerate(d_init_lists):\n",
        "        d_init_lists[j].append(np.ravel(d_inits[j][idx][0:num_atoms, 0:num_atoms]*core_mask))\n",
        "\n",
        "# NOTE: fine up to this point, all lengths match\n",
        "\n",
        "# make plottable\n",
        "all_ds = [gt, best_init, lin_approx, *d_init_lists]\n",
        "all_ds = [np.concatenate(ds).ravel() for ds in all_ds]\n",
        "\n",
        "# NOTE: fine up to this point, all lengths match\n",
        "\n",
        "prezero_msg = f\"Len of each list pre removing zeros: \"\n",
        "for ds in all_ds:\n",
        "    prezero_msg += f\"{len(ds)} \"\n",
        "print(prezero_msg)\n",
        "\n",
        "all_ds = [ds[ds != 0] for ds in all_ds] # only keep non-zero values\n",
        "# all_ds = [ds[ds == 0] for ds in all_ds]\n",
        "\n",
        "postzero_msg = f\"Len of each list post removing zeros: \"\n",
        "for ds in all_ds:\n",
        "    postzero_msg += f\"{len(ds)} \"\n",
        "print(postzero_msg)\n",
        "\n",
        "ds_dict = {'gt': (all_ds[0], 'Ground Truth'), 'best_init': (all_ds[1], 'MIT D_init'),\\\n",
        "     'lin_approx': (all_ds[2], 'Linear Approximation')}\n",
        "base_ds_counter = len(ds_dict)\n",
        "for k in range(len(d_init_lists)):\n",
        "    name = f'D_init{k+1}'\n",
        "    ds_dict[name] = (all_ds[base_ds_counter + k], name)"
      ]
    },
    {
      "cell_type": "code",
      "execution_count": 17,
      "metadata": {},
      "outputs": [
        {
          "name": "stderr",
          "output_type": "stream",
          "text": [
            "/anaconda/envs/azureml_py38/lib/python3.8/site-packages/seaborn/distributions.py:2557: FutureWarning: `distplot` is a deprecated function and will be removed in a future version. Please adapt your code to use either `displot` (a figure-level function with similar flexibility) or `kdeplot` (an axes-level function for kernel density plots).\n",
            "  warnings.warn(msg, FutureWarning)\n",
            "/anaconda/envs/azureml_py38/lib/python3.8/site-packages/seaborn/distributions.py:2557: FutureWarning: `distplot` is a deprecated function and will be removed in a future version. Please adapt your code to use either `displot` (a figure-level function with similar flexibility) or `kdeplot` (an axes-level function for kernel density plots).\n",
            "  warnings.warn(msg, FutureWarning)\n",
            "/anaconda/envs/azureml_py38/lib/python3.8/site-packages/seaborn/distributions.py:2557: FutureWarning: `distplot` is a deprecated function and will be removed in a future version. Please adapt your code to use either `displot` (a figure-level function with similar flexibility) or `kdeplot` (an axes-level function for kernel density plots).\n",
            "  warnings.warn(msg, FutureWarning)\n",
            "/anaconda/envs/azureml_py38/lib/python3.8/site-packages/seaborn/distributions.py:2557: FutureWarning: `distplot` is a deprecated function and will be removed in a future version. Please adapt your code to use either `displot` (a figure-level function with similar flexibility) or `kdeplot` (an axes-level function for kernel density plots).\n",
            "  warnings.warn(msg, FutureWarning)\n"
          ]
        },
        {
          "data": {
            "image/png": "[encoded data removed]",
            "text/plain": "<Figure size 864x648 with 1 Axes>"
          },
          "metadata": {
            "needs_background": "light"
          },
          "output_type": "display_data"
        }
      ],
      "source": [
        "fig, ax = plt.subplots(figsize=(12,9))\n",
        "\n",
        "num_to_plot = len(ds_dict)\n",
        "cols = sns.color_palette(\"Set2\", num_to_plot)\n",
        "\n",
        "# keys: 'gt', 'lin_approx', 'best_init', f'D_init{i}'\n",
        "# no_print = ['lin_approx']\n",
        "\n",
        "for i, key in enumerate(ds_dict.keys()):\n",
        "    #if key in no_print:\n",
        "    #    continue\n",
        "    sns.distplot(ds_dict[key][0], color=cols[i], kde_kws={\"lw\": 3, \"label\": ds_dict[key][1]}, hist=False)\n",
        "\n",
        "ax.legend(loc='upper right')\n",
        "ax.legend(fontsize=12)\n",
        "ax.set_ylabel('Density', fontsize=22)\n",
        "ax.set_xlabel(r'Distance ($\\AA$)', fontsize=22)\n",
        "ax.tick_params(axis='both', which='major', labelsize=22)\n",
        "ax.spines[\"top\"].set_visible(False)    \n",
        "ax.spines[\"bottom\"].set_visible(True)    \n",
        "ax.spines[\"right\"].set_visible(False)    \n",
        "ax.spines[\"left\"].set_visible(True) "
      ]
    },
    {
      "cell_type": "markdown",
      "metadata": {},
      "source": [
        "## Ensemble\n",
        "\n",
        "Average all produced $D_{inits}s$ then plot."
      ]
    },
    {
      "cell_type": "code",
      "execution_count": 82,
      "metadata": {},
      "outputs": [
        {
          "data": {
            "text/plain": "((4346,), (4346,))"
          },
          "execution_count": 82,
          "metadata": {},
          "output_type": "execute_result"
        }
      ],
      "source": [
        "ds_dict['D_init1'][0].shape, ds_dict['best_init'][0].shape"
      ]
    },
    {
      "cell_type": "code",
      "execution_count": 83,
      "metadata": {},
      "outputs": [],
      "source": [
        "# averaged ensemble of d_inits\n",
        "ensemble_ds = []\n",
        "d_inits\n",
        "for i in range(len(ds_dict['best_init'][0])):\n",
        "    ensemble_d = 0\n",
        "    for j in range(1, num_d_inits + 1):\n",
        "        ensemble_d += ds_dict[f'D_init{j}'][0][i]\n",
        "    ensemble_d /= num_d_inits\n",
        "    ensemble_ds.append(ensemble_d)\n",
        "\n",
        "ds_dict['ens'] = (ensemble_ds, \"Avg Ensemble D_init\")"
      ]
    },
    {
      "cell_type": "code",
      "execution_count": 84,
      "metadata": {},
      "outputs": [
        {
          "name": "stderr",
          "output_type": "stream",
          "text": [
            "/anaconda/envs/azureml_py38/lib/python3.8/site-packages/seaborn/distributions.py:2557: FutureWarning: `distplot` is a deprecated function and will be removed in a future version. Please adapt your code to use either `displot` (a figure-level function with similar flexibility) or `kdeplot` (an axes-level function for kernel density plots).\n",
            "  warnings.warn(msg, FutureWarning)\n",
            "/anaconda/envs/azureml_py38/lib/python3.8/site-packages/seaborn/distributions.py:2557: FutureWarning: `distplot` is a deprecated function and will be removed in a future version. Please adapt your code to use either `displot` (a figure-level function with similar flexibility) or `kdeplot` (an axes-level function for kernel density plots).\n",
            "  warnings.warn(msg, FutureWarning)\n",
            "/anaconda/envs/azureml_py38/lib/python3.8/site-packages/seaborn/distributions.py:2557: FutureWarning: `distplot` is a deprecated function and will be removed in a future version. Please adapt your code to use either `displot` (a figure-level function with similar flexibility) or `kdeplot` (an axes-level function for kernel density plots).\n",
            "  warnings.warn(msg, FutureWarning)\n"
          ]
        },
        {
          "data": {
            "image/png": "[encoded data removed]",
            "text/plain": "<Figure size 864x648 with 1 Axes>"
          },
          "metadata": {
            "needs_background": "light"
          },
          "output_type": "display_data"
        }
      ],
      "source": [
        "fig, ax = plt.subplots(figsize=(12,9))\n",
        "\n",
        "num_to_plot = len(ds_dict)\n",
        "cols = sns.color_palette(\"Set2\", num_to_plot)\n",
        "\n",
        "# keys: 'gt', 'lin_approx', 'best_init', f'D_init{i}'\n",
        "no_print = ['lin_approx']\n",
        "print_d_init = False\n",
        "if not print_d_init:\n",
        "    for j in range(1, num_d_inits + 1):\n",
        "        no_print.append(f'D_init{j}')\n",
        "\n",
        "for i, key in enumerate(ds_dict.keys()):\n",
        "    if key in no_print:\n",
        "        continue\n",
        "    sns.distplot(ds_dict[key][0], color=cols[i], kde_kws={\"lw\": 3, \"label\": ds_dict[key][1]}, hist=False)\n",
        "\n",
        "ax.legend(loc='upper right')\n",
        "ax.legend(fontsize=12)\n",
        "ax.set_ylabel('Density', fontsize=22)\n",
        "ax.set_xlabel(r'Distance ($\\AA$)', fontsize=22)\n",
        "ax.tick_params(axis='both', which='major', labelsize=22)\n",
        "ax.spines[\"top\"].set_visible(False)    \n",
        "ax.spines[\"bottom\"].set_visible(True)    \n",
        "ax.spines[\"right\"].set_visible(False)    \n",
        "ax.spines[\"left\"].set_visible(True) "
      ]
    }
  ],
  "metadata": {
    "kernelspec": {
      "display_name": "3d-rdkit",
      "language": "python",
      "name": "3d-rdkit"
    },
    "language_info": {
      "codemirror_mode": {
        "name": "ipython",
        "version": 3
      },
      "file_extension": ".py",
      "mimetype": "text/x-python",
      "name": "python",
      "nbconvert_exporter": "python",
      "pygments_lexer": "ipython3",
      "version": "3.8.1"
    },
    "orig_nbformat": 3
  },
  "nbformat": 4,
  "nbformat_minor": 2
}