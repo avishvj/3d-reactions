{
  "cells": [
    {
      "cell_type": "code",
      "execution_count": 18,
      "metadata": {
        "gather": {
          "logged": 1627508054875
        }
      },
      "outputs": [],
      "source": [
        "from ts_vae.data_processors.ts_gen_processor import TSGenDataset\n",
        "from torch_geometric.data import DataLoader\n",
        "import torch\n",
        "import numpy as np\n",
        "# from ts_vae.utils import remove_files\n",
        "# remove_files() \n",
        "rxns = TSGenDataset(r'data')\n",
        "rxns[0]\n",
        "###\n",
        "tt_split = 0.889\n",
        "num_rxns = len(rxns)\n",
        "num_train = int(np.floor(tt_split * num_rxns))\n",
        "batch_size = 2\n",
        "train_loader = DataLoader(rxns[: num_train], batch_size = batch_size)\n",
        "test_loader = DataLoader(rxns[num_train: ], batch_size = batch_size)\n",
        "device = torch.device(\"cuda:0\" if torch.cuda.is_available() else \"cpu\")\n",
        "#for inputs in train_loader:\n",
        "#    inputs = inputs.to(device)\n",
        "###\n",
        "batch = next(iter(train_loader))\n",
        "test = batch.edge_attr"
      ]
    },
    {
      "cell_type": "code",
      "execution_count": 1,
      "metadata": {
        "gather": {
          "logged": 1627508349029
        }
      },
      "outputs": [],
      "source": [
        "import torch\n",
        "torch.cuda.empty_cache()"
      ]
    },
    {
      "cell_type": "code",
      "execution_count": 2,
      "metadata": {},
      "outputs": [
        {
          "name": "stdout",
          "output_type": "stream",
          "text": [
            "Starting ablation experiment...\n",
            "===== Training epoch 001 complete with loss: 1.9572 ====\n",
            "===== Training epoch 002 complete with loss: 1.9321 ====\n",
            "===== Training epoch 003 complete with loss: 1.9641 ====\n",
            "===== Training epoch 004 complete with loss: 1.9953 ====\n",
            "===== Training epoch 005 complete with loss: 2.0544 ====\n",
            "===== Training epoch 006 complete with loss: 2.0787 ====\n",
            "===== Training epoch 007 complete with loss: 2.0790 ====\n",
            "===== Training epoch 008 complete with loss: 2.0811 ====\n",
            "===== Training epoch 009 complete with loss: 2.0779 ====\n",
            "===== Training epoch 010 complete with loss: 2.0758 ====\n",
            "===== Testing epoch 010 complete with loss: 2.0703 ====\n",
            "Completed ablation experiment, use the experiment log to print results.\n"
          ]
        }
      ],
      "source": [
        "from experiments.building_on_mit.meta_eval.meta_eval import ablation_experiment\n",
        "# from ts_vae.utils import remove_files\n",
        "# remove_files()\n",
        "train_log, test_log = ablation_experiment(tt_split = 0.889, epochs = 10, test_interval = 10, \\\n",
        "                                          batch_size = 8, h_nf = 256, n_layers = 2, gnn_depth = 3)\n",
        "\n",
        "# full params for 20 epochs, ran everything, took 2500s, test_interval=2 worked first time not on second; ~2m for each epoch\n",
        "\n",
        "# tt_split=0.889, gives 842 test rxns\n",
        "# batch_size = 8, h_nf = 128, n_layers = 1, gnn_depth = 2  ==> 5 epochs=10m\n",
        "# batch_size = 32, h_nf = 128, n_layers = 2, gnn_depth = 3 ==> \n",
        "\n",
        "# no mlp, loss is worse by ~0.15 and get stranger D_inits\n",
        "# no tranpose: almost identical results\n",
        "\n",
        "# gnn + dw, no recon, train on DS: e=10,b=32,h/n/g=standard\n",
        "#   - just init: \n",
        "#       2,3 --> one peak at ~7.5\n",
        "#   - init + gnn w node: e=10-time=90s; e=20, time=180s\n",
        "#       6 --> one enormous peak at ~7.5, extremely similar matrices\n",
        "#       7 --> more of a distr but weird\n",
        "#       8 --> e=20: much better shape (bimodal) but shifted to 5-7.5 # NOTE: messed this up and made 38\n",
        "#       9 --> e=20: back to enormous peak at ~7.5\n",
        "#   - init + gnn w edge: e=10-time=200s\n",
        "#      10 --> time=200s: bimodal but v flat and wide from 1-8A, matrices more different\n",
        "#      11 --> e=20-time=400s: trimodal (two big one small) from around 4-10A # NOTE: messed this up and made 38\n",
        "#      12 --> b=8-time=260s: trimodal (two big one small) from around 4-10A\n",
        "#      notes: this change causes more diff matrices and bimodality\n",
        "#   - init + gnn w edge, node\n",
        "#       4,5 --> more bimodal (like gt), bigger peak ~6.5, smaller peak ~8.7\n",
        "#       13 --> time=290s: unimodal ~1 (much nearer GT) but long low tail to 8A\n",
        "#       14 --> b=8-time=380s: unimodal ~5.8, low and flat, gaussian-looking\n",
        "#       15 --> b=8,e=20-time=760s: similar to 14 but more bimodal (and weird)\n",
        "#   - other notes: training decreasing from ~5.3 -> ~3.7\n",
        "# gnn + dw + recon no opt, train on DX: e=10,b=8,h/n/g=standard\n",
        "#   - gram + low rank, no opt: \n",
        "#       16 --> flat like a uniform from 3-7A\n",
        "#       17 --> unimodal ~4A from 2-6A, matrices looking double what they should be\n",
        "#       with only f_i not f_j: bottom triangle is double\n",
        "#       without symmetrise, all elements in matrix are v similar\n",
        "#       trying with -2 in d_init_const\n",
        "#       18 --> e=20-time=1000s: with -2 d_init_const, unimodal produced results ~3.5A\n",
        "#       19 --> e=20-time= : with -3 d_init_const, v similar matrices\n",
        "# gnn + dw + recon no opt, train on RMSD: e=20,b=8,h/n/g=standard\n",
        "#       20 --> same as 19 with diff loss and -2.5 const but getting more differences in matrix [am i?]\n",
        "#       21 --> e=10 but same as 20 w -2 const, better range ~1.5-2.5A but unimodal, v similar matrices\n",
        "#       22 --> e=10 but same as 2- w -2.25 const, range ~2.5-3A and unimodal-ish, v similar matrices\n",
        "#       23 --> time=1100s: -3 const, far too small\n",
        "#       24 --> e=10-time=530s: unimodal ~3A from 2-5A\n",
        "#       25 --> const -2.3: unimodal ~2A from 1.5-2.5A\n",
        "#   - no symmetrise\n",
        "#       26 --> e=10: 500s, no softplus, no constant, unimodal w v big peak at ~3A, all the same values in matrices\n",
        "#       27 --> e=10, softplus but no constant\n",
        "#       28 --> e=10, 500s: const -2.3 unimodal ~3, range from 1-5-5A\n",
        "#       28 --> e=10, 500s: const -2.5, same as above basically\n",
        "#       29 --> e=10, 500s: add symmetrise and it got weird\n",
        "#   - other notes: training decreasing from ~2.1 -> ~1.7, when sorting out DW layer, goes from ~1.9 -> ~1.55\n",
        "#   - [change to better GPU]\n",
        "#       30 --> e=10, 360s: remove d_init_const and replace with linear layer instead\n",
        "#       31 --> e=10, 360s: one more linear layer, minimal diff\n",
        "#       32 --> e=20, 740s: same params as 30 but w more epochs, got stuck from e5->e20\n",
        "#       33 --> same: unimodal ~3A from 2-4.5A, bit bumpy,matrices ended getting smoothed out\n",
        "#       34 --> back to e=10 + 3 LL to avoid smoothing: they are diff but scaled down massively... have to multiply D_init by 500\n",
        "#       35 --> same but no softplus on D: super wrong, gets negative\n",
        "#       36 --> e=10 w 2 LL + softplus (i.e. standard): unimodal ~3 but slightly better shape \n",
        "# gnn + dw + recon w opt: train on RMSD: e=10, others standard\n",
        "#   - t=25\n",
        "#       36 --> v small, bimodal but wrong way round and not in one curve \n",
        "#       37 --> 3 LL, 746s: everything was zero\n",
        "#       38 --> t=50, time - 20s, no bimodality\n",
        "#       39 --> 950s: remove alpha base\n",
        "\n",
        "\n"
      ]
    },
    {
      "cell_type": "code",
      "execution_count": 4,
      "metadata": {},
      "outputs": [],
      "source": [
        "file_name = '39.npy'"
      ]
    },
    {
      "cell_type": "code",
      "execution_count": 7,
      "metadata": {},
      "outputs": [],
      "source": [
        "from rdkit import Chem\n",
        "import torch\n",
        "import numpy as np\n",
        "import matplotlib.pyplot as plt\n",
        "import seaborn as sns\n",
        "%matplotlib inline\n",
        "\n",
        "base_folder = r'data/raw/' # normal\n",
        "test_ts_file = base_folder + 'test_ts.sdf'\n",
        "reactant_file = base_folder + 'test_reactants.sdf'\n",
        "product_file = base_folder + 'test_products.sdf'\n",
        "test_r = Chem.SDMolSupplier(reactant_file, removeHs=False, sanitize=False)\n",
        "test_r = [x for x in test_r]\n",
        "test_ts = Chem.SDMolSupplier(test_ts_file, removeHs=False, sanitize=False)\n",
        "test_ts = [ts for ts in test_ts]\n",
        "test_p = Chem.SDMolSupplier(product_file, removeHs=False, sanitize=False)\n",
        "test_p = [x for x  in test_p]\n",
        "\n",
        "# want to create a D_init of [num_train, 21, 21] for plotting\n",
        "batched_test_Ds = test_log.epoch_ae_results[-1]['D_init']\n",
        "test_Ds = np.concatenate([D for D in batched_test_Ds], 0)\n",
        "\n",
        "# save and load\n",
        "d_folder = 'experiments/building_on_mit/meta_eval/d_inits/'\n",
        "D_init = np.load(d_folder + 'mit_best.npy')\n",
        "np.save(d_folder + file_name, test_Ds)\n",
        "D_init1 = np.load(d_folder + file_name)\n",
        "d_inits = []\n",
        "d_inits.append(D_init1)\n",
        "num_d_inits = len(d_inits)"
      ]
    },
    {
      "cell_type": "code",
      "execution_count": 8,
      "metadata": {},
      "outputs": [
        {
          "name": "stdout",
          "output_type": "stream",
          "text": [
            "(842, 21, 21) (842, 21, 21)\n",
            "Mine: \n",
            " [[0. 0. 0. 0. 0. ... 0. 0. 0. 0. 0.]\n",
            " [0. 0. 0. 0. 0. ... 0. 0. 0. 0. 0.]\n",
            " [0. 0. 0. 0. 0. ... 0. 0. 0. 0. 0.]\n",
            " [0. 0. 0. 0. 0. ... 0. 0. 0. 0. 0.]\n",
            " [0. 0. 0. 0. 0. ... 0. 0. 0. 0. 0.]\n",
            " ...\n",
            " [0. 0. 0. 0. 0. ... 0. 0. 0. 0. 0.]\n",
            " [0. 0. 0. 0. 0. ... 0. 0. 0. 0. 0.]\n",
            " [0. 0. 0. 0. 0. ... 0. 0. 0. 0. 0.]\n",
            " [0. 0. 0. 0. 0. ... 0. 0. 0. 0. 0.]\n",
            " [0. 0. 0. 0. 0. ... 0. 0. 0. 0. 0.]]\n",
            "GT: \n",
            " [[0.    1.775 2.646 3.076 4.023 ... 1.54  1.094 3.608 2.859 3.026]\n",
            " [1.775 0.    1.421 2.458 3.552 ... 1.022 2.203 2.038 2.057 2.624]\n",
            " [2.646 1.421 0.    1.516 2.38  ... 2.028 3.312 1.095 1.091 2.235]\n",
            " [3.076 2.458 1.516 0.    1.196 ... 2.44  4.046 2.122 2.147 1.11 ]\n",
            " [4.023 3.552 2.38  1.196 0.    ... 3.611 5.002 2.82  2.609 2.015]\n",
            " ...\n",
            " [1.54  1.022 2.028 2.44  3.611 ... 0.    2.207 2.7   2.795 2.168]\n",
            " [1.094 2.203 3.312 4.046 5.002 ... 2.207 0.    4.15  3.392 4.044]\n",
            " [3.608 2.038 1.095 2.122 2.82  ... 2.7   4.15  0.    1.777 2.788]\n",
            " [2.859 2.057 1.091 2.147 2.609 ... 2.795 3.392 1.777 0.    3.057]\n",
            " [3.026 2.624 2.235 1.11  2.015 ... 2.168 4.044 2.788 3.057 0.   ]]\n"
          ]
        }
      ],
      "source": [
        "print(D_init.shape, D_init1.shape)\n",
        "np.set_printoptions(precision = 3, threshold = 5, edgeitems = 5, suppress = False)\n",
        "i = 1\n",
        "num_atoms = test_ts[i].GetNumAtoms()\n",
        "# print(\"MIT: \\n\", D_init[i][0:num_atoms, 0:num_atoms])\n",
        "print(\"Mine: \\n\", D_init1[i][0:num_atoms, 0:num_atoms])\n",
        "print(\"GT: \\n\", Chem.Get3DDistanceMatrix(test_ts[i]))"
      ]
    },
    {
      "cell_type": "code",
      "execution_count": 9,
      "metadata": {},
      "outputs": [
        {
          "name": "stdout",
          "output_type": "stream",
          "text": [
            "Len of each list pre removing zeros: 153968 153968 153968 153968 \n",
            "Len of each list post removing zeros: 4346 4346 4346 24 \n"
          ]
        }
      ],
      "source": [
        "# lists for plotting\n",
        "gt, best_init, lin_approx = [], [], []\n",
        "d_init_lists = [[] for i in range(num_d_inits)]\n",
        "\n",
        "for idx in range(len(test_ts)):\n",
        "\n",
        "    # num_atoms + mask for reaction core\n",
        "    num_atoms = test_ts[idx].GetNumAtoms()\n",
        "    core_mask = (Chem.GetAdjacencyMatrix(test_p[idx]) + Chem.GetAdjacencyMatrix(test_r[idx])) == 1\n",
        "\n",
        "    # main 3\n",
        "    gt.append(np.ravel(Chem.Get3DDistanceMatrix(test_ts[idx]) * core_mask))\n",
        "    best_init.append(np.ravel(D_init[idx][0:num_atoms, 0:num_atoms] * core_mask))\n",
        "    lin_approx.append(np.ravel((Chem.Get3DDistanceMatrix(test_r[idx]) + Chem.Get3DDistanceMatrix(test_p[idx])) / 2 * core_mask))\n",
        "\n",
        "    # other d_inits\n",
        "    for j, d_init_list in enumerate(d_init_lists):\n",
        "        d_init_lists[j].append(np.ravel(d_inits[j][idx][0:num_atoms, 0:num_atoms]*core_mask))\n",
        "\n",
        "# NOTE: fine up to this point, all lengths match\n",
        "\n",
        "# make plottable\n",
        "all_ds = [gt, best_init, lin_approx, *d_init_lists]\n",
        "all_ds = [np.concatenate(ds).ravel() for ds in all_ds]\n",
        "\n",
        "# NOTE: fine up to this point, all lengths match\n",
        "\n",
        "prezero_msg = f\"Len of each list pre removing zeros: \"\n",
        "for ds in all_ds:\n",
        "    prezero_msg += f\"{len(ds)} \"\n",
        "print(prezero_msg)\n",
        "\n",
        "all_ds = [ds[ds != 0] for ds in all_ds] # only keep non-zero values\n",
        "\n",
        "postzero_msg = f\"Len of each list post removing zeros: \"\n",
        "for ds in all_ds:\n",
        "    postzero_msg += f\"{len(ds)} \"\n",
        "print(postzero_msg)\n",
        "\n",
        "ds_dict = {'gt': (all_ds[0], 'Ground Truth'), 'best_init': (all_ds[1], 'MIT D_init'),\\\n",
        "     'lin_approx': (all_ds[2], 'Linear Approximation')}\n",
        "base_ds_counter = len(ds_dict)\n",
        "for k in range(len(d_init_lists)):\n",
        "    name = f'D_init{k+1}'\n",
        "    ds_dict[name] = (all_ds[base_ds_counter + k], name)"
      ]
    },
    {
      "cell_type": "code",
      "execution_count": 10,
      "metadata": {},
      "outputs": [
        {
          "name": "stderr",
          "output_type": "stream",
          "text": [
            "/anaconda/envs/3d-rdkit/lib/python3.6/site-packages/seaborn/distributions.py:2557: FutureWarning: `distplot` is a deprecated function and will be removed in a future version. Please adapt your code to use either `displot` (a figure-level function with similar flexibility) or `kdeplot` (an axes-level function for kernel density plots).\n",
            "  warnings.warn(msg, FutureWarning)\n",
            "/anaconda/envs/3d-rdkit/lib/python3.6/site-packages/seaborn/distributions.py:2557: FutureWarning: `distplot` is a deprecated function and will be removed in a future version. Please adapt your code to use either `displot` (a figure-level function with similar flexibility) or `kdeplot` (an axes-level function for kernel density plots).\n",
            "  warnings.warn(msg, FutureWarning)\n",
            "/anaconda/envs/3d-rdkit/lib/python3.6/site-packages/seaborn/distributions.py:2557: FutureWarning: `distplot` is a deprecated function and will be removed in a future version. Please adapt your code to use either `displot` (a figure-level function with similar flexibility) or `kdeplot` (an axes-level function for kernel density plots).\n",
            "  warnings.warn(msg, FutureWarning)\n",
            "/anaconda/envs/3d-rdkit/lib/python3.6/site-packages/seaborn/distributions.py:2557: FutureWarning: `distplot` is a deprecated function and will be removed in a future version. Please adapt your code to use either `displot` (a figure-level function with similar flexibility) or `kdeplot` (an axes-level function for kernel density plots).\n",
            "  warnings.warn(msg, FutureWarning)\n"
          ]
        },
        {
          "data": {
            "image/png": "[encoded data removed]",
            "text/plain": "<Figure size 864x648 with 1 Axes>"
          },
          "metadata": {
            "needs_background": "light"
          },
          "output_type": "display_data"
        }
      ],
      "source": [
        "fig, ax = plt.subplots(figsize=(12,9))\n",
        "\n",
        "num_to_plot = len(ds_dict)\n",
        "cols = sns.color_palette(\"Set2\", num_to_plot)\n",
        "\n",
        "# keys: 'gt', 'lin_approx', 'best_init', f'D_init{i}'\n",
        "# no_print = ['lin_approx']\n",
        "\n",
        "for i, key in enumerate(ds_dict.keys()):\n",
        "    #if key in no_print:\n",
        "    #    continue\n",
        "    sns.distplot(ds_dict[key][0], color=cols[i], kde_kws={\"lw\": 3, \"label\": ds_dict[key][1]}, hist=False)\n",
        "\n",
        "ax.legend(loc='upper right')\n",
        "ax.legend(fontsize=12)\n",
        "ax.set_ylabel('Density', fontsize=22)\n",
        "ax.set_xlabel(r'Distance ($\\AA$)', fontsize=22)\n",
        "ax.tick_params(axis='both', which='major', labelsize=22)\n",
        "ax.spines[\"top\"].set_visible(False)    \n",
        "ax.spines[\"bottom\"].set_visible(True)    \n",
        "ax.spines[\"right\"].set_visible(False)    \n",
        "ax.spines[\"left\"].set_visible(True) "
      ]
    },
    {
      "cell_type": "code",
      "execution_count": 13,
      "metadata": {},
      "outputs": [
        {
          "data": {
            "text/plain": "(tensor([[0.000, 4.108, 4.350, 4.333,  ..., 2.453, 4.317, 4.281, 4.281],\n         [3.954, 0.000, 2.483, 4.121,  ..., 4.013, 4.013, 4.015, 4.070],\n         [4.373, 2.614, 0.000, 2.700,  ..., 4.384, 2.503, 2.504, 4.304],\n         [4.344, 4.290, 2.692, 0.000,  ..., 4.346, 4.273, 4.268, 2.485],\n         ...,\n         [2.311, 3.979, 4.169, 4.144,  ..., 0.000, 4.088, 4.081, 4.061],\n         [4.127, 3.980, 2.345, 4.074,  ..., 4.088, 0.000, 3.924, 4.031],\n         [4.094, 3.983, 2.346, 4.070,  ..., 4.083, 3.924, 0.000, 4.060],\n         [4.093, 4.036, 4.091, 2.335,  ..., 4.061, 4.031, 4.060, 0.000]]),\n tensor([[0.000, 1.775, 2.646, 3.076,  ..., 1.094, 3.608, 2.859, 3.026],\n         [1.775, 0.000, 1.421, 2.458,  ..., 2.203, 2.038, 2.057, 2.624],\n         [2.646, 1.421, 0.000, 1.516,  ..., 3.312, 1.095, 1.091, 2.235],\n         [3.076, 2.458, 1.516, 0.000,  ..., 4.046, 2.122, 2.147, 1.110],\n         ...,\n         [1.094, 2.203, 3.312, 4.046,  ..., 0.000, 4.150, 3.392, 4.044],\n         [3.608, 2.038, 1.095, 2.122,  ..., 4.150, 0.000, 1.777, 2.788],\n         [2.859, 2.057, 1.091, 2.147,  ..., 3.392, 1.777, 0.000, 3.057],\n         [3.026, 2.624, 2.235, 1.110,  ..., 4.044, 2.788, 3.057, 0.000]],\n        dtype=torch.float64),\n tensor(151.523, dtype=torch.float64))"
          },
          "execution_count": 13,
          "metadata": {},
          "output_type": "execute_result"
        }
      ],
      "source": [
        "from rdkit import Chem\n",
        "import torch\n",
        "\n",
        "def get_euc_dist(X):\n",
        "    D_sq = torch.square(torch.unsqueeze(X, 1) - torch.unsqueeze(X, 2))\n",
        "    D = torch.sum(D_sq, 3) + 1e-2\n",
        "    return D\n",
        "\n",
        "def sequence_mask(sizes, max_size = 21, dtype = torch.bool, device = 'cpu'):\n",
        "    row_vector = torch.arange(0, max_size, 1).to(device)\n",
        "    matrix = torch.unsqueeze(sizes, dim = -1)\n",
        "    mask = row_vector < matrix\n",
        "    mask.type(dtype)\n",
        "    return mask\n",
        "\n",
        "def loss_dist(X_pred, X_gt, mask_D):\n",
        "    D_pred = mask_D * get_euc_dist(X_pred)\n",
        "    D_gt = mask_D * get_euc_dist(X_gt)\n",
        "    loss_dist_all = mask_D * torch.abs(D_pred - D_gt)\n",
        "    loss_dist = torch.sum(loss_dist_all) / torch.sum(mask_D)\n",
        "    return loss_dist\n",
        "\n",
        "i = 1\n",
        "base_folder = r'data/raw/' # normal\n",
        "test_ts_file = base_folder + 'test_ts.sdf'\n",
        "test_ts = Chem.SDMolSupplier(test_ts_file, removeHs=False, sanitize=False)\n",
        "test_ts = [ts for ts in test_ts]\n",
        "num_atoms = test_ts[i].GetNumAtoms()\n",
        "D_gt = torch.from_numpy(Chem.Get3DDistanceMatrix(test_ts[i]))\n",
        "\n",
        "d_folder = 'experiments/building_on_mit/meta_eval/d_inits/'\n",
        "D_init1 = np.load(d_folder + file_name)\n",
        "D_pred = torch.from_numpy(D_init1[i][0:num_atoms, 0:num_atoms])\n",
        "\n",
        "def loss_dist(D_pred, D_gt):\n",
        "    loss_dist_all = torch.abs(D_pred - D_gt)\n",
        "    loss_dist = torch.sum(loss_dist_all)\n",
        "    return loss_dist\n",
        "\n",
        "torch.set_printoptions(precision=3, threshold=5, edgeitems=4, sci_mode=None)\n",
        "D_pred, D_gt, loss_dist(D_pred, D_gt)"
      ]
    },
    {
      "cell_type": "markdown",
      "metadata": {},
      "source": [
        "## Ensemble\n",
        "\n",
        "Average all produced $D_{inits}s$ then plot."
      ]
    },
    {
      "cell_type": "code",
      "execution_count": 82,
      "metadata": {},
      "outputs": [
        {
          "data": {
            "text/plain": "((4346,), (4346,))"
          },
          "execution_count": 82,
          "metadata": {},
          "output_type": "execute_result"
        }
      ],
      "source": [
        "ds_dict['D_init1'][0].shape, ds_dict['best_init'][0].shape"
      ]
    },
    {
      "cell_type": "code",
      "execution_count": 83,
      "metadata": {},
      "outputs": [],
      "source": [
        "# averaged ensemble of d_inits\n",
        "ensemble_ds = []\n",
        "d_inits\n",
        "for i in range(len(ds_dict['best_init'][0])):\n",
        "    ensemble_d = 0\n",
        "    for j in range(1, num_d_inits + 1):\n",
        "        ensemble_d += ds_dict[f'D_init{j}'][0][i]\n",
        "    ensemble_d /= num_d_inits\n",
        "    ensemble_ds.append(ensemble_d)\n",
        "\n",
        "ds_dict['ens'] = (ensemble_ds, \"Avg Ensemble D_init\")"
      ]
    },
    {
      "cell_type": "code",
      "execution_count": 84,
      "metadata": {},
      "outputs": [
        {
          "name": "stderr",
          "output_type": "stream",
          "text": [
            "/anaconda/envs/azureml_py38/lib/python3.8/site-packages/seaborn/distributions.py:2557: FutureWarning: `distplot` is a deprecated function and will be removed in a future version. Please adapt your code to use either `displot` (a figure-level function with similar flexibility) or `kdeplot` (an axes-level function for kernel density plots).\n",
            "  warnings.warn(msg, FutureWarning)\n",
            "/anaconda/envs/azureml_py38/lib/python3.8/site-packages/seaborn/distributions.py:2557: FutureWarning: `distplot` is a deprecated function and will be removed in a future version. Please adapt your code to use either `displot` (a figure-level function with similar flexibility) or `kdeplot` (an axes-level function for kernel density plots).\n",
            "  warnings.warn(msg, FutureWarning)\n",
            "/anaconda/envs/azureml_py38/lib/python3.8/site-packages/seaborn/distributions.py:2557: FutureWarning: `distplot` is a deprecated function and will be removed in a future version. Please adapt your code to use either `displot` (a figure-level function with similar flexibility) or `kdeplot` (an axes-level function for kernel density plots).\n",
            "  warnings.warn(msg, FutureWarning)\n"
          ]
        },
        {
          "data": {
            "image/png": "[encoded data removed]",
            "text/plain": "<Figure size 864x648 with 1 Axes>"
          },
          "metadata": {
            "needs_background": "light"
          },
          "output_type": "display_data"
        }
      ],
      "source": [
        "fig, ax = plt.subplots(figsize=(12,9))\n",
        "\n",
        "num_to_plot = len(ds_dict)\n",
        "cols = sns.color_palette(\"Set2\", num_to_plot)\n",
        "\n",
        "# keys: 'gt', 'lin_approx', 'best_init', f'D_init{i}'\n",
        "no_print = ['lin_approx']\n",
        "print_d_init = False\n",
        "if not print_d_init:\n",
        "    for j in range(1, num_d_inits + 1):\n",
        "        no_print.append(f'D_init{j}')\n",
        "\n",
        "for i, key in enumerate(ds_dict.keys()):\n",
        "    if key in no_print:\n",
        "        continue\n",
        "    sns.distplot(ds_dict[key][0], color=cols[i], kde_kws={\"lw\": 3, \"label\": ds_dict[key][1]}, hist=False)\n",
        "\n",
        "ax.legend(loc='upper right')\n",
        "ax.legend(fontsize=12)\n",
        "ax.set_ylabel('Density', fontsize=22)\n",
        "ax.set_xlabel(r'Distance ($\\AA$)', fontsize=22)\n",
        "ax.tick_params(axis='both', which='major', labelsize=22)\n",
        "ax.spines[\"top\"].set_visible(False)    \n",
        "ax.spines[\"bottom\"].set_visible(True)    \n",
        "ax.spines[\"right\"].set_visible(False)    \n",
        "ax.spines[\"left\"].set_visible(True) "
      ]
    }
  ],
  "metadata": {
    "kernel_info": {
      "name": "3d-rdkit"
    },
    "kernelspec": {
      "display_name": "Python (3d-rdkit)",
      "language": "python",
      "name": "3d-rdkit"
    },
    "language_info": {
      "codemirror_mode": {
        "name": "ipython",
        "version": 3
      },
      "file_extension": ".py",
      "mimetype": "text/x-python",
      "name": "python",
      "nbconvert_exporter": "python",
      "pygments_lexer": "ipython3",
      "version": "3.6.13"
    },
    "nteract": {
      "version": "nteract-front-end@1.0.0"
    },
    "orig_nbformat": 3
  },
  "nbformat": 4,
  "nbformat_minor": 2
}