{
  "cells": [
    {
      "cell_type": "code",
      "execution_count": 18,
      "metadata": {
        "gather": {
          "logged": 1627508054875
        }
      },
      "outputs": [],
      "source": [
        "from ts_vae.data_processors.ts_gen_processor import TSGenDataset\n",
        "from torch_geometric.data import DataLoader\n",
        "import torch\n",
        "import numpy as np\n",
        "# from ts_vae.utils import remove_files\n",
        "# remove_files() \n",
        "rxns = TSGenDataset(r'data')\n",
        "rxns[0]\n",
        "###\n",
        "tt_split = 0.889\n",
        "num_rxns = len(rxns)\n",
        "num_train = int(np.floor(tt_split * num_rxns))\n",
        "batch_size = 2\n",
        "train_loader = DataLoader(rxns[: num_train], batch_size = batch_size)\n",
        "test_loader = DataLoader(rxns[num_train: ], batch_size = batch_size)\n",
        "device = torch.device(\"cuda:0\" if torch.cuda.is_available() else \"cpu\")\n",
        "#for inputs in train_loader:\n",
        "#    inputs = inputs.to(device)\n",
        "###\n",
        "batch = next(iter(train_loader))\n",
        "test = batch.edge_attr"
      ]
    },
    {
      "cell_type": "code",
      "execution_count": 20,
      "metadata": {},
      "outputs": [],
      "source": [
        "from experiments.building_on_mit.meta_eval.ts_gen_pt.G2C import G2C, sequence_mask\n",
        "\n",
        "MAX_N, COORD_DIMS = 21, 3\n",
        "batch_size, h_nf, n_layers, gnn_depth = 5, 100, 2, 3\n",
        "in_node_nf, in_edge_nf = train_loader.dataset[0].x.size(1), train_loader.dataset[0].edge_attr.size(1)\n",
        "\n",
        "g2c = G2C(in_node_nf, in_edge_nf, h_nf, n_layers, gnn_depth, device)\n",
        "g2c_opt = torch.optim.Adam(g2c.parameters(), lr = 1e-4)\n",
        "\n",
        "for batch_id, rxn_batch in enumerate(train_loader):\n",
        "    # for cuda\n",
        "    rxn_batch = rxn_batch.to(g2c.device)\n",
        "    \n",
        "    g2c.train()\n",
        "    g2c_opt.zero_grad()\n",
        "\n",
        "    # batch\n",
        "    node_feats, edge_attr = rxn_batch.x, rxn_batch.edge_attr\n",
        "    batch_size = len(rxn_batch.idx)\n",
        "    X_gt = rxn_batch.pos.view(batch_size, MAX_N, COORD_DIMS)\n",
        "\n",
        "    # masks, not sure if these do anything\n",
        "    mask = sequence_mask(rxn_batch.num_atoms, MAX_N, torch.bool, g2c.device)\n",
        "    mask_V = mask.view(batch_size * MAX_N, 1)\n",
        "    mask_temp = torch.unsqueeze(mask, 2)\n",
        "    mask_E = torch.unsqueeze(mask_temp, 1) * torch.unsqueeze(mask_temp, 2)\n",
        "    mask_D = torch.squeeze(mask_E, 3)\n",
        "    mask_E = mask_E.view(batch_size * MAX_N * MAX_N, 1)\n",
        "\n",
        "    # run batch pass of g2c with params\n",
        "    D_init, W, emb, X_pred = g2c(node_feats, edge_attr, batch_size, mask_V, mask_E, mask_D)\n",
        "    batch_loss, _ = g2c.rmsd(X_pred, X_gt, mask_temp)\n"
      ]
    },
    {
      "cell_type": "code",
      "execution_count": 1,
      "metadata": {
        "gather": {
          "logged": 1627508349029
        }
      },
      "outputs": [],
      "source": [
        "import torch\n",
        "torch.cuda.empty_cache()"
      ]
    },
    {
      "cell_type": "code",
      "execution_count": 2,
      "metadata": {},
      "outputs": [
        {
          "name": "stdout",
          "output_type": "stream",
          "text": [
            "Starting ablation experiment...\n",
            "===== Training epoch 001 complete with loss: 8.4894 ====\n",
            "===== Training epoch 002 complete with loss: 8.7289 ====\n",
            "===== Training epoch 003 complete with loss: 8.7349 ====\n",
            "===== Training epoch 004 complete with loss: 8.7413 ====\n",
            "===== Training epoch 005 complete with loss: 8.5509 ====\n",
            "===== Testing epoch 005 complete with loss: 9.1379 ====\n",
            "Completed ablation experiment, use the experiment log to print results.\n"
          ]
        }
      ],
      "source": [
        "from experiments.building_on_mit.meta_eval.meta_eval import ablation_experiment\n",
        "# from ts_vae.utils import remove_files\n",
        "# remove_files()\n",
        "train_log, test_log = ablation_experiment(tt_split = 0.889, epochs = 5, test_interval = 5, \\\n",
        "                                          batch_size = 32, h_nf = 256, n_layers = 2, gnn_depth = 3)\n",
        "\n",
        "# full params for 20 epochs, ran everything, took 2500s, test_interval=2 worked first time not on second; ~2m for each epoch\n",
        "\n",
        "# tt_split=0.889, gives 842 test rxns\n",
        "# batch_size = 8, h_nf = 128, n_layers = 1, gnn_depth = 2  ==> 5 epochs=10m\n",
        "# batch_size = 32, h_nf = 128, n_layers = 2, gnn_depth = 3 ==> \n",
        "\n",
        "# no mlp, loss is worse by ~0.15 and get stranger D_inits\n"
      ]
    },
    {
      "cell_type": "code",
      "execution_count": 3,
      "metadata": {},
      "outputs": [],
      "source": [
        "from rdkit import Chem\n",
        "import torch\n",
        "import numpy as np\n",
        "import matplotlib.pyplot as plt\n",
        "import seaborn as sns\n",
        "%matplotlib inline\n",
        "\n",
        "base_folder = r'data/raw/' # normal\n",
        "test_ts_file = base_folder + 'test_ts.sdf'\n",
        "reactant_file = base_folder + 'test_reactants.sdf'\n",
        "product_file = base_folder + 'test_products.sdf'\n",
        "test_r = Chem.SDMolSupplier(reactant_file, removeHs=False, sanitize=False)\n",
        "test_r = [x for x in test_r]\n",
        "test_ts = Chem.SDMolSupplier(test_ts_file, removeHs=False, sanitize=False)\n",
        "test_ts = [ts for ts in test_ts]\n",
        "test_p = Chem.SDMolSupplier(product_file, removeHs=False, sanitize=False)\n",
        "test_p = [x for x  in test_p]\n",
        "\n",
        "# want to create a D_init of [num_train, 21, 21] for plotting\n",
        "batched_test_Ds = test_log.epoch_ae_results[-1]['D_init']\n",
        "# test_Ds = torch.cat([D for D in batched_test_Ds], 0)\n",
        "# test_Ds = test_Ds.detach().cpu().numpy()\n",
        "test_Ds = np.concatenate([D for D in batched_test_Ds], 0)\n",
        "\n",
        "# save and load\n",
        "d_folder = 'experiments/building_on_mit/meta_eval/d_inits/'\n",
        "D_init = np.load(d_folder + 'mit_best.npy')\n",
        "file_name = '1.npy'\n",
        "np.save(d_folder + file_name, test_Ds)\n",
        "D_init1 = np.load(d_folder + file_name)\n",
        "d_inits = []\n",
        "d_inits.append(D_init1)\n",
        "num_d_inits = len(d_inits)\n",
        "\n",
        "# 1.npy gave weird output after flattening ... might because of batching?\n",
        "# 2 * 10, not good # 3 * 100, not good though # 4 * 1000 # 5 * 10000 # 7 * 100"
      ]
    },
    {
      "cell_type": "code",
      "execution_count": 4,
      "metadata": {},
      "outputs": [
        {
          "name": "stdout",
          "output_type": "stream",
          "text": [
            "(842, 21, 21) (842, 21, 21)\n"
          ]
        },
        {
          "data": {
            "text/plain": "(array([[0.   , 1.852, 2.265, ..., 0.   , 0.   , 0.   ],\n        [1.852, 0.   , 1.214, ..., 0.   , 0.   , 0.   ],\n        [2.265, 1.214, 0.   , ..., 0.   , 0.   , 0.   ],\n        ...,\n        [0.   , 0.   , 0.   , ..., 0.   , 0.   , 0.   ],\n        [0.   , 0.   , 0.   , ..., 0.   , 0.   , 0.   ],\n        [0.   , 0.   , 0.   , ..., 0.   , 0.   , 0.   ]]),\n array([[0.   , 2.582, 2.582, ..., 0.   , 0.   , 0.   ],\n        [2.582, 0.   , 2.591, ..., 0.   , 0.   , 0.   ],\n        [2.582, 2.591, 0.   , ..., 0.   , 0.   , 0.   ],\n        ...,\n        [0.   , 0.   , 0.   , ..., 0.   , 0.   , 0.   ],\n        [0.   , 0.   , 0.   , ..., 0.   , 0.   , 0.   ],\n        [0.   , 0.   , 0.   , ..., 0.   , 0.   , 0.   ]], dtype=float32))"
          },
          "execution_count": 4,
          "metadata": {},
          "output_type": "execute_result"
        }
      ],
      "source": [
        "print(D_init.shape, D_init1.shape)\n",
        "np.set_printoptions(precision = 3, threshold = 3, suppress = False)\n",
        "i = 1\n",
        "D_init[i], D_init1[i]"
      ]
    },
    {
      "cell_type": "code",
      "execution_count": 5,
      "metadata": {},
      "outputs": [],
      "source": [
        "# lists for plotting\n",
        "gt, best_init, lin_approx = [], [], []\n",
        "d_init_lists = [[] for i in range(num_d_inits)]\n",
        "\n",
        "for idx in range(len(test_ts)):\n",
        "\n",
        "    # num_atoms + mask for reaction core\n",
        "    num_atoms = test_ts[idx].GetNumAtoms()\n",
        "    core_mask = (Chem.GetAdjacencyMatrix(test_p[idx]) + Chem.GetAdjacencyMatrix(test_r[idx])) == 1\n",
        "\n",
        "    # main 3\n",
        "    gt.append(np.ravel(Chem.Get3DDistanceMatrix(test_ts[idx]) * core_mask))\n",
        "    best_init.append(np.ravel(D_init[idx][0:num_atoms, 0:num_atoms] * core_mask))\n",
        "    lin_approx.append(np.ravel((Chem.Get3DDistanceMatrix(test_r[idx]) + Chem.Get3DDistanceMatrix(test_p[idx])) / 2 * core_mask))\n",
        "\n",
        "    # other d_inits\n",
        "    for j, d_init_list in enumerate(d_init_lists):\n",
        "        d_init_lists[j].append(np.ravel(d_inits[j][idx][0:num_atoms, 0:num_atoms]*core_mask))\n",
        "\n",
        "# make plottable\n",
        "all_ds = [gt, best_init, lin_approx, *d_init_lists]\n",
        "all_ds = [np.concatenate(ds).ravel() for ds in all_ds]\n",
        "# all_ds = [ds[ds != 0] for ds in all_ds]"
      ]
    },
    {
      "cell_type": "code",
      "execution_count": 6,
      "metadata": {},
      "outputs": [
        {
          "name": "stdout",
          "output_type": "stream",
          "text": [
            "Len of each list pre removing zeros: 153968 153968 153968 153968 \n",
            "Len of each list post removing zeros: 4346 4346 4346 4346 \n"
          ]
        }
      ],
      "source": [
        "# lists for plotting\n",
        "gt, best_init, lin_approx = [], [], []\n",
        "d_init_lists = [[] for i in range(num_d_inits)]\n",
        "\n",
        "for idx in range(len(test_ts)):\n",
        "\n",
        "    # num_atoms + mask for reaction core\n",
        "    num_atoms = test_ts[idx].GetNumAtoms()\n",
        "    core_mask = (Chem.GetAdjacencyMatrix(test_p[idx]) + Chem.GetAdjacencyMatrix(test_r[idx])) == 1\n",
        "\n",
        "    # main 3\n",
        "    gt.append(np.ravel(Chem.Get3DDistanceMatrix(test_ts[idx]) * core_mask))\n",
        "    best_init.append(np.ravel(D_init[idx][0:num_atoms, 0:num_atoms] * core_mask))\n",
        "    lin_approx.append(np.ravel((Chem.Get3DDistanceMatrix(test_r[idx]) + Chem.Get3DDistanceMatrix(test_p[idx])) / 2 * core_mask))\n",
        "\n",
        "    # other d_inits\n",
        "    for j, d_init_list in enumerate(d_init_lists):\n",
        "        d_init_lists[j].append(np.ravel(d_inits[j][idx][0:num_atoms, 0:num_atoms]*core_mask))\n",
        "\n",
        "# NOTE: fine up to this point, all lengths match\n",
        "\n",
        "# make plottable\n",
        "all_ds = [gt, best_init, lin_approx, *d_init_lists]\n",
        "all_ds = [np.concatenate(ds).ravel() for ds in all_ds]\n",
        "\n",
        "# NOTE: fine up to this point, all lengths match\n",
        "\n",
        "prezero_msg = f\"Len of each list pre removing zeros: \"\n",
        "for ds in all_ds:\n",
        "    prezero_msg += f\"{len(ds)} \"\n",
        "print(prezero_msg)\n",
        "\n",
        "all_ds = [ds[ds != 0] for ds in all_ds] # only keep non-zero values\n",
        "# all_ds = [ds[ds == 0] for ds in all_ds]\n",
        "\n",
        "postzero_msg = f\"Len of each list post removing zeros: \"\n",
        "for ds in all_ds:\n",
        "    postzero_msg += f\"{len(ds)} \"\n",
        "print(postzero_msg)\n",
        "\n",
        "ds_dict = {'gt': (all_ds[0], 'Ground Truth'), 'best_init': (all_ds[1], 'MIT D_init'),\\\n",
        "     'lin_approx': (all_ds[2], 'Linear Approximation')}\n",
        "base_ds_counter = len(ds_dict)\n",
        "for k in range(len(d_init_lists)):\n",
        "    name = f'D_init{k+1}'\n",
        "    ds_dict[name] = (all_ds[base_ds_counter + k], name)"
      ]
    },
    {
      "cell_type": "code",
      "execution_count": 7,
      "metadata": {},
      "outputs": [
        {
          "name": "stderr",
          "output_type": "stream",
          "text": [
            "/anaconda/envs/3d-rdkit/lib/python3.6/site-packages/seaborn/distributions.py:2557: FutureWarning: `distplot` is a deprecated function and will be removed in a future version. Please adapt your code to use either `displot` (a figure-level function with similar flexibility) or `kdeplot` (an axes-level function for kernel density plots).\n",
            "  warnings.warn(msg, FutureWarning)\n",
            "/anaconda/envs/3d-rdkit/lib/python3.6/site-packages/seaborn/distributions.py:2557: FutureWarning: `distplot` is a deprecated function and will be removed in a future version. Please adapt your code to use either `displot` (a figure-level function with similar flexibility) or `kdeplot` (an axes-level function for kernel density plots).\n",
            "  warnings.warn(msg, FutureWarning)\n",
            "/anaconda/envs/3d-rdkit/lib/python3.6/site-packages/seaborn/distributions.py:2557: FutureWarning: `distplot` is a deprecated function and will be removed in a future version. Please adapt your code to use either `displot` (a figure-level function with similar flexibility) or `kdeplot` (an axes-level function for kernel density plots).\n",
            "  warnings.warn(msg, FutureWarning)\n",
            "/anaconda/envs/3d-rdkit/lib/python3.6/site-packages/seaborn/distributions.py:2557: FutureWarning: `distplot` is a deprecated function and will be removed in a future version. Please adapt your code to use either `displot` (a figure-level function with similar flexibility) or `kdeplot` (an axes-level function for kernel density plots).\n",
            "  warnings.warn(msg, FutureWarning)\n"
          ]
        },
        {
          "data": {
            "image/png": "[encoded data removed]",
            "text/plain": "<Figure size 864x648 with 1 Axes>"
          },
          "metadata": {
            "needs_background": "light"
          },
          "output_type": "display_data"
        }
      ],
      "source": [
        "fig, ax = plt.subplots(figsize=(12,9))\n",
        "\n",
        "num_to_plot = len(ds_dict)\n",
        "cols = sns.color_palette(\"Set2\", num_to_plot)\n",
        "\n",
        "# keys: 'gt', 'lin_approx', 'best_init', f'D_init{i}'\n",
        "# no_print = ['lin_approx']\n",
        "\n",
        "for i, key in enumerate(ds_dict.keys()):\n",
        "    #if key in no_print:\n",
        "    #    continue\n",
        "    sns.distplot(ds_dict[key][0], color=cols[i], kde_kws={\"lw\": 3, \"label\": ds_dict[key][1]}, hist=False)\n",
        "\n",
        "ax.legend(loc='upper right')\n",
        "ax.legend(fontsize=12)\n",
        "ax.set_ylabel('Density', fontsize=22)\n",
        "ax.set_xlabel(r'Distance ($\\AA$)', fontsize=22)\n",
        "ax.tick_params(axis='both', which='major', labelsize=22)\n",
        "ax.spines[\"top\"].set_visible(False)    \n",
        "ax.spines[\"bottom\"].set_visible(True)    \n",
        "ax.spines[\"right\"].set_visible(False)    \n",
        "ax.spines[\"left\"].set_visible(True) "
      ]
    },
    {
      "cell_type": "markdown",
      "metadata": {},
      "source": [
        "## Ensemble\n",
        "\n",
        "Average all produced $D_{inits}s$ then plot."
      ]
    },
    {
      "cell_type": "code",
      "execution_count": 82,
      "metadata": {},
      "outputs": [
        {
          "data": {
            "text/plain": "((4346,), (4346,))"
          },
          "execution_count": 82,
          "metadata": {},
          "output_type": "execute_result"
        }
      ],
      "source": [
        "ds_dict['D_init1'][0].shape, ds_dict['best_init'][0].shape"
      ]
    },
    {
      "cell_type": "code",
      "execution_count": 83,
      "metadata": {},
      "outputs": [],
      "source": [
        "# averaged ensemble of d_inits\n",
        "ensemble_ds = []\n",
        "d_inits\n",
        "for i in range(len(ds_dict['best_init'][0])):\n",
        "    ensemble_d = 0\n",
        "    for j in range(1, num_d_inits + 1):\n",
        "        ensemble_d += ds_dict[f'D_init{j}'][0][i]\n",
        "    ensemble_d /= num_d_inits\n",
        "    ensemble_ds.append(ensemble_d)\n",
        "\n",
        "ds_dict['ens'] = (ensemble_ds, \"Avg Ensemble D_init\")"
      ]
    },
    {
      "cell_type": "code",
      "execution_count": 84,
      "metadata": {},
      "outputs": [
        {
          "name": "stderr",
          "output_type": "stream",
          "text": [
            "/anaconda/envs/azureml_py38/lib/python3.8/site-packages/seaborn/distributions.py:2557: FutureWarning: `distplot` is a deprecated function and will be removed in a future version. Please adapt your code to use either `displot` (a figure-level function with similar flexibility) or `kdeplot` (an axes-level function for kernel density plots).\n",
            "  warnings.warn(msg, FutureWarning)\n",
            "/anaconda/envs/azureml_py38/lib/python3.8/site-packages/seaborn/distributions.py:2557: FutureWarning: `distplot` is a deprecated function and will be removed in a future version. Please adapt your code to use either `displot` (a figure-level function with similar flexibility) or `kdeplot` (an axes-level function for kernel density plots).\n",
            "  warnings.warn(msg, FutureWarning)\n",
            "/anaconda/envs/azureml_py38/lib/python3.8/site-packages/seaborn/distributions.py:2557: FutureWarning: `distplot` is a deprecated function and will be removed in a future version. Please adapt your code to use either `displot` (a figure-level function with similar flexibility) or `kdeplot` (an axes-level function for kernel density plots).\n",
            "  warnings.warn(msg, FutureWarning)\n"
          ]
        },
        {
          "data": {
            "image/png": "[encoded data removed]",
            "text/plain": "<Figure size 864x648 with 1 Axes>"
          },
          "metadata": {
            "needs_background": "light"
          },
          "output_type": "display_data"
        }
      ],
      "source": [
        "fig, ax = plt.subplots(figsize=(12,9))\n",
        "\n",
        "num_to_plot = len(ds_dict)\n",
        "cols = sns.color_palette(\"Set2\", num_to_plot)\n",
        "\n",
        "# keys: 'gt', 'lin_approx', 'best_init', f'D_init{i}'\n",
        "no_print = ['lin_approx']\n",
        "print_d_init = False\n",
        "if not print_d_init:\n",
        "    for j in range(1, num_d_inits + 1):\n",
        "        no_print.append(f'D_init{j}')\n",
        "\n",
        "for i, key in enumerate(ds_dict.keys()):\n",
        "    if key in no_print:\n",
        "        continue\n",
        "    sns.distplot(ds_dict[key][0], color=cols[i], kde_kws={\"lw\": 3, \"label\": ds_dict[key][1]}, hist=False)\n",
        "\n",
        "ax.legend(loc='upper right')\n",
        "ax.legend(fontsize=12)\n",
        "ax.set_ylabel('Density', fontsize=22)\n",
        "ax.set_xlabel(r'Distance ($\\AA$)', fontsize=22)\n",
        "ax.tick_params(axis='both', which='major', labelsize=22)\n",
        "ax.spines[\"top\"].set_visible(False)    \n",
        "ax.spines[\"bottom\"].set_visible(True)    \n",
        "ax.spines[\"right\"].set_visible(False)    \n",
        "ax.spines[\"left\"].set_visible(True) "
      ]
    }
  ],
  "metadata": {
    "kernelspec": {
      "display_name": "Python (3d-rdkit)",
      "name": "3d-rdkit"
    },
    "language_info": {
      "codemirror_mode": {
        "name": "ipython",
        "version": 3
      },
      "file_extension": ".py",
      "mimetype": "text/x-python",
      "name": "python",
      "nbconvert_exporter": "python",
      "pygments_lexer": "ipython3",
      "version": "3.6.13"
    },
    "orig_nbformat": 3
  },
  "nbformat": 4,
  "nbformat_minor": 2
}