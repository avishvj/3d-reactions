{
  "cells": [
    {
      "cell_type": "code",
      "execution_count": 18,
      "metadata": {
        "gather": {
          "logged": 1627508054875
        }
      },
      "outputs": [],
      "source": [
        "from ts_vae.data_processors.ts_gen_processor import TSGenDataset\n",
        "from torch_geometric.data import DataLoader\n",
        "import torch\n",
        "import numpy as np\n",
        "# from ts_vae.utils import remove_files\n",
        "# remove_files() \n",
        "rxns = TSGenDataset(r'data')\n",
        "rxns[0]\n",
        "###\n",
        "tt_split = 0.889\n",
        "num_rxns = len(rxns)\n",
        "num_train = int(np.floor(tt_split * num_rxns))\n",
        "batch_size = 2\n",
        "train_loader = DataLoader(rxns[: num_train], batch_size = batch_size)\n",
        "test_loader = DataLoader(rxns[num_train: ], batch_size = batch_size)\n",
        "device = torch.device(\"cuda:0\" if torch.cuda.is_available() else \"cpu\")\n",
        "#for inputs in train_loader:\n",
        "#    inputs = inputs.to(device)\n",
        "###\n",
        "batch = next(iter(train_loader))\n",
        "test = batch.edge_attr"
      ]
    },
    {
      "cell_type": "code",
      "execution_count": 1,
      "metadata": {
        "gather": {
          "logged": 1627508349029
        }
      },
      "outputs": [],
      "source": [
        "import torch\n",
        "torch.cuda.empty_cache()"
      ]
    },
    {
      "cell_type": "code",
      "execution_count": 2,
      "metadata": {},
      "outputs": [
        {
          "name": "stdout",
          "output_type": "stream",
          "text": [
            "Starting ablation experiment...\n",
            "===== Training epoch 001 complete with loss: 8.5803 ====\n",
            "===== Training epoch 002 complete with loss: 8.4902 ====\n",
            "===== Training epoch 003 complete with loss: 8.4696 ====\n",
            "===== Training epoch 004 complete with loss: 8.4392 ====\n",
            "===== Training epoch 005 complete with loss: 8.4275 ====\n",
            "===== Training epoch 006 complete with loss: 8.4220 ====\n",
            "===== Training epoch 007 complete with loss: 8.6298 ====\n",
            "===== Training epoch 008 complete with loss: 8.3874 ====\n",
            "===== Training epoch 009 complete with loss: 8.3709 ====\n",
            "===== Training epoch 010 complete with loss: 8.3617 ====\n",
            "===== Training epoch 011 complete with loss: 8.3376 ====\n",
            "===== Training epoch 012 complete with loss: 8.3206 ====\n",
            "===== Training epoch 013 complete with loss: 8.3113 ====\n",
            "===== Training epoch 014 complete with loss: 8.3244 ====\n",
            "===== Training epoch 015 complete with loss: 8.3179 ====\n",
            "===== Training epoch 016 complete with loss: 8.3044 ====\n",
            "===== Training epoch 017 complete with loss: 8.2935 ====\n",
            "===== Training epoch 018 complete with loss: 8.2930 ====\n",
            "===== Training epoch 019 complete with loss: 8.3047 ====\n",
            "===== Training epoch 020 complete with loss: 8.2886 ====\n",
            "===== Testing epoch 020 complete with loss: 8.0576 ====\n",
            "Completed ablation experiment, use the experiment log to print results.\n"
          ]
        }
      ],
      "source": [
        "from experiments.building_on_mit.meta_eval.meta_eval import ablation_experiment\n",
        "# from ts_vae.utils import remove_files\n",
        "# remove_files()\n",
        "train_log, test_log = ablation_experiment(tt_split = 0.889, epochs = 20, test_interval = 20, \\\n",
        "                                          batch_size = 8, h_nf = 256, n_layers = 2, gnn_depth = 3)\n",
        "\n",
        "# full params for 20 epochs, ran everything, took 2500s, test_interval=2 worked first time not on second; ~2m for each epoch\n",
        "\n",
        "# tt_split=0.889, gives 842 test rxns\n",
        "# batch_size = 8, h_nf = 128, n_layers = 1, gnn_depth = 2  ==> 5 epochs=10m\n",
        "# batch_size = 32, h_nf = 128, n_layers = 2, gnn_depth = 3 ==> \n",
        "\n",
        "# no mlp, loss is worse by ~0.15 and get stranger D_inits\n",
        "# no tranpose: almost identical results\n",
        "\n",
        "# gnn + dw, no recon, train on D_init: e=10,b=32,h/n/g=standard\n",
        "#   - just init: \n",
        "#       2,3 --> one peak at ~7.5\n",
        "#   - init + gnn w node: e=10-time=90s; e=20, time=180s\n",
        "#       6 --> one enormous peak at ~7.5, extremely similar matrices\n",
        "#       7 --> more of a distr but weird\n",
        "#       8 --> e=20: much better shape (bimodal) but shifted to 5-7.5\n",
        "#       9 --> e=20: back to enormous peak at ~7.5\n",
        "#   - init + gnn w edge: e=10-time=200s\n",
        "#      10 --> time=200s: bimodal but v flat and wide from 1-8A, matrices more different\n",
        "#      11 --> e=20-time=400s: trimodal (two big one small) from around 4-10A\n",
        "#      12 --> b=8-time=260s: trimodal (two big one small) from around 4-10A\n",
        "#      notes: this change causes more diff matrices and bimodality\n",
        "#   - init + gnn w edge, node\n",
        "#       4,5 --> more bimodal (like gt), bigger peak ~6.5, smaller peak ~8.7\n",
        "#       13 --> time=290s: unimodal ~1 (much nearer GT) but long low tail to 8A\n",
        "#       14 --> b=8-time=380s: unimodal ~5.8, low and flat, gaussian-looking\n",
        "#       15 --> b=8,e=20-time=760s: similar to 14 but more bimodal (and weird)\n",
        "#   - other notes: training decreasing from ~5.3 -> ~3.7\n",
        "# gnn + dw + recon, train on X->D: e=10,b=8,h/n/g=standard\n",
        "#   - gram + low rank, no opt: \n",
        "#       16 --> flat like a uniform from 3-7A\n",
        "#       17 --> unimodal ~4A from 2-6A, matrices looking double what they should be\n",
        "#       with only f_i not f_j: bottom triangle is double\n",
        "#       without symmetrise, all elements in matrix are v similar\n",
        "#       trying with -2 in d_init_const\n",
        "#       18 --> e=20-time=1000s: with -2 d_init_const, unimodal produced results ~3.5A\n",
        "#       19 --> e=20-time= : with -3 d_init_const, \n",
        "# gnn + dw + recon, train on X: e=20,b=8,h/n/g=standard\n",
        "\n"
      ]
    },
    {
      "cell_type": "code",
      "execution_count": 3,
      "metadata": {},
      "outputs": [],
      "source": [
        "file_name = '19.npy'"
      ]
    },
    {
      "cell_type": "code",
      "execution_count": 4,
      "metadata": {},
      "outputs": [],
      "source": [
        "from rdkit import Chem\n",
        "import torch\n",
        "import numpy as np\n",
        "import matplotlib.pyplot as plt\n",
        "import seaborn as sns\n",
        "%matplotlib inline\n",
        "\n",
        "base_folder = r'data/raw/' # normal\n",
        "test_ts_file = base_folder + 'test_ts.sdf'\n",
        "reactant_file = base_folder + 'test_reactants.sdf'\n",
        "product_file = base_folder + 'test_products.sdf'\n",
        "test_r = Chem.SDMolSupplier(reactant_file, removeHs=False, sanitize=False)\n",
        "test_r = [x for x in test_r]\n",
        "test_ts = Chem.SDMolSupplier(test_ts_file, removeHs=False, sanitize=False)\n",
        "test_ts = [ts for ts in test_ts]\n",
        "test_p = Chem.SDMolSupplier(product_file, removeHs=False, sanitize=False)\n",
        "test_p = [x for x  in test_p]\n",
        "\n",
        "# want to create a D_init of [num_train, 21, 21] for plotting\n",
        "batched_test_Ds = test_log.epoch_ae_results[-1]['D_init']\n",
        "# test_Ds = torch.cat([D for D in batched_test_Ds], 0)\n",
        "# test_Ds = test_Ds.detach().cpu().numpy()\n",
        "test_Ds = np.concatenate([D for D in batched_test_Ds], 0)\n",
        "\n",
        "# save and load\n",
        "d_folder = 'experiments/building_on_mit/meta_eval/d_inits/'\n",
        "D_init = np.load(d_folder + 'mit_best.npy')\n",
        "np.save(d_folder + file_name, test_Ds)\n",
        "D_init1 = np.load(d_folder + file_name)\n",
        "d_inits = []\n",
        "d_inits.append(D_init1)\n",
        "num_d_inits = len(d_inits)"
      ]
    },
    {
      "cell_type": "code",
      "execution_count": 5,
      "metadata": {},
      "outputs": [
        {
          "name": "stdout",
          "output_type": "stream",
          "text": [
            "(842, 21, 21) (842, 21, 21)\n",
            "MIT: \n",
            " [[0.    1.203 1.601 2.63  3.909 ... 3.427 5.387 5.483 2.874 4.348]\n",
            " [1.203 0.    1.805 2.736 3.181 ... 3.311 4.647 4.929 2.604 3.259]\n",
            " [1.601 1.805 0.    1.162 2.261 ... 2.252 3.024 2.641 2.212 2.263]\n",
            " [2.63  2.736 1.162 0.    1.147 ... 0.962 2.314 2.259 2.65  3.077]\n",
            " [3.909 3.181 2.261 1.147 0.    ... 2.358 0.96  0.96  2.299 2.36 ]\n",
            " ...\n",
            " [3.427 3.311 2.252 0.962 2.358 ... 0.    2.998 2.477 4.265 4.609]\n",
            " [5.387 4.647 3.024 2.314 0.96  ... 2.998 0.    2.388 2.457 3.002]\n",
            " [5.483 4.929 2.641 2.259 0.96  ... 2.477 2.388 0.    3.122 2.477]\n",
            " [2.874 2.604 2.212 2.65  2.299 ... 4.265 2.457 3.122 0.    2.404]\n",
            " [4.348 3.259 2.263 3.077 2.36  ... 4.609 3.002 2.477 2.404 0.   ]]\n",
            "Mine: \n",
            " [[0.    0.523 0.59  0.698 0.753 ... 0.906 0.94  0.942 0.886 0.922]\n",
            " [0.523 0.    0.501 0.601 0.646 ... 0.775 0.797 0.801 0.717 0.774]\n",
            " [0.59  0.501 0.    0.524 0.535 ... 0.673 0.754 0.724 0.663 0.675]\n",
            " [0.698 0.601 0.524 0.    0.527 ... 0.503 0.674 0.666 0.724 0.756]\n",
            " [0.753 0.646 0.535 0.527 0.    ... 0.676 0.503 0.504 0.665 0.676]\n",
            " ...\n",
            " [0.906 0.775 0.673 0.503 0.676 ... 0.    0.921 0.879 0.966 0.97 ]\n",
            " [0.94  0.797 0.754 0.674 0.503 ... 0.921 0.    0.76  0.876 0.921]\n",
            " [0.942 0.801 0.724 0.666 0.504 ... 0.879 0.76  0.    0.931 0.878]\n",
            " [0.886 0.717 0.663 0.724 0.665 ... 0.966 0.876 0.931 0.    0.762]\n",
            " [0.922 0.774 0.675 0.756 0.676 ... 0.97  0.921 0.878 0.762 0.   ]]\n",
            "GT: \n",
            " [[0.    1.291 1.711 2.515 3.623 ... 2.988 4.405 4.27  3.113 3.664]\n",
            " [1.291 0.    1.801 3.104 3.722 ... 3.806 4.515 4.344 2.636 2.967]\n",
            " [1.711 1.801 0.    1.541 2.132 ... 2.246 3.092 2.638 2.199 2.239]\n",
            " [2.515 3.104 1.541 0.    1.542 ... 1.089 2.257 2.201 2.629 3.109]\n",
            " [3.623 3.722 2.132 1.542 0.    ... 2.286 1.089 1.09  2.181 2.297]\n",
            " ...\n",
            " [2.988 3.806 2.246 1.089 2.286 ... 0.    2.957 2.542 3.707 3.959]\n",
            " [4.405 4.515 3.092 2.257 1.089 ... 2.957 0.    1.774 2.48  2.976]\n",
            " [4.27  4.344 2.638 2.201 1.09  ... 2.542 1.774 0.    3.069 2.549]\n",
            " [3.113 2.636 2.199 2.629 2.181 ... 3.707 2.48  3.069 0.    1.779]\n",
            " [3.664 2.967 2.239 3.109 2.297 ... 3.959 2.976 2.549 1.779 0.   ]]\n"
          ]
        }
      ],
      "source": [
        "print(D_init.shape, D_init1.shape)\n",
        "np.set_printoptions(precision = 3, threshold = 4, edgeitems = 5, suppress = False)\n",
        "i = 8\n",
        "num_atoms = test_ts[i].GetNumAtoms()\n",
        "print(\"MIT: \\n\", D_init[i][0:num_atoms, 0:num_atoms])\n",
        "print(\"Mine: \\n\", D_init1[i][0:num_atoms, 0:num_atoms])\n",
        "print(\"GT: \\n\", Chem.Get3DDistanceMatrix(test_ts[i]))"
      ]
    },
    {
      "cell_type": "code",
      "execution_count": 9,
      "metadata": {},
      "outputs": [
        {
          "data": {
            "text/plain": "(tensor([[0.000, 3.034, 4.574, 4.575,  ..., 4.425, 4.425, 4.430, 4.427],\n         [2.899, 0.000, 4.501, 4.503,  ..., 4.359, 4.358, 4.366, 4.361],\n         [4.386, 4.514, 0.000, 3.050,  ..., 4.385, 4.388, 4.394, 4.393],\n         [4.400, 4.530, 3.066, 0.000,  ..., 4.417, 4.418, 4.412, 4.410],\n         ...,\n         [4.397, 4.529, 4.545, 4.564,  ..., 0.000, 4.430, 4.419, 4.415],\n         [4.397, 4.528, 4.548, 4.565,  ..., 4.430, 0.000, 4.414, 4.419],\n         [4.402, 4.536, 4.553, 4.559,  ..., 4.419, 4.414, 0.000, 4.430],\n         [4.399, 4.531, 4.553, 4.556,  ..., 4.415, 4.419, 4.430, 0.000]]),\n tensor([[0.000, 1.291, 1.711, 2.515,  ..., 4.405, 4.270, 3.113, 3.664],\n         [1.291, 0.000, 1.801, 3.104,  ..., 4.515, 4.344, 2.636, 2.967],\n         [1.711, 1.801, 0.000, 1.541,  ..., 3.092, 2.638, 2.199, 2.239],\n         [2.515, 3.104, 1.541, 0.000,  ..., 2.257, 2.201, 2.629, 3.109],\n         ...,\n         [4.405, 4.515, 3.092, 2.257,  ..., 0.000, 1.774, 2.480, 2.976],\n         [4.270, 4.344, 2.638, 2.201,  ..., 1.774, 0.000, 3.069, 2.549],\n         [3.113, 2.636, 2.199, 2.629,  ..., 2.480, 3.069, 0.000, 1.779],\n         [3.664, 2.967, 2.239, 3.109,  ..., 2.976, 2.549, 1.779, 0.000]],\n        dtype=torch.float64),\n tensor(293.320, dtype=torch.float64))"
          },
          "execution_count": 9,
          "metadata": {},
          "output_type": "execute_result"
        }
      ],
      "source": [
        "from rdkit import Chem\n",
        "import torch\n",
        "\n",
        "def get_euc_dist(X):\n",
        "    D_sq = torch.square(torch.unsqueeze(X, 1) - torch.unsqueeze(X, 2))\n",
        "    D = torch.sum(D_sq, 3) + 1e-2\n",
        "    return D\n",
        "\n",
        "def sequence_mask(sizes, max_size = 21, dtype = torch.bool, device = 'cpu'):\n",
        "    row_vector = torch.arange(0, max_size, 1).to(device)\n",
        "    matrix = torch.unsqueeze(sizes, dim = -1)\n",
        "    mask = row_vector < matrix\n",
        "    mask.type(dtype)\n",
        "    return mask\n",
        "\n",
        "def loss_dist(X_pred, X_gt, mask_D):\n",
        "    D_pred = mask_D * get_euc_dist(X_pred)\n",
        "    D_gt = mask_D * get_euc_dist(X_gt)\n",
        "    loss_dist_all = mask_D * torch.abs(D_pred - D_gt)\n",
        "    loss_dist = torch.sum(loss_dist_all) / torch.sum(mask_D)\n",
        "    return loss_dist\n",
        "\n",
        "i = 8\n",
        "base_folder = r'data/raw/' # normal\n",
        "test_ts_file = base_folder + 'test_ts.sdf'\n",
        "test_ts = Chem.SDMolSupplier(test_ts_file, removeHs=False, sanitize=False)\n",
        "test_ts = [ts for ts in test_ts]\n",
        "num_atoms = test_ts[i].GetNumAtoms()\n",
        "D_gt = torch.from_numpy(Chem.Get3DDistanceMatrix(test_ts[i]))\n",
        "\n",
        "d_folder = 'experiments/building_on_mit/meta_eval/d_inits/'\n",
        "D_init1 = np.load(d_folder + file_name)\n",
        "D_pred = torch.from_numpy(D_init1[i][0:num_atoms, 0:num_atoms])\n",
        "\n",
        "def loss_dist(D_pred, D_gt):\n",
        "    loss_dist_all = torch.abs(D_pred - D_gt)\n",
        "    loss_dist = torch.sum(loss_dist_all)\n",
        "    return loss_dist\n",
        "\n",
        "torch.set_printoptions(precision=3, threshold=5, edgeitems=4, sci_mode=None)\n",
        "D_pred, D_gt, loss_dist(D_pred, D_gt)"
      ]
    },
    {
      "cell_type": "code",
      "execution_count": 6,
      "metadata": {},
      "outputs": [],
      "source": [
        "# lists for plotting\n",
        "gt, best_init, lin_approx = [], [], []\n",
        "d_init_lists = [[] for i in range(num_d_inits)]\n",
        "\n",
        "for idx in range(len(test_ts)):\n",
        "\n",
        "    # num_atoms + mask for reaction core\n",
        "    num_atoms = test_ts[idx].GetNumAtoms()\n",
        "    core_mask = (Chem.GetAdjacencyMatrix(test_p[idx]) + Chem.GetAdjacencyMatrix(test_r[idx])) == 1\n",
        "\n",
        "    # main 3\n",
        "    gt.append(np.ravel(Chem.Get3DDistanceMatrix(test_ts[idx]) * core_mask))\n",
        "    best_init.append(np.ravel(D_init[idx][0:num_atoms, 0:num_atoms] * core_mask))\n",
        "    lin_approx.append(np.ravel((Chem.Get3DDistanceMatrix(test_r[idx]) + Chem.Get3DDistanceMatrix(test_p[idx])) / 2 * core_mask))\n",
        "\n",
        "    # other d_inits\n",
        "    for j, d_init_list in enumerate(d_init_lists):\n",
        "        d_init_lists[j].append(np.ravel(d_inits[j][idx][0:num_atoms, 0:num_atoms]*core_mask))\n",
        "\n",
        "# make plottable\n",
        "all_ds = [gt, best_init, lin_approx, *d_init_lists]\n",
        "all_ds = [np.concatenate(ds).ravel() for ds in all_ds]\n",
        "# all_ds = [ds[ds != 0] for ds in all_ds]"
      ]
    },
    {
      "cell_type": "code",
      "execution_count": 7,
      "metadata": {},
      "outputs": [
        {
          "name": "stdout",
          "output_type": "stream",
          "text": [
            "Len of each list pre removing zeros: 153968 153968 153968 153968 \n",
            "Len of each list post removing zeros: 4346 4346 4346 4346 \n"
          ]
        }
      ],
      "source": [
        "# lists for plotting\n",
        "gt, best_init, lin_approx = [], [], []\n",
        "d_init_lists = [[] for i in range(num_d_inits)]\n",
        "\n",
        "for idx in range(len(test_ts)):\n",
        "\n",
        "    # num_atoms + mask for reaction core\n",
        "    num_atoms = test_ts[idx].GetNumAtoms()\n",
        "    core_mask = (Chem.GetAdjacencyMatrix(test_p[idx]) + Chem.GetAdjacencyMatrix(test_r[idx])) == 1\n",
        "\n",
        "    # main 3\n",
        "    gt.append(np.ravel(Chem.Get3DDistanceMatrix(test_ts[idx]) * core_mask))\n",
        "    best_init.append(np.ravel(D_init[idx][0:num_atoms, 0:num_atoms] * core_mask))\n",
        "    lin_approx.append(np.ravel((Chem.Get3DDistanceMatrix(test_r[idx]) + Chem.Get3DDistanceMatrix(test_p[idx])) / 2 * core_mask))\n",
        "\n",
        "    # other d_inits\n",
        "    for j, d_init_list in enumerate(d_init_lists):\n",
        "        d_init_lists[j].append(np.ravel(d_inits[j][idx][0:num_atoms, 0:num_atoms]*core_mask))\n",
        "\n",
        "# NOTE: fine up to this point, all lengths match\n",
        "\n",
        "# make plottable\n",
        "all_ds = [gt, best_init, lin_approx, *d_init_lists]\n",
        "all_ds = [np.concatenate(ds).ravel() for ds in all_ds]\n",
        "\n",
        "# NOTE: fine up to this point, all lengths match\n",
        "\n",
        "prezero_msg = f\"Len of each list pre removing zeros: \"\n",
        "for ds in all_ds:\n",
        "    prezero_msg += f\"{len(ds)} \"\n",
        "print(prezero_msg)\n",
        "\n",
        "all_ds = [ds[ds != 0] for ds in all_ds] # only keep non-zero values\n",
        "# all_ds = [ds[ds == 0] for ds in all_ds]\n",
        "\n",
        "postzero_msg = f\"Len of each list post removing zeros: \"\n",
        "for ds in all_ds:\n",
        "    postzero_msg += f\"{len(ds)} \"\n",
        "print(postzero_msg)\n",
        "\n",
        "ds_dict = {'gt': (all_ds[0], 'Ground Truth'), 'best_init': (all_ds[1], 'MIT D_init'),\\\n",
        "     'lin_approx': (all_ds[2], 'Linear Approximation')}\n",
        "base_ds_counter = len(ds_dict)\n",
        "for k in range(len(d_init_lists)):\n",
        "    name = f'D_init{k+1}'\n",
        "    ds_dict[name] = (all_ds[base_ds_counter + k], name)"
      ]
    },
    {
      "cell_type": "code",
      "execution_count": 8,
      "metadata": {},
      "outputs": [
        {
          "name": "stderr",
          "output_type": "stream",
          "text": [
            "/anaconda/envs/azureml_py38/lib/python3.8/site-packages/seaborn/distributions.py:2557: FutureWarning: `distplot` is a deprecated function and will be removed in a future version. Please adapt your code to use either `displot` (a figure-level function with similar flexibility) or `kdeplot` (an axes-level function for kernel density plots).\n",
            "  warnings.warn(msg, FutureWarning)\n",
            "/anaconda/envs/azureml_py38/lib/python3.8/site-packages/seaborn/distributions.py:2557: FutureWarning: `distplot` is a deprecated function and will be removed in a future version. Please adapt your code to use either `displot` (a figure-level function with similar flexibility) or `kdeplot` (an axes-level function for kernel density plots).\n",
            "  warnings.warn(msg, FutureWarning)\n",
            "/anaconda/envs/azureml_py38/lib/python3.8/site-packages/seaborn/distributions.py:2557: FutureWarning: `distplot` is a deprecated function and will be removed in a future version. Please adapt your code to use either `displot` (a figure-level function with similar flexibility) or `kdeplot` (an axes-level function for kernel density plots).\n",
            "  warnings.warn(msg, FutureWarning)\n",
            "/anaconda/envs/azureml_py38/lib/python3.8/site-packages/seaborn/distributions.py:2557: FutureWarning: `distplot` is a deprecated function and will be removed in a future version. Please adapt your code to use either `displot` (a figure-level function with similar flexibility) or `kdeplot` (an axes-level function for kernel density plots).\n",
            "  warnings.warn(msg, FutureWarning)\n"
          ]
        },
        {
          "data": {
            "image/png": "[encoded data removed]",
            "text/plain": "<Figure size 864x648 with 1 Axes>"
          },
          "metadata": {
            "needs_background": "light"
          },
          "output_type": "display_data"
        }
      ],
      "source": [
        "fig, ax = plt.subplots(figsize=(12,9))\n",
        "\n",
        "num_to_plot = len(ds_dict)\n",
        "cols = sns.color_palette(\"Set2\", num_to_plot)\n",
        "\n",
        "# keys: 'gt', 'lin_approx', 'best_init', f'D_init{i}'\n",
        "# no_print = ['lin_approx']\n",
        "\n",
        "for i, key in enumerate(ds_dict.keys()):\n",
        "    #if key in no_print:\n",
        "    #    continue\n",
        "    sns.distplot(ds_dict[key][0], color=cols[i], kde_kws={\"lw\": 3, \"label\": ds_dict[key][1]}, hist=False)\n",
        "\n",
        "ax.legend(loc='upper right')\n",
        "ax.legend(fontsize=12)\n",
        "ax.set_ylabel('Density', fontsize=22)\n",
        "ax.set_xlabel(r'Distance ($\\AA$)', fontsize=22)\n",
        "ax.tick_params(axis='both', which='major', labelsize=22)\n",
        "ax.spines[\"top\"].set_visible(False)    \n",
        "ax.spines[\"bottom\"].set_visible(True)    \n",
        "ax.spines[\"right\"].set_visible(False)    \n",
        "ax.spines[\"left\"].set_visible(True) "
      ]
    },
    {
      "cell_type": "markdown",
      "metadata": {},
      "source": [
        "## Ensemble\n",
        "\n",
        "Average all produced $D_{inits}s$ then plot."
      ]
    },
    {
      "cell_type": "code",
      "execution_count": 82,
      "metadata": {},
      "outputs": [
        {
          "data": {
            "text/plain": "((4346,), (4346,))"
          },
          "execution_count": 82,
          "metadata": {},
          "output_type": "execute_result"
        }
      ],
      "source": [
        "ds_dict['D_init1'][0].shape, ds_dict['best_init'][0].shape"
      ]
    },
    {
      "cell_type": "code",
      "execution_count": 83,
      "metadata": {},
      "outputs": [],
      "source": [
        "# averaged ensemble of d_inits\n",
        "ensemble_ds = []\n",
        "d_inits\n",
        "for i in range(len(ds_dict['best_init'][0])):\n",
        "    ensemble_d = 0\n",
        "    for j in range(1, num_d_inits + 1):\n",
        "        ensemble_d += ds_dict[f'D_init{j}'][0][i]\n",
        "    ensemble_d /= num_d_inits\n",
        "    ensemble_ds.append(ensemble_d)\n",
        "\n",
        "ds_dict['ens'] = (ensemble_ds, \"Avg Ensemble D_init\")"
      ]
    },
    {
      "cell_type": "code",
      "execution_count": 84,
      "metadata": {},
      "outputs": [
        {
          "name": "stderr",
          "output_type": "stream",
          "text": [
            "/anaconda/envs/azureml_py38/lib/python3.8/site-packages/seaborn/distributions.py:2557: FutureWarning: `distplot` is a deprecated function and will be removed in a future version. Please adapt your code to use either `displot` (a figure-level function with similar flexibility) or `kdeplot` (an axes-level function for kernel density plots).\n",
            "  warnings.warn(msg, FutureWarning)\n",
            "/anaconda/envs/azureml_py38/lib/python3.8/site-packages/seaborn/distributions.py:2557: FutureWarning: `distplot` is a deprecated function and will be removed in a future version. Please adapt your code to use either `displot` (a figure-level function with similar flexibility) or `kdeplot` (an axes-level function for kernel density plots).\n",
            "  warnings.warn(msg, FutureWarning)\n",
            "/anaconda/envs/azureml_py38/lib/python3.8/site-packages/seaborn/distributions.py:2557: FutureWarning: `distplot` is a deprecated function and will be removed in a future version. Please adapt your code to use either `displot` (a figure-level function with similar flexibility) or `kdeplot` (an axes-level function for kernel density plots).\n",
            "  warnings.warn(msg, FutureWarning)\n"
          ]
        },
        {
          "data": {
            "image/png": "[encoded data removed]",
            "text/plain": "<Figure size 864x648 with 1 Axes>"
          },
          "metadata": {
            "needs_background": "light"
          },
          "output_type": "display_data"
        }
      ],
      "source": [
        "fig, ax = plt.subplots(figsize=(12,9))\n",
        "\n",
        "num_to_plot = len(ds_dict)\n",
        "cols = sns.color_palette(\"Set2\", num_to_plot)\n",
        "\n",
        "# keys: 'gt', 'lin_approx', 'best_init', f'D_init{i}'\n",
        "no_print = ['lin_approx']\n",
        "print_d_init = False\n",
        "if not print_d_init:\n",
        "    for j in range(1, num_d_inits + 1):\n",
        "        no_print.append(f'D_init{j}')\n",
        "\n",
        "for i, key in enumerate(ds_dict.keys()):\n",
        "    if key in no_print:\n",
        "        continue\n",
        "    sns.distplot(ds_dict[key][0], color=cols[i], kde_kws={\"lw\": 3, \"label\": ds_dict[key][1]}, hist=False)\n",
        "\n",
        "ax.legend(loc='upper right')\n",
        "ax.legend(fontsize=12)\n",
        "ax.set_ylabel('Density', fontsize=22)\n",
        "ax.set_xlabel(r'Distance ($\\AA$)', fontsize=22)\n",
        "ax.tick_params(axis='both', which='major', labelsize=22)\n",
        "ax.spines[\"top\"].set_visible(False)    \n",
        "ax.spines[\"bottom\"].set_visible(True)    \n",
        "ax.spines[\"right\"].set_visible(False)    \n",
        "ax.spines[\"left\"].set_visible(True) "
      ]
    }
  ],
  "metadata": {
    "kernelspec": {
      "display_name": "tsir-rdkit-env",
      "name": "tsir-rdkit-env"
    },
    "language_info": {
      "name": "python",
      "version": ""
    },
    "orig_nbformat": 3
  },
  "nbformat": 4,
  "nbformat_minor": 2
}