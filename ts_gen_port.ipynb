{
  "cells": [
    {
      "cell_type": "code",
      "execution_count": 2,
      "metadata": {},
      "outputs": [
        {
          "name": "stdout",
          "output_type": "stream",
          "text": [
            "Files removed.\n",
            "Processing...\n"
          ]
        },
        {
          "name": "stderr",
          "output_type": "stream",
          "text": [
            "  0%|          | 10/7581 [00:00<02:23, 52.77it/s]\n"
          ]
        },
        {
          "name": "stdout",
          "output_type": "stream",
          "text": [
            "Done!\n"
          ]
        }
      ],
      "source": [
        "from ts_vae.data_processors.ts_gen_processor import TSGenDataset\r\n",
        "from torch_geometric.data import DataLoader\r\n",
        "import numpy as np\r\n",
        "from ts_vae.utils import remove_files\r\n",
        "remove_files() \r\n",
        "rxns = TSGenDataset(r'data')\r\n",
        "rxns[0]\r\n",
        "###\r\n",
        "tt_split = 0.8\r\n",
        "num_rxns = len(rxns)\r\n",
        "num_train = int(np.floor(tt_split * num_rxns))\r\n",
        "batch_size = 2\r\n",
        "train_loader = DataLoader(rxns[: num_train], batch_size = batch_size)\r\n",
        "test_loader = DataLoader(rxns[num_train: ], batch_size = batch_size)\r\n",
        "###\r\n",
        "batch = next(iter(train_loader))\r\n",
        "test = batch.edge_attr"
      ]
    },
    {
      "cell_type": "code",
      "execution_count": 3,
      "metadata": {},
      "outputs": [
        {
          "data": {
            "text/plain": "tensor([15, 13])"
          },
          "execution_count": 3,
          "metadata": {},
          "output_type": "execute_result"
        }
      ],
      "source": [
        "batch.num_atoms"
      ]
    },
    {
      "cell_type": "code",
      "execution_count": 24,
      "metadata": {},
      "outputs": [],
      "source": [
        "from ts_vae.data_processors.ts_gen_processor import TSGenDataset\n",
        "import torch\n",
        "from torch_geometric.data import DataLoader\n",
        "import tqdm\n",
        "rxns = TSGenDataset(r'data')\n",
        "\n",
        "device = torch.device(\"cuda:0\" if torch.cuda.is_available() else \"cpu\") # NOTE\n",
        "\n",
        "train_loader = DataLoader(rxns[: 300], batch_size = 8)\n",
        "\n",
        "for inputs in train_loader:\n",
        "    inputs = inputs.to(device)\n",
        "\n",
        "# train_loader.is_cuda"
      ]
    },
    {
      "cell_type": "code",
      "execution_count": 5,
      "metadata": {},
      "outputs": [
        {
          "name": "stdout",
          "output_type": "stream",
          "text": [
            "Starting ablation experiment...\n",
            "===== Training epoch 001 complete with loss: 2.3476 ====\n",
            "===== Testing epoch 001 complete with loss: 2.2618 ====\n",
            "Completed ablation experiment, use the experiment log to print results.\n"
          ]
        }
      ],
      "source": [
        "from experiments.building_on_mit.meta_eval.meta_eval import ablation_experiment\n",
        "# from ts_vae.utils import remove_files\n",
        "# remove_files()\n",
        "train_log, test_log = ablation_experiment(tt_split = 0.8, epochs = 1, test_interval = 1, \\\n",
        "                                          batch_size = 8, h_nf = 256, n_layers = 2, gnn_depth = 3)\n",
        "\n",
        "# b=8, h=256, gnn_depth=3, n_layers=2\n",
        "# b=20, h=256, n_layers=2, gnn_depth=3 -> 33, 36; e=125s\n",
        "# b=20, h=256, n_layers=1, gnn_depth=3 -> 58, 36; e=50s\n",
        "# b=20, h=256, n_layers=1, gnn_depth=2 -> 35, 36; e=70s"
      ]
    },
    {
      "cell_type": "code",
      "execution_count": 2,
      "metadata": {},
      "outputs": [
        {
          "data": {
            "text/plain": "(200, 21, 21)"
          },
          "execution_count": 2,
          "metadata": {},
          "output_type": "execute_result"
        }
      ],
      "source": [
        "import torch\r\n",
        "\r\n",
        "# want to create a D_init of [num_train, 21, 21] for plotting\r\n",
        "batched_test_Ds = test_log.epoch_ae_results[0]['D_init']\r\n",
        "test_Ds = torch.cat([D for D in batched_test_Ds], 0)\r\n",
        "test_Ds = test_Ds.detach().cpu().numpy()\r\n",
        "\r\n",
        "# might be easier to view training dynamics this way\r\n",
        "\r\n",
        "test_Ds.shape"
      ]
    }
  ],
  "metadata": {
    "kernel_info": {
      "name": "3d-rdkit"
    },
    "kernelspec": {
      "display_name": "Python 3.8.1 64-bit ('azureml_py38': conda)",
      "name": "3d-rdkit"
    },
    "language_info": {
      "codemirror_mode": {
        "name": "ipython",
        "version": 3
      },
      "file_extension": ".py",
      "mimetype": "text/x-python",
      "name": "python",
      "nbconvert_exporter": "python",
      "pygments_lexer": "ipython3",
      "version": "3.8.1"
    },
    "nteract": {
      "version": "nteract-front-end@1.0.0"
    },
    "orig_nbformat": 2
  },
  "nbformat": 4,
  "nbformat_minor": 2
}