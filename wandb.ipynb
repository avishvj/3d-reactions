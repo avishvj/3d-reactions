{
 "cells": [
  {
   "cell_type": "markdown",
   "metadata": {},
   "source": [
    "### Experiment Tracking with W&B\r\n",
    "\r\n",
    "- config: store hp and metadata for each run\r\n",
    "- wandb.init\r\n",
    "- wandb.watch: log model gradients and params over time (helps detect bugs e.g. weird grad behaviour)\r\n",
    "- wandb.log: log stuff we care about\r\n",
    "- wandb.save: save online\r\n",
    "\r\n",
    "use with block in context manager syntax"
   ]
  },
  {
   "cell_type": "code",
   "execution_count": null,
   "metadata": {},
   "outputs": [],
   "source": [
    "import wandb\r\n",
    "wandb.login()"
   ]
  },
  {
   "cell_type": "code",
   "execution_count": null,
   "metadata": {},
   "outputs": [],
   "source": [
    "config = dict(\r\n",
    "    epochs = 50,\r\n",
    "    val_ratio = 0,\r\n",
    "    test_ratio = 0.2\r\n",
    ")"
   ]
  },
  {
   "cell_type": "code",
   "execution_count": null,
   "metadata": {},
   "outputs": [],
   "source": [
    "def make(base_path, val_ratio, test_ratio, encode_data_name, decode_data_name, latent_dim):\r\n",
    "    # TODO: make edges to device here on when called on\r\n",
    "    device = torch.device('cuda' if torch.cuda.is_available() else 'cpu')\r\n",
    "\r\n",
    "    # dataset to encode\r\n",
    "    encode_dataset = ReactionDataset(base_path, geo_file = encode_data_name, dataset_type= 'individual')\r\n",
    "    encode_data = encode_dataset.data\r\n",
    "    encode_data.train_mask = encode_data.val_mask = encode_data.test_mask = encode_data.y = None\r\n",
    "    encode_data = train_test_split_edges(data = encode_data, val_ratio = val_ratio, test_ratio = test_ratio)\r\n",
    "    encode_x = encode_data.x.to(device)\r\n",
    "    encode_train_pos_edge_index = encode_data.train_pos_edge_index.to(device)\r\n",
    "\r\n",
    "    # dataset to decode\r\n",
    "    decode_dataset = ReactionDataset(base_path, geo_file = decode_data_name, dataset_type= 'individual')\r\n",
    "    decode_data = decode_dataset.data\r\n",
    "    decode_data.train_mask = decode_data.val_mask = decode_data.test_mask = decode_data.y = None\r\n",
    "    decode_data = train_test_split_edges(data = decode_data, val_ratio = val_ratio, test_ratio = test_ratio)\r\n",
    "    decode_x = decode_data.x.to(device)\r\n",
    "    decode_train_pos_edge_index = decode_data.train_pos_edge_index.to(device)\r\n",
    "\r\n",
    "    # model creation\r\n",
    "    gae = GAE(MolEncoder(encode_data.num_node_features, latent_dim))\r\n",
    "    opt = torch.optim.Adam(gae.parameters(), lr = 0.01)\r\n",
    "\r\n",
    "    return gae, opt, encode_data, decode_data"
   ]
  },
  {
   "cell_type": "code",
   "execution_count": null,
   "metadata": {},
   "outputs": [],
   "source": [
    "def model_pipeline(hps):\r\n",
    "\r\n",
    "    # start wandb\r\n",
    "    with wandb.init(project=\"test\", config=hps):\r\n",
    "        \r\n",
    "        # access hps through wandb.config so logging matches execution\r\n",
    "        config = wandb.config\r\n",
    "\r\n",
    "        # model data\r\n",
    "        \r\n",
    "        val_ratio = 0\r\n",
    "        test_ratio = 0.2\r\n",
    "        \r\n",
    "        # make model, data, opt problem\r\n",
    "        ts_r_gae, ts_r_opt, r_data, ts_data = make(r'data/', 0, 0.2, 'train_r', 'train_ts', 2)"
   ]
  },
  {
   "cell_type": "markdown",
   "metadata": {},
   "source": [
    "### Testing GAEs"
   ]
  },
  {
   "cell_type": "code",
   "execution_count": 8,
   "metadata": {},
   "outputs": [],
   "source": [
    "from ts_vae.gae import EGNN, EGNN_NEC, MolGraph_AE\r\n",
    "from ts_vae.layers import GCL_PYG\r\n",
    "from ts_vae.data_processors.new_pyg_processor import ReactionDataset\r\n",
    "from ts_vae.simple_gaes.node_gae_act import Node_AE\r\n",
    "\r\n",
    "import torch\r\n",
    "import torch.nn as nn\r\n",
    "import torch.nn.functional as F\r\n",
    "from torch_geometric.data import DataLoader\r\n",
    "\r\n",
    "# should double check this func works okay\r\n",
    "from torch_geometric.utils import to_dense_adj\r\n",
    "\r\n",
    "\r\n",
    "import numpy as np\r\n",
    "from sklearn.metrics import roc_auc_score, average_precision_score"
   ]
  },
  {
   "cell_type": "code",
   "execution_count": 9,
   "metadata": {},
   "outputs": [],
   "source": [
    "# remove processed files\r\n",
    "\r\n",
    "import os\r\n",
    "import glob\r\n",
    "\r\n",
    "files = glob.glob(r'data/processed/*')\r\n",
    "for f in files:\r\n",
    "    os.remove(f)"
   ]
  },
  {
   "cell_type": "markdown",
   "metadata": {},
   "source": [
    "## New try"
   ]
  },
  {
   "cell_type": "code",
   "execution_count": 10,
   "metadata": {},
   "outputs": [
    {
     "name": "stdout",
     "output_type": "stream",
     "text": [
      "Processing...\n"
     ]
    },
    {
     "name": "stderr",
     "output_type": "stream",
     "text": [
      "  0%|          | 30/6739 [00:00<00:08, 750.46it/s]\n",
      "  4%|▎         | 30/842 [00:00<00:03, 220.83it/s]\n",
      "  0%|          | 30/6739 [00:00<00:30, 216.69it/s]\n",
      "  4%|▎         | 30/842 [00:00<00:02, 331.62it/s]\n",
      "  0%|          | 30/6739 [00:00<00:27, 244.57it/s]\n",
      "  4%|▎         | 30/842 [00:00<00:01, 469.09it/s]\n"
     ]
    },
    {
     "name": "stdout",
     "output_type": "stream",
     "text": [
      "Done!\n"
     ]
    }
   ],
   "source": [
    "rxns = ReactionDataset(r'data')\r\n",
    "reactants = rxns.data.r\r\n",
    "transition_states = rxns.data.ts\r\n",
    "products = rxns.data.p\r\n",
    "\r\n",
    "# train_loader = DataLoader(rxns[: num_train], batch_size = 2, follow_batch = ['r', 'p'])\r\n",
    "# test_loader = DataLoader(rxns[num_train:], batch_size = 2, follow_batch = ['r', 'p'])\r\n",
    "\r\n",
    "num_rxns = len(rxns)\r\n",
    "train_ratio = 0.8\r\n",
    "num_train = int(np.floor(train_ratio * num_rxns))\r\n",
    "\r\n",
    "batch_size = 2\r\n",
    "\r\n",
    "# need to be able to recover original reactants after encoding\r\n",
    "# note: no padding, since PyG automatically factors this in\r\n",
    "train_loaders = {'r':  DataLoader(reactants[: num_train], batch_size), \r\n",
    "                 'ts': DataLoader(transition_states[: num_train], batch_size), \r\n",
    "                 'p':  DataLoader(products[: num_train], batch_size)}\r\n",
    "\r\n",
    "test_loaders =  {'r':  DataLoader(reactants[num_train: ], batch_size), \r\n",
    "                 'ts': DataLoader(transition_states[num_train: ], batch_size), \r\n",
    "                 'p':  DataLoader(products[num_train: ], batch_size)}"
   ]
  },
  {
   "cell_type": "code",
   "execution_count": 11,
   "metadata": {},
   "outputs": [],
   "source": [
    "max_num_nodes = max([r.z.size(0) for r in test_loaders['r'].dataset])\r\n",
    "assert([r.x.size(1) for r in test_loaders['r'].dataset] == [test_loaders['r'].dataset[0].x.size(1)] * len(test_loaders['r'].dataset))\r\n",
    "num_node_fs = test_loaders['r'].dataset[0].x.size(1)\r\n",
    "num_edge_fs = test_loaders['r'].dataset[0].edge_attr.size(1)\r\n",
    "h_nf = 5\r\n",
    "emb_nf = 2\r\n",
    "\r\n",
    "# in_node_nf + in_edge_nf >= h_nf >= out_nf > emb_nf \r\n",
    "node_ae = Node_AE(in_node_nf = num_node_fs, in_edge_nf = num_edge_fs, h_nf = h_nf, out_nf = h_nf, emb_nf = emb_nf)\r\n",
    "opt = torch.optim.Adam(node_ae.parameters(), lr = 1e-3)"
   ]
  },
  {
   "cell_type": "code",
   "execution_count": 157,
   "metadata": {},
   "outputs": [
    {
     "data": {
      "text/plain": "torch.Size([30, 2])"
     },
     "execution_count": 157,
     "metadata": {},
     "output_type": "execute_result"
    }
   ],
   "source": [
    "# value = (z[edge_index[0]] * z[edge_index[1]]).sum(dim=1)\r\n",
    "\r\n",
    "# x[edge_index[0]].shape = [num_nodes, 2]\r\n",
    "# (x[edge_index[0]] * x[edge_index[1]]).shape = [num_nodes, 2]\r\n",
    "# (x[edge_index[0]] * x[edge_index[1]]).sum(dim=1).shape = [num_nodes]\r\n",
    "\r\n",
    "x = node_emb\r\n",
    "\r\n",
    "# (x[edge_index[0]] * x[edge_index[1]]).sum(dim=1).shape\r\n",
    "\r\n",
    "x_a = x.unsqueeze(0) # dim: [1, num_nodes, 2]\r\n",
    "x_b = torch.transpose(x_a, 0, 1) # dim: [num_nodes, 1, 2], t.t([_, dim to t, dim to t])\r\n",
    "\r\n",
    "X = (x_a - x_b) ** 2  # dim: [num_nodes, num_nodes, 2]\r\n",
    "\r\n",
    "num_nodes = x.size(0) # num_nodes (usually as number of nodes in batch)\r\n",
    "X = X.view(num_nodes ** 2, -1) # dim: [num_nodes^2, 2] to apply sum \r\n",
    "\r\n",
    "# (lin_sig or not) layer, dim=1 sums to dim=[num_nodes^2]\r\n",
    "# gives porbabilistic adj matrix\r\n",
    "X = torch.sigmoid(W * torch.sum(X, dim = 1) + b) if linear_sig else torch.sum(X, dim = 1)\r\n",
    "\r\n",
    "adj_pred = X.view(num_nodes, num_nodes) # dim: [num_nodes, num_nodes]\r\n",
    "# remove diags\r\n",
    "adj_pred = adj_pred * (1 - torch.eye(num_nodes).to(self.device))\r\n",
    "\r\n"
   ]
  },
  {
   "cell_type": "code",
   "execution_count": 15,
   "metadata": {},
   "outputs": [
    {
     "data": {
      "text/plain": "tensor(0.3936, grad_fn=<BinaryCrossEntropyBackward>)"
     },
     "execution_count": 15,
     "metadata": {},
     "output_type": "execute_result"
    }
   ],
   "source": [
    "from sklearn.metrics import roc_auc_score, average_precision_score\r\n",
    "import torch.nn.functional as F\r\n",
    "\r\n",
    "### test on single batch\r\n",
    "\r\n",
    "# get data\r\n",
    "r_batch = next(iter(test_loaders['r']))\r\n",
    "node_feats, edge_index, edge_attr, batch_vec = r_batch.x, r_batch.edge_index, r_batch.edge_attr, r_batch.batch\r\n",
    "\r\n",
    "# generate node embedding and predicted adj\r\n",
    "node_emb, adj_pred = node_ae(node_feats, edge_index, edge_attr)\r\n",
    "\r\n",
    "# ground truth adj matrix; if add batch vec, you get two, if add edge_attr get x4 in dim\r\n",
    "# adj_gt = to_dense_adj(edge_index, batch_vec, edge_attr)\r\n",
    "adj_gt = to_dense_adj(edge_index = edge_index).squeeze(dim = 0)\r\n",
    "\r\n",
    "assert adj_gt.shape == adj_pred.shape, \"Your adjacency matrices don't have the same shape!\"\r\n",
    "\r\n",
    "# adj_gt, adj_pred = adj_gt.detach().cpu().numpy(), adj_pred.detach().cpu().numpy()\r\n",
    "\r\n",
    "# roc_auc_score(adj_gt, adj_pred), average_precision_score(adj_gt, adj_pred)\r\n",
    "# F.binary_cross_entropy(adj_pred, adj_gt)\r\n",
    "\r\n",
    "loss = F.binary_cross_entropy(adj_pred, adj_gt)\r\n",
    "loss"
   ]
  },
  {
   "cell_type": "code",
   "execution_count": 158,
   "metadata": {},
   "outputs": [
    {
     "data": {
      "text/plain": "Batch(batch=[15], edge_attr=[30, 4], edge_index=[2, 30], idx=[1], pos=[15, 3], ptr=[2], x=[15, 11], z=[15])"
     },
     "execution_count": 158,
     "metadata": {},
     "output_type": "execute_result"
    }
   ],
   "source": [
    "# decode to adj of number of node features you have\r\n",
    "# how to compare adj matrices?\r\n",
    "\r\n",
    "# R->R: node ae, train\r\n",
    "# R->R: node + edge ae, train\r\n",
    "# R->R: node + edge + coords, train\r\n",
    "# same for R->TS, P->TS, (R,P)->TS\r\n",
    "\r\n",
    "# look at DGL for improvements: k-hop graph func + khop adj util func"
   ]
  },
  {
   "cell_type": "code",
   "execution_count": 12,
   "metadata": {},
   "outputs": [
    {
     "ename": "TypeError",
     "evalue": "'int' object is not callable",
     "output_type": "error",
     "traceback": [
      "\u001b[1;31m---------------------------------------------------------------------------\u001b[0m",
      "\u001b[1;31mTypeError\u001b[0m                                 Traceback (most recent call last)",
      "\u001b[1;32m<ipython-input-12-f9ff1cee61b0>\u001b[0m in \u001b[0;36m<module>\u001b[1;34m\u001b[0m\n\u001b[0;32m     37\u001b[0m     \u001b[1;32mreturn\u001b[0m \u001b[0mres\u001b[0m\u001b[1;33m[\u001b[0m\u001b[1;34m'loss'\u001b[0m\u001b[1;33m]\u001b[0m \u001b[1;33m/\u001b[0m \u001b[0mres\u001b[0m\u001b[1;33m[\u001b[0m\u001b[1;34m'counter'\u001b[0m\u001b[1;33m]\u001b[0m\u001b[1;33m\u001b[0m\u001b[1;33m\u001b[0m\u001b[0m\n\u001b[0;32m     38\u001b[0m \u001b[1;33m\u001b[0m\u001b[0m\n\u001b[1;32m---> 39\u001b[1;33m \u001b[0mtrain_node_ae\u001b[0m\u001b[1;33m(\u001b[0m\u001b[0mnode_ae\u001b[0m\u001b[1;33m,\u001b[0m \u001b[0mopt\u001b[0m\u001b[1;33m,\u001b[0m \u001b[0mtest_loaders\u001b[0m\u001b[1;33m[\u001b[0m\u001b[1;34m'r'\u001b[0m\u001b[1;33m]\u001b[0m\u001b[1;33m)\u001b[0m\u001b[1;33m\u001b[0m\u001b[1;33m\u001b[0m\u001b[0m\n\u001b[0m",
      "\u001b[1;32m<ipython-input-12-f9ff1cee61b0>\u001b[0m in \u001b[0;36mtrain_node_ae\u001b[1;34m(node_ae, opt, loader)\u001b[0m\n\u001b[0;32m     26\u001b[0m         \u001b[1;31m# loss = roc_auc_score(adj_gt, adj_pred) # , average_precision_score(adj_gt, adj_pred), other metrics\u001b[0m\u001b[1;33m\u001b[0m\u001b[1;33m\u001b[0m\u001b[1;33m\u001b[0m\u001b[0m\n\u001b[0;32m     27\u001b[0m         \u001b[1;31m# loss = obj(adj_pred, adj_gt)\u001b[0m\u001b[1;33m\u001b[0m\u001b[1;33m\u001b[0m\u001b[1;33m\u001b[0m\u001b[0m\n\u001b[1;32m---> 28\u001b[1;33m         \u001b[0mloss\u001b[0m \u001b[1;33m=\u001b[0m \u001b[0mF\u001b[0m\u001b[1;33m.\u001b[0m\u001b[0mbinary_cross_entropy\u001b[0m\u001b[1;33m(\u001b[0m\u001b[0madj_pred\u001b[0m\u001b[1;33m,\u001b[0m \u001b[0madj_gt\u001b[0m\u001b[1;33m)\u001b[0m\u001b[1;33m\u001b[0m\u001b[1;33m\u001b[0m\u001b[0m\n\u001b[0m\u001b[0;32m     29\u001b[0m         \u001b[0mloss\u001b[0m\u001b[1;33m.\u001b[0m\u001b[0mbackward\u001b[0m\u001b[1;33m(\u001b[0m\u001b[1;33m)\u001b[0m\u001b[1;33m\u001b[0m\u001b[1;33m\u001b[0m\u001b[0m\n\u001b[0;32m     30\u001b[0m         \u001b[0mopt\u001b[0m\u001b[1;33m.\u001b[0m\u001b[0mstep\u001b[0m\u001b[1;33m(\u001b[0m\u001b[1;33m)\u001b[0m\u001b[1;33m\u001b[0m\u001b[1;33m\u001b[0m\u001b[0m\n",
      "\u001b[1;32m~\\miniconda3\\envs\\3d-rdkit\\lib\\site-packages\\torch\\nn\\functional.py\u001b[0m in \u001b[0;36mbinary_cross_entropy\u001b[1;34m(input, target, weight, size_average, reduce, reduction)\u001b[0m\n\u001b[0;32m   2750\u001b[0m     \u001b[1;32melse\u001b[0m\u001b[1;33m:\u001b[0m\u001b[1;33m\u001b[0m\u001b[1;33m\u001b[0m\u001b[0m\n\u001b[0;32m   2751\u001b[0m         \u001b[0mreduction_enum\u001b[0m \u001b[1;33m=\u001b[0m \u001b[0m_Reduction\u001b[0m\u001b[1;33m.\u001b[0m\u001b[0mget_enum\u001b[0m\u001b[1;33m(\u001b[0m\u001b[0mreduction\u001b[0m\u001b[1;33m)\u001b[0m\u001b[1;33m\u001b[0m\u001b[1;33m\u001b[0m\u001b[0m\n\u001b[1;32m-> 2752\u001b[1;33m     \u001b[1;32mif\u001b[0m \u001b[0mtarget\u001b[0m\u001b[1;33m.\u001b[0m\u001b[0msize\u001b[0m\u001b[1;33m(\u001b[0m\u001b[1;33m)\u001b[0m \u001b[1;33m!=\u001b[0m \u001b[0minput\u001b[0m\u001b[1;33m.\u001b[0m\u001b[0msize\u001b[0m\u001b[1;33m(\u001b[0m\u001b[1;33m)\u001b[0m\u001b[1;33m:\u001b[0m\u001b[1;33m\u001b[0m\u001b[1;33m\u001b[0m\u001b[0m\n\u001b[0m\u001b[0;32m   2753\u001b[0m         raise ValueError(\n\u001b[0;32m   2754\u001b[0m             \u001b[1;34m\"Using a target size ({}) that is different to the input size ({}) is deprecated. \"\u001b[0m\u001b[1;33m\u001b[0m\u001b[1;33m\u001b[0m\u001b[0m\n",
      "\u001b[1;31mTypeError\u001b[0m: 'int' object is not callable"
     ]
    }
   ],
   "source": [
    "### test on single batch\r\n",
    "\r\n",
    "obj = nn.BCELoss()\r\n",
    "\r\n",
    "def train_node_ae(node_ae, opt, loader):\r\n",
    "\r\n",
    "    # use dict to record results, TODO: experiment dataclass: loss, epoch, batch_size\r\n",
    "    res = {'loss': 0, 'counter': 0, 'loss_arr': []}\r\n",
    "\r\n",
    "    for i, rxn_batch in enumerate(loader):\r\n",
    "\r\n",
    "        node_ae.train()\r\n",
    "        opt.zero_grad()\r\n",
    "\r\n",
    "        # generate node embeddings and predicted adj matrix\r\n",
    "        node_feats, edge_index, edge_attr = rxn_batch.x, rxn_batch.edge_index, rxn_batch.edge_attr\r\n",
    "        batch_size, batch_vec = len(rxn_batch.idx), rxn_batch.batch\r\n",
    "        node_emb, adj_pred = node_ae(node_feats, edge_index, edge_attr)\r\n",
    "\r\n",
    "        # ground truth adj matrix; if add batch vec, you get two, if add edge_attr get x4 in dim\r\n",
    "        adj_gt = to_dense_adj(edge_index = edge_index).squeeze(dim = 0)\r\n",
    "        assert adj_gt.shape == adj_pred.shape, \"Your adjacency matrices don't have the same shape!\"\r\n",
    "        \r\n",
    "        # calculate loss for adj and step\r\n",
    "\r\n",
    "        # adj_gt, adj_pred = adj_gt.detach().cpu().numpy(), adj_pred.detach().cpu().numpy()\r\n",
    "        # loss = roc_auc_score(adj_gt, adj_pred) # , average_precision_score(adj_gt, adj_pred), other metrics\r\n",
    "\r\n",
    "        # loss = obj(adj_pred, adj_gt)\r\n",
    "        loss = F.binary_cross_entropy(adj_pred, adj_gt)\r\n",
    "        loss.backward() \r\n",
    "        opt.step()\r\n",
    "\r\n",
    "        # record batch results\r\n",
    "        res['loss'] += loss.item() * batch_size\r\n",
    "        res['counter'] += batch_size\r\n",
    "        res['loss_arr'].append(loss.item())\r\n",
    "    \r\n",
    "    return res['loss'] / res['counter']\r\n",
    "\r\n",
    "train_node_ae(node_ae, opt, test_loaders['r'])"
   ]
  },
  {
   "cell_type": "code",
   "execution_count": null,
   "metadata": {},
   "outputs": [],
   "source": [
    "# first test with reactants\r\n",
    "\r\n",
    "def train_mg_ae(gae, opt):\r\n",
    "    \r\n",
    "    # lr_scheduler.step()\r\n",
    "\r\n",
    "    # simple results dict for now\r\n",
    "    res = {'loss': 0, 'counter': 0, 'loss_arr': []}\r\n",
    "\r\n",
    "    for i, rxn_batch in enumerate(test_loaders['r']):\r\n",
    "        \r\n",
    "        gae.train()\r\n",
    "        opt.zero_grad()\r\n",
    "    \r\n",
    "        # from batch get data info: node_feats, edge_index, edge_attr\r\n",
    "        # pass into model and get out ... adj?\r\n",
    "        node_feats, edge_index, edge_attr = rxn_batch.x, rxn_batch.edge_index, rxn_batch.edge_attr\r\n",
    "        \r\n",
    "        # to(device)?\r\n",
    "        emb_node_feats = gae(node_feats, edge_index, edge_attr)\r\n",
    "        \r\n",
    "        # calc loss\r\n",
    "        loss = 0 # = bce(adj_pred, adj_gt)\r\n",
    "        loss.backward() \r\n",
    "        opt.step()\r\n",
    "\r\n",
    "        # add results to experiment dataclass: loss, epoch,  batch_size\r\n",
    "        # temp: use dict\r\n",
    "        res['loss'] += loss.item() * batch\r\n",
    "    \r\n",
    "    # return final loss i.e. return experimentlog final loss\r\n",
    "    pass\r\n"
   ]
  },
  {
   "cell_type": "code",
   "execution_count": null,
   "metadata": {},
   "outputs": [],
   "source": [
    "def train_gae(gae, opt, x, train_pos_edge_index):\r\n",
    "    gae.train()\r\n",
    "    opt.zero_grad()\r\n",
    "    print(\"train x shape: \", x.shape)\r\n",
    "    z = gae.encode(x, train_pos_edge_index)\r\n",
    "    print(\"train z shape: \", z.shape)\r\n",
    "    loss = gae.recon_loss(z, train_pos_edge_index)\r\n",
    "    loss.backward()\r\n",
    "    opt.step()\r\n",
    "    return float(loss)\r\n",
    "\r\n",
    "def test_gae(gae, x, train_pos_edge_index, test_pos_edge_index, test_neg_edge_index):\r\n",
    "    gae.eval()\r\n",
    "    with torch.no_grad():\r\n",
    "        z = gae.encode(x, train_pos_edge_index)\r\n",
    "    return gae.test(z, test_pos_edge_index, test_neg_edge_index)\r\n",
    "\r\n",
    "def new_test_gae(gae, x, edge_index):\r\n",
    "    # this just does recon loss again\r\n",
    "    gae.eval()\r\n",
    "    with torch.no_grad():\r\n",
    "        print(\"test x shape: \", x.shape)\r\n",
    "        z = gae.encode(x, edge_index)\r\n",
    "        print(\"test z shape: \", z.shape)\r\n",
    "    return gae.recon_loss(z, edge_index)\r\n",
    "\r\n",
    "r_ae.reset_parameters()\r\n",
    "\r\n",
    "epochs = 10\r\n",
    "for epoch in range(1, epochs + 1):\r\n",
    "\r\n",
    "    # value = (z[edge_index[0]] * z[edge_index[1]]).sum(dim = 1)\r\n",
    "    loss_train = train_gae(r_ae, r_opt, r_x, r_data.edge_index)\r\n",
    "    print(\"===== Training complete with loss: {:.4f}, now testing ====\".format(loss_train))\r\n",
    "    loss_test = new_test_gae(r_ae, test_x, test_data.edge_index)\r\n",
    "    if epoch % 1 == 0:\r\n",
    "        print('===== Epoch: {:03d}, Loss: {:.4f} ===== \\n'.format(epoch, loss_test))"
   ]
  }
 ],
 "metadata": {
  "kernelspec": {
   "display_name": "Python 3.6.13 64-bit (conda)",
   "name": "3d-rdkit"
  },
  "language_info": {
   "codemirror_mode": {
    "name": "ipython",
    "version": 3
   },
   "file_extension": ".py",
   "mimetype": "text/x-python",
   "name": "python",
   "nbconvert_exporter": "python",
   "pygments_lexer": "ipython3",
   "version": "3.6.13"
  },
  "orig_nbformat": 2
 },
 "nbformat": 4,
 "nbformat_minor": 2
}