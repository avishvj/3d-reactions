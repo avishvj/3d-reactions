{
 "cells": [
  {
   "cell_type": "markdown",
   "metadata": {},
   "source": [
    "### Experiment Tracking with W&B\r\n",
    "\r\n",
    "- config: store hp and metadata for each run\r\n",
    "- wandb.init\r\n",
    "- wandb.watch: log model gradients and params over time (helps detect bugs e.g. weird grad behaviour)\r\n",
    "- wandb.log: log stuff we care about\r\n",
    "- wandb.save: save online\r\n",
    "\r\n",
    "use with block in context manager syntax"
   ]
  },
  {
   "cell_type": "code",
   "execution_count": null,
   "metadata": {},
   "outputs": [],
   "source": [
    "import wandb\r\n",
    "wandb.login()"
   ]
  },
  {
   "cell_type": "code",
   "execution_count": null,
   "metadata": {},
   "outputs": [],
   "source": [
    "config = dict(\r\n",
    "    epochs = 50,\r\n",
    "    val_ratio = 0,\r\n",
    "    test_ratio = 0.2\r\n",
    ")"
   ]
  },
  {
   "cell_type": "code",
   "execution_count": null,
   "metadata": {},
   "outputs": [],
   "source": [
    "def make(base_path, val_ratio, test_ratio, encode_data_name, decode_data_name, latent_dim):\r\n",
    "    # TODO: make edges to device here on when called on\r\n",
    "    device = torch.device('cuda' if torch.cuda.is_available() else 'cpu')\r\n",
    "\r\n",
    "    # dataset to encode\r\n",
    "    encode_dataset = ReactionDataset(base_path, geo_file = encode_data_name, dataset_type= 'individual')\r\n",
    "    encode_data = encode_dataset.data\r\n",
    "    encode_data.train_mask = encode_data.val_mask = encode_data.test_mask = encode_data.y = None\r\n",
    "    encode_data = train_test_split_edges(data = encode_data, val_ratio = val_ratio, test_ratio = test_ratio)\r\n",
    "    encode_x = encode_data.x.to(device)\r\n",
    "    encode_train_pos_edge_index = encode_data.train_pos_edge_index.to(device)\r\n",
    "\r\n",
    "    # dataset to decode\r\n",
    "    decode_dataset = ReactionDataset(base_path, geo_file = decode_data_name, dataset_type= 'individual')\r\n",
    "    decode_data = decode_dataset.data\r\n",
    "    decode_data.train_mask = decode_data.val_mask = decode_data.test_mask = decode_data.y = None\r\n",
    "    decode_data = train_test_split_edges(data = decode_data, val_ratio = val_ratio, test_ratio = test_ratio)\r\n",
    "    decode_x = decode_data.x.to(device)\r\n",
    "    decode_train_pos_edge_index = decode_data.train_pos_edge_index.to(device)\r\n",
    "\r\n",
    "    # model creation\r\n",
    "    gae = GAE(MolEncoder(encode_data.num_node_features, latent_dim))\r\n",
    "    opt = torch.optim.Adam(gae.parameters(), lr = 0.01)\r\n",
    "\r\n",
    "    return gae, opt, encode_data, decode_data"
   ]
  },
  {
   "cell_type": "code",
   "execution_count": null,
   "metadata": {},
   "outputs": [],
   "source": [
    "def model_pipeline(hps):\r\n",
    "\r\n",
    "    # start wandb\r\n",
    "    with wandb.init(project=\"test\", config=hps):\r\n",
    "        \r\n",
    "        # access hps through wandb.config so logging matches execution\r\n",
    "        config = wandb.config\r\n",
    "\r\n",
    "        # model data\r\n",
    "        \r\n",
    "        val_ratio = 0\r\n",
    "        test_ratio = 0.2\r\n",
    "        \r\n",
    "        # make model, data, opt problem\r\n",
    "        ts_r_gae, ts_r_opt, r_data, ts_data = make(r'data/', 0, 0.2, 'train_r', 'train_ts', 2)"
   ]
  },
  {
   "cell_type": "markdown",
   "metadata": {},
   "source": [
    "### Testing GAEs"
   ]
  },
  {
   "cell_type": "code",
   "execution_count": 1,
   "metadata": {},
   "outputs": [],
   "source": [
    "# data processing\r\n",
    "from ts_vae.data_processors.grambow_processor import ReactionDataset\r\n",
    "\r\n",
    "# my GAEs\r\n",
    "from ts_vae.gaes.n_gae import Node_AE, train_node_ae, test_node_ae\r\n",
    "from ts_vae.gaes.ne_gae import NodeEdge_AE, train_ne_ae, test_ne_ae\r\n",
    "from ts_vae.gaes.nec_gae import NodeEdgeCoord_AE, train_nec_ae, test_nec_ae, main\r\n",
    "\r\n",
    "# torch\r\n",
    "import torch\r\n",
    "import torch.nn as nn\r\n",
    "import torch.nn.functional as F\r\n",
    "from torch.utils.data import ConcatDataset\r\n",
    "\r\n",
    "# torch geometric\r\n",
    "from torch_geometric.data import DataLoader\r\n",
    "from torch_geometric.utils import to_dense_adj\r\n",
    "\r\n",
    "# other\r\n",
    "import numpy as np\r\n",
    "from sklearn.metrics import roc_auc_score, average_precision_score"
   ]
  },
  {
   "cell_type": "code",
   "execution_count": 2,
   "metadata": {},
   "outputs": [],
   "source": [
    "# remove processed files\r\n",
    "import os\r\n",
    "import glob\r\n",
    "\r\n",
    "files = glob.glob(r'data/processed/*')\r\n",
    "for f in files:\r\n",
    "    os.remove(f)"
   ]
  },
  {
   "cell_type": "code",
   "execution_count": 3,
   "metadata": {},
   "outputs": [
    {
     "name": "stdout",
     "output_type": "stream",
     "text": [
      "Processing...\n"
     ]
    },
    {
     "name": "stderr",
     "output_type": "stream",
     "text": [
      "  0%|          | 30/6739 [00:00<01:19, 84.17it/s]\n",
      "  4%|▎         | 30/842 [00:00<00:01, 624.99it/s]\n",
      "  0%|          | 30/6739 [00:00<00:10, 625.01it/s]\n",
      "  4%|▎         | 30/842 [00:00<00:01, 535.82it/s]\n",
      "  0%|          | 30/6739 [00:00<00:05, 1251.12it/s]\n",
      "  4%|▎         | 30/842 [00:00<00:02, 351.67it/s]\n"
     ]
    },
    {
     "name": "stdout",
     "output_type": "stream",
     "text": [
      "Done!\n"
     ]
    },
    {
     "ename": "AttributeError",
     "evalue": "'OtherReactionTriple' object has no attribute 'r'",
     "output_type": "error",
     "traceback": [
      "\u001b[1;31m---------------------------------------------------------------------------\u001b[0m",
      "\u001b[1;31mAttributeError\u001b[0m                            Traceback (most recent call last)",
      "\u001b[1;32m<ipython-input-3-377e934387db>\u001b[0m in \u001b[0;36m<module>\u001b[1;34m\u001b[0m\n\u001b[0;32m      1\u001b[0m \u001b[0mrxns\u001b[0m \u001b[1;33m=\u001b[0m \u001b[0mReactionDataset\u001b[0m\u001b[1;33m(\u001b[0m\u001b[1;34mr'data'\u001b[0m\u001b[1;33m)\u001b[0m\u001b[1;33m\u001b[0m\u001b[1;33m\u001b[0m\u001b[0m\n\u001b[1;32m----> 2\u001b[1;33m \u001b[0mreactants\u001b[0m \u001b[1;33m=\u001b[0m \u001b[0mrxns\u001b[0m\u001b[1;33m.\u001b[0m\u001b[0mdata\u001b[0m\u001b[1;33m.\u001b[0m\u001b[0mr\u001b[0m\u001b[1;33m\u001b[0m\u001b[1;33m\u001b[0m\u001b[0m\n\u001b[0m\u001b[0;32m      3\u001b[0m \u001b[0mtransition_states\u001b[0m \u001b[1;33m=\u001b[0m \u001b[0mrxns\u001b[0m\u001b[1;33m.\u001b[0m\u001b[0mdata\u001b[0m\u001b[1;33m.\u001b[0m\u001b[0mts\u001b[0m\u001b[1;33m\u001b[0m\u001b[1;33m\u001b[0m\u001b[0m\n\u001b[0;32m      4\u001b[0m \u001b[0mproducts\u001b[0m \u001b[1;33m=\u001b[0m \u001b[0mrxns\u001b[0m\u001b[1;33m.\u001b[0m\u001b[0mdata\u001b[0m\u001b[1;33m.\u001b[0m\u001b[0mp\u001b[0m\u001b[1;33m\u001b[0m\u001b[1;33m\u001b[0m\u001b[0m\n\u001b[0;32m      5\u001b[0m \u001b[1;33m\u001b[0m\u001b[0m\n",
      "\u001b[1;31mAttributeError\u001b[0m: 'OtherReactionTriple' object has no attribute 'r'"
     ]
    }
   ],
   "source": [
    "rxns = ReactionDataset(r'data')\r\n",
    "reactants = rxns.data.r\r\n",
    "transition_states = rxns.data.ts\r\n",
    "products = rxns.data.p\r\n",
    "\r\n",
    "# train_loader = DataLoader(rxns[: num_train], batch_size = 2, follow_batch = ['r', 'p'])\r\n",
    "# test_loader = DataLoader(rxns[num_train:], batch_size = 2, follow_batch = ['r', 'p'])\r\n",
    "\r\n",
    "num_rxns = len(rxns)\r\n",
    "train_ratio = 0.8\r\n",
    "num_train = int(np.floor(train_ratio * num_rxns))\r\n",
    "\r\n",
    "batch_size = 2\r\n",
    "\r\n",
    "# need to be able to recover original reactants after encoding\r\n",
    "# note: no padding, since PyG automatically factors this in\r\n",
    "train_loaders = {'r':  DataLoader(reactants[: num_train], batch_size), \r\n",
    "                 'ts': DataLoader(transition_states[: num_train], batch_size), \r\n",
    "                 'p':  DataLoader(products[: num_train], batch_size)}\r\n",
    "\r\n",
    "test_loaders =  {'r':  DataLoader(reactants[num_train: ], batch_size), \r\n",
    "                 'ts': DataLoader(transition_states[num_train: ], batch_size), \r\n",
    "                 'p':  DataLoader(products[num_train: ], batch_size)}\r\n",
    "\r\n",
    "# doesn't create combined graphs for batches if batch_size > 1, there are hacks to do it with above\r\n",
    "train_loader = DataLoader(rxns[: num_train], batch_size, follow_batch = ['r'])\r\n",
    "test_loader = DataLoader(rxns[num_train: ], batch_size, follow_batch = ['r'])"
   ]
  },
  {
   "cell_type": "code",
   "execution_count": 9,
   "metadata": {},
   "outputs": [],
   "source": [
    "rxns = ReactionDataset(r'data')\r\n",
    "\r\n",
    "num_rxns = len(rxns)\r\n",
    "train_ratio = 0.8\r\n",
    "num_train = int(np.floor(train_ratio * num_rxns))\r\n",
    "\r\n",
    "batch_size = 2\r\n",
    "to_follow = ['edge_index_r', 'edge_index_ts', 'edge_index_p', 'edge_attr_r', 'edge_attr_ts', 'edge_attr_p'\r\n",
    "             'pos_r', 'pos_ts', 'pos_p', 'x_r', 'x_ts', 'x_p']\r\n",
    "\r\n",
    "\r\n",
    "train_loader = DataLoader(rxns[: num_train], batch_size = 2, follow_batch = to_follow)\r\n",
    "test_loader = DataLoader(rxns[num_train: ], batch_size = 2, follow_batch = to_follow)"
   ]
  },
  {
   "cell_type": "markdown",
   "metadata": {},
   "source": [
    "## Old models"
   ]
  },
  {
   "cell_type": "code",
   "execution_count": 3,
   "metadata": {},
   "outputs": [],
   "source": [
    "### Node AE\r\n",
    "max_num_nodes = max([r.z.size(0) for r in train_loaders['r'].dataset])\r\n",
    "assert([r.x.size(1) for r in train_loaders['r'].dataset] == [train_loaders['r'].dataset[0].x.size(1)] * len(train_loaders['r'].dataset))\r\n",
    "num_node_fs = train_loaders['r'].dataset[0].x.size(1)\r\n",
    "num_edge_fs = train_loaders['r'].dataset[0].edge_attr.size(1)\r\n",
    "h_nf = 5\r\n",
    "emb_nf = 2\r\n",
    "\r\n",
    "# in_node_nf + in_edge_nf >= h_nf >= out_nf > emb_nf \r\n",
    "node_ae = Node_AE(in_node_nf = num_node_fs, in_edge_nf = num_edge_fs, h_nf = h_nf, out_nf = h_nf, emb_nf = emb_nf)\r\n",
    "node_opt = torch.optim.Adam(node_ae.parameters(), lr = 1e-3)\r\n",
    "\r\n",
    "# train and test, add epochs after\r\n",
    "train_loss, train_res = train_node_ae(node_ae, node_opt, train_loaders['r'])\r\n",
    "test_loss, test_res = test_node_ae(node_ae, node_opt, test_loaders['r']) "
   ]
  },
  {
   "cell_type": "code",
   "execution_count": 4,
   "metadata": {},
   "outputs": [],
   "source": [
    "### NodeEdge AE\r\n",
    "max_num_nodes = max([r.z.size(0) for r in train_loaders['r'].dataset])\r\n",
    "assert([r.x.size(1) for r in train_loaders['r'].dataset] == [train_loaders['r'].dataset[0].x.size(1)] * len(train_loaders['r'].dataset))\r\n",
    "num_node_fs = train_loaders['r'].dataset[0].x.size(1)\r\n",
    "num_edge_fs = train_loaders['r'].dataset[0].edge_attr.size(1)\r\n",
    "h_nf = 5\r\n",
    "emb_nf = 2\r\n",
    "\r\n",
    "# model and opt\r\n",
    "ne_ae = NodeEdge_AE(in_node_nf = num_node_fs, in_edge_nf = num_edge_fs, h_nf = h_nf, out_nf = h_nf, emb_nf = emb_nf)\r\n",
    "ne_opt = torch.optim.Adam(ne_ae.parameters(), lr = 1e-3)\r\n",
    "\r\n",
    "# train and test\r\n",
    "train_loss, train_res = train_ne_ae(ne_ae, ne_opt, train_loaders['r'])\r\n",
    "test_loss, test_res = test_ne_ae(ne_ae, test_loaders['r']) "
   ]
  },
  {
   "cell_type": "code",
   "execution_count": null,
   "metadata": {},
   "outputs": [],
   "source": [
    "### NodeEdge Model\r\n",
    "epochs = 20\r\n",
    "test_interval = 5\r\n",
    "final_res = {'epochs': [], 'train_loss_arr': [], 'train_res_arr': [], \r\n",
    "             'test_loss_arr': [], 'test_res_arr': [], 'best_test': 1e10, 'best_epoch': 0}\r\n",
    "\r\n",
    "# r_ae.reset_parameters()\r\n",
    "\r\n",
    "for epoch in range(1, epochs + 1):\r\n",
    "    \r\n",
    "    train_loss, train_res = train_ne_ae(ne_ae, ne_opt, train_loaders['r'])\r\n",
    "    final_res['train_loss_arr'].append(train_loss)\r\n",
    "    final_res['train_res_arr'].append(train_res)\r\n",
    "    print(f\"===== Training epoch {epoch:03d} complete with loss: {train_loss:.4f} ====\")\r\n",
    "    \r\n",
    "    if epoch % test_interval == 0:\r\n",
    "    \r\n",
    "        test_loss, test_res = test_ne_ae(ne_ae, test_loaders['r'])\r\n",
    "        final_res['test_loss_arr'].append(test_loss)\r\n",
    "        final_res['test_res_arr'].append(test_res)\r\n",
    "        print(f'===== Testing epoch: {epoch:03d}, Loss: {test_loss:.4f} ===== \\n')\r\n",
    "        \r\n",
    "        if test_loss < final_res['best_test']:\r\n",
    "            final_res['best_test'] = test_loss\r\n",
    "            final_res['best_epoch'] = epoch"
   ]
  },
  {
   "cell_type": "markdown",
   "metadata": {},
   "source": [
    "## Coordinate model"
   ]
  },
  {
   "cell_type": "code",
   "execution_count": 12,
   "metadata": {},
   "outputs": [
    {
     "ename": "NameError",
     "evalue": "name 'train_loaders' is not defined",
     "output_type": "error",
     "traceback": [
      "\u001b[1;31m---------------------------------------------------------------------------\u001b[0m",
      "\u001b[1;31mNameError\u001b[0m                                 Traceback (most recent call last)",
      "\u001b[1;32m<ipython-input-12-dc1e161e8a34>\u001b[0m in \u001b[0;36m<module>\u001b[1;34m\u001b[0m\n\u001b[0;32m      1\u001b[0m \u001b[1;31m### NodeEdgeCoord AE\u001b[0m\u001b[1;33m\u001b[0m\u001b[1;33m\u001b[0m\u001b[1;33m\u001b[0m\u001b[0m\n\u001b[1;32m----> 2\u001b[1;33m \u001b[0mmax_num_nodes\u001b[0m \u001b[1;33m=\u001b[0m \u001b[0mmax\u001b[0m\u001b[1;33m(\u001b[0m\u001b[1;33m[\u001b[0m\u001b[0mr\u001b[0m\u001b[1;33m.\u001b[0m\u001b[0mz\u001b[0m\u001b[1;33m.\u001b[0m\u001b[0msize\u001b[0m\u001b[1;33m(\u001b[0m\u001b[1;36m0\u001b[0m\u001b[1;33m)\u001b[0m \u001b[1;32mfor\u001b[0m \u001b[0mr\u001b[0m \u001b[1;32min\u001b[0m \u001b[0mtrain_loaders\u001b[0m\u001b[1;33m[\u001b[0m\u001b[1;34m'r'\u001b[0m\u001b[1;33m]\u001b[0m\u001b[1;33m.\u001b[0m\u001b[0mdataset\u001b[0m\u001b[1;33m]\u001b[0m\u001b[1;33m)\u001b[0m\u001b[1;33m\u001b[0m\u001b[1;33m\u001b[0m\u001b[0m\n\u001b[0m\u001b[0;32m      3\u001b[0m \u001b[1;32massert\u001b[0m\u001b[1;33m(\u001b[0m\u001b[1;33m[\u001b[0m\u001b[0mr\u001b[0m\u001b[1;33m.\u001b[0m\u001b[0mx\u001b[0m\u001b[1;33m.\u001b[0m\u001b[0msize\u001b[0m\u001b[1;33m(\u001b[0m\u001b[1;36m1\u001b[0m\u001b[1;33m)\u001b[0m \u001b[1;32mfor\u001b[0m \u001b[0mr\u001b[0m \u001b[1;32min\u001b[0m \u001b[0mtrain_loaders\u001b[0m\u001b[1;33m[\u001b[0m\u001b[1;34m'r'\u001b[0m\u001b[1;33m]\u001b[0m\u001b[1;33m.\u001b[0m\u001b[0mdataset\u001b[0m\u001b[1;33m]\u001b[0m \u001b[1;33m==\u001b[0m \u001b[1;33m[\u001b[0m\u001b[0mtrain_loaders\u001b[0m\u001b[1;33m[\u001b[0m\u001b[1;34m'r'\u001b[0m\u001b[1;33m]\u001b[0m\u001b[1;33m.\u001b[0m\u001b[0mdataset\u001b[0m\u001b[1;33m[\u001b[0m\u001b[1;36m0\u001b[0m\u001b[1;33m]\u001b[0m\u001b[1;33m.\u001b[0m\u001b[0mx\u001b[0m\u001b[1;33m.\u001b[0m\u001b[0msize\u001b[0m\u001b[1;33m(\u001b[0m\u001b[1;36m1\u001b[0m\u001b[1;33m)\u001b[0m\u001b[1;33m]\u001b[0m \u001b[1;33m*\u001b[0m \u001b[0mlen\u001b[0m\u001b[1;33m(\u001b[0m\u001b[0mtrain_loaders\u001b[0m\u001b[1;33m[\u001b[0m\u001b[1;34m'r'\u001b[0m\u001b[1;33m]\u001b[0m\u001b[1;33m.\u001b[0m\u001b[0mdataset\u001b[0m\u001b[1;33m)\u001b[0m\u001b[1;33m)\u001b[0m\u001b[1;33m\u001b[0m\u001b[1;33m\u001b[0m\u001b[0m\n\u001b[0;32m      4\u001b[0m \u001b[0mnum_node_fs\u001b[0m \u001b[1;33m=\u001b[0m \u001b[0mtrain_loaders\u001b[0m\u001b[1;33m[\u001b[0m\u001b[1;34m'r'\u001b[0m\u001b[1;33m]\u001b[0m\u001b[1;33m.\u001b[0m\u001b[0mdataset\u001b[0m\u001b[1;33m[\u001b[0m\u001b[1;36m0\u001b[0m\u001b[1;33m]\u001b[0m\u001b[1;33m.\u001b[0m\u001b[0mx\u001b[0m\u001b[1;33m.\u001b[0m\u001b[0msize\u001b[0m\u001b[1;33m(\u001b[0m\u001b[1;36m1\u001b[0m\u001b[1;33m)\u001b[0m\u001b[1;33m\u001b[0m\u001b[1;33m\u001b[0m\u001b[0m\n\u001b[0;32m      5\u001b[0m \u001b[0mnum_edge_fs\u001b[0m \u001b[1;33m=\u001b[0m \u001b[0mtrain_loaders\u001b[0m\u001b[1;33m[\u001b[0m\u001b[1;34m'r'\u001b[0m\u001b[1;33m]\u001b[0m\u001b[1;33m.\u001b[0m\u001b[0mdataset\u001b[0m\u001b[1;33m[\u001b[0m\u001b[1;36m0\u001b[0m\u001b[1;33m]\u001b[0m\u001b[1;33m.\u001b[0m\u001b[0medge_attr\u001b[0m\u001b[1;33m.\u001b[0m\u001b[0msize\u001b[0m\u001b[1;33m(\u001b[0m\u001b[1;36m1\u001b[0m\u001b[1;33m)\u001b[0m\u001b[1;33m\u001b[0m\u001b[1;33m\u001b[0m\u001b[0m\n",
      "\u001b[1;31mNameError\u001b[0m: name 'train_loaders' is not defined"
     ]
    }
   ],
   "source": [
    "### NodeEdgeCoord AE\r\n",
    "max_num_nodes = max([r.z.size(0) for r in train_loaders['r'].dataset])\r\n",
    "assert([r.x.size(1) for r in train_loaders['r'].dataset] == [train_loaders['r'].dataset[0].x.size(1)] * len(train_loaders['r'].dataset))\r\n",
    "num_node_fs = train_loaders['r'].dataset[0].x.size(1)\r\n",
    "num_edge_fs = train_loaders['r'].dataset[0].edge_attr.size(1)\r\n",
    "h_nf = 5\r\n",
    "emb_nf = 2\r\n",
    "\r\n",
    "# model and opt\r\n",
    "nec_ae = NodeEdgeCoord_AE(in_node_nf = num_node_fs, in_edge_nf = num_edge_fs, h_nf = h_nf, out_nf = h_nf, emb_nf = emb_nf)\r\n",
    "nec_opt = torch.optim.Adam(nec_ae.parameters(), lr = 1e-3)\r\n",
    "\r\n",
    "# train and test\r\n",
    "#train_loss, train_res = train_nec_ae(nec_ae, nec_opt, train_loaders['r'])\r\n",
    "#test_loss, test_res = test_nec_ae(nec_ae, test_loaders['r'])"
   ]
  },
  {
   "cell_type": "code",
   "execution_count": 8,
   "metadata": {},
   "outputs": [],
   "source": [
    "def train_nec_ae_r2ts(nec_ae, opt, loader):\r\n",
    "\r\n",
    "    res = {'rxn_coord_loss': [], 'batch_coord_loss': [], 'num_rxns': 0}\r\n",
    "\r\n",
    "    for i, rxn_batch in enumerate(loader):\r\n",
    "\r\n",
    "        nec_ae.train()\r\n",
    "        opt.zero_grad()\r\n",
    "        \r\n",
    "        rs, tss = rxn_batch.r, rxn_batch.ts\r\n",
    "        assert len(rs) == len(tss), \"Don't have same number of R and TS in batch!\"\r\n",
    "        batch_size = len(rs)\r\n",
    "        batch_loss = None\r\n",
    "\r\n",
    "        for b in range(0, batch_size):\r\n",
    "\r\n",
    "            r, ts = rs[b], tss[b]\r\n",
    "            assert r.idx == ts.idx, \"R and TS not in the same reaction!\"\r\n",
    "\r\n",
    "            # run model on reactant\r\n",
    "            node_emb, edge_emb, recon_node_fs, recon_edge_fs, adj_pred, coord_out = nec_ae(r.x, r.edge_index, r.edge_attr, r.pos)\r\n",
    "\r\n",
    "            # ground truth values\r\n",
    "            adj_gt = to_dense_adj(ts.edge_index).squeeze(dim = 0)\r\n",
    "            assert adj_gt.shape == adj_pred.shape, f\"Your adjacency matrices don't have the same shape! \\\r\n",
    "                    GT shape: {adj_gt.shape}, Pred shape: {adj_pred.shape}, Batch size: {batch_size}, \\\r\n",
    "                    Node fs shape: {node_feats.shape} \"\r\n",
    "            \r\n",
    "            rxn_loss = F.mse_loss(coord_out, ts.pos)\r\n",
    "            res['rxn_coord_loss'].append(rxn_loss.item())\r\n",
    "            batch_loss += rxn_loss\r\n",
    "            \r\n",
    "        batch_loss.backward()\r\n",
    "        opt.step()\r\n",
    "\r\n",
    "        # record batch results\r\n",
    "        res['batch_coord_loss'].append(batch_loss.item())\r\n",
    "        res['num_rxns'] += batch_size\r\n",
    "    \r\n",
    "    return sum(res['rxn_coord_loss']) / res['num_rxns'], res"
   ]
  },
  {
   "cell_type": "code",
   "execution_count": 9,
   "metadata": {},
   "outputs": [
    {
     "name": "stdout",
     "output_type": "stream",
     "text": [
      "===== Training epoch 001 complete with loss: 0.1663 ====\n"
     ]
    },
    {
     "ename": "RuntimeError",
     "evalue": "Trying to backward through the graph a second time, but the saved intermediate results have already been freed. Specify retain_graph=True when calling .backward() or autograd.grad() the first time.",
     "output_type": "error",
     "traceback": [
      "\u001b[1;31m---------------------------------------------------------------------------\u001b[0m",
      "\u001b[1;31mRuntimeError\u001b[0m                              Traceback (most recent call last)",
      "\u001b[1;32m<ipython-input-9-7505f9e85ade>\u001b[0m in \u001b[0;36m<module>\u001b[1;34m\u001b[0m\n\u001b[0;32m     13\u001b[0m \u001b[1;32mfor\u001b[0m \u001b[0mepoch\u001b[0m \u001b[1;32min\u001b[0m \u001b[0mrange\u001b[0m\u001b[1;33m(\u001b[0m\u001b[1;36m1\u001b[0m\u001b[1;33m,\u001b[0m \u001b[0mepochs\u001b[0m \u001b[1;33m+\u001b[0m \u001b[1;36m1\u001b[0m\u001b[1;33m)\u001b[0m\u001b[1;33m:\u001b[0m\u001b[1;33m\u001b[0m\u001b[1;33m\u001b[0m\u001b[0m\n\u001b[0;32m     14\u001b[0m \u001b[1;33m\u001b[0m\u001b[0m\n\u001b[1;32m---> 15\u001b[1;33m     \u001b[0mtrain_loss\u001b[0m\u001b[1;33m,\u001b[0m \u001b[0mtrain_res\u001b[0m \u001b[1;33m=\u001b[0m \u001b[0mtrain_nec_ae_r2ts\u001b[0m\u001b[1;33m(\u001b[0m\u001b[0mnec_ae\u001b[0m\u001b[1;33m,\u001b[0m \u001b[0mnec_opt\u001b[0m\u001b[1;33m,\u001b[0m \u001b[0mtrain_loader\u001b[0m\u001b[1;33m)\u001b[0m\u001b[1;33m\u001b[0m\u001b[1;33m\u001b[0m\u001b[0m\n\u001b[0m\u001b[0;32m     16\u001b[0m     \u001b[0mfinal_res\u001b[0m\u001b[1;33m[\u001b[0m\u001b[1;34m'train_loss_arr'\u001b[0m\u001b[1;33m]\u001b[0m\u001b[1;33m.\u001b[0m\u001b[0mappend\u001b[0m\u001b[1;33m(\u001b[0m\u001b[0mtrain_loss\u001b[0m\u001b[1;33m)\u001b[0m\u001b[1;33m\u001b[0m\u001b[1;33m\u001b[0m\u001b[0m\n\u001b[0;32m     17\u001b[0m     \u001b[0mfinal_res\u001b[0m\u001b[1;33m[\u001b[0m\u001b[1;34m'train_res_arr'\u001b[0m\u001b[1;33m]\u001b[0m\u001b[1;33m.\u001b[0m\u001b[0mappend\u001b[0m\u001b[1;33m(\u001b[0m\u001b[0mtrain_res\u001b[0m\u001b[1;33m)\u001b[0m\u001b[1;33m\u001b[0m\u001b[1;33m\u001b[0m\u001b[0m\n",
      "\u001b[1;32m<ipython-input-8-8e8a7a91ca71>\u001b[0m in \u001b[0;36mtrain_nec_ae_r2ts\u001b[1;34m(nec_ae, opt, loader)\u001b[0m\n\u001b[0;32m     31\u001b[0m             \u001b[0mbatch_loss\u001b[0m \u001b[1;33m+=\u001b[0m \u001b[0mrxn_loss\u001b[0m\u001b[1;33m\u001b[0m\u001b[1;33m\u001b[0m\u001b[0m\n\u001b[0;32m     32\u001b[0m \u001b[1;33m\u001b[0m\u001b[0m\n\u001b[1;32m---> 33\u001b[1;33m         \u001b[0mbatch_loss\u001b[0m\u001b[1;33m.\u001b[0m\u001b[0mbackward\u001b[0m\u001b[1;33m(\u001b[0m\u001b[1;33m)\u001b[0m\u001b[1;33m\u001b[0m\u001b[1;33m\u001b[0m\u001b[0m\n\u001b[0m\u001b[0;32m     34\u001b[0m         \u001b[0mopt\u001b[0m\u001b[1;33m.\u001b[0m\u001b[0mstep\u001b[0m\u001b[1;33m(\u001b[0m\u001b[1;33m)\u001b[0m\u001b[1;33m\u001b[0m\u001b[1;33m\u001b[0m\u001b[0m\n\u001b[0;32m     35\u001b[0m \u001b[1;33m\u001b[0m\u001b[0m\n",
      "\u001b[1;32m~\\miniconda3\\envs\\3d-rdkit\\lib\\site-packages\\torch\\tensor.py\u001b[0m in \u001b[0;36mbackward\u001b[1;34m(self, gradient, retain_graph, create_graph, inputs)\u001b[0m\n\u001b[0;32m    243\u001b[0m                 \u001b[0mcreate_graph\u001b[0m\u001b[1;33m=\u001b[0m\u001b[0mcreate_graph\u001b[0m\u001b[1;33m,\u001b[0m\u001b[1;33m\u001b[0m\u001b[1;33m\u001b[0m\u001b[0m\n\u001b[0;32m    244\u001b[0m                 inputs=inputs)\n\u001b[1;32m--> 245\u001b[1;33m         \u001b[0mtorch\u001b[0m\u001b[1;33m.\u001b[0m\u001b[0mautograd\u001b[0m\u001b[1;33m.\u001b[0m\u001b[0mbackward\u001b[0m\u001b[1;33m(\u001b[0m\u001b[0mself\u001b[0m\u001b[1;33m,\u001b[0m \u001b[0mgradient\u001b[0m\u001b[1;33m,\u001b[0m \u001b[0mretain_graph\u001b[0m\u001b[1;33m,\u001b[0m \u001b[0mcreate_graph\u001b[0m\u001b[1;33m,\u001b[0m \u001b[0minputs\u001b[0m\u001b[1;33m=\u001b[0m\u001b[0minputs\u001b[0m\u001b[1;33m)\u001b[0m\u001b[1;33m\u001b[0m\u001b[1;33m\u001b[0m\u001b[0m\n\u001b[0m\u001b[0;32m    246\u001b[0m \u001b[1;33m\u001b[0m\u001b[0m\n\u001b[0;32m    247\u001b[0m     \u001b[1;32mdef\u001b[0m \u001b[0mregister_hook\u001b[0m\u001b[1;33m(\u001b[0m\u001b[0mself\u001b[0m\u001b[1;33m,\u001b[0m \u001b[0mhook\u001b[0m\u001b[1;33m)\u001b[0m\u001b[1;33m:\u001b[0m\u001b[1;33m\u001b[0m\u001b[1;33m\u001b[0m\u001b[0m\n",
      "\u001b[1;32m~\\miniconda3\\envs\\3d-rdkit\\lib\\site-packages\\torch\\autograd\\__init__.py\u001b[0m in \u001b[0;36mbackward\u001b[1;34m(tensors, grad_tensors, retain_graph, create_graph, grad_variables, inputs)\u001b[0m\n\u001b[0;32m    145\u001b[0m     Variable._execution_engine.run_backward(\n\u001b[0;32m    146\u001b[0m         \u001b[0mtensors\u001b[0m\u001b[1;33m,\u001b[0m \u001b[0mgrad_tensors_\u001b[0m\u001b[1;33m,\u001b[0m \u001b[0mretain_graph\u001b[0m\u001b[1;33m,\u001b[0m \u001b[0mcreate_graph\u001b[0m\u001b[1;33m,\u001b[0m \u001b[0minputs\u001b[0m\u001b[1;33m,\u001b[0m\u001b[1;33m\u001b[0m\u001b[1;33m\u001b[0m\u001b[0m\n\u001b[1;32m--> 147\u001b[1;33m         allow_unreachable=True, accumulate_grad=True)  # allow_unreachable flag\n\u001b[0m\u001b[0;32m    148\u001b[0m \u001b[1;33m\u001b[0m\u001b[0m\n\u001b[0;32m    149\u001b[0m \u001b[1;33m\u001b[0m\u001b[0m\n",
      "\u001b[1;31mRuntimeError\u001b[0m: Trying to backward through the graph a second time, but the saved intermediate results have already been freed. Specify retain_graph=True when calling .backward() or autograd.grad() the first time."
     ]
    }
   ],
   "source": [
    "### NodeEdgeCoord Model \r\n",
    "### NEW\r\n",
    "\r\n",
    "epochs = 5\r\n",
    "test_interval = 5\r\n",
    "final_res = {'epochs': [], 'train_loss_arr': [], 'train_res_arr': [], \r\n",
    "             'test_loss_arr': [], 'test_res_arr': [], 'best_test': 1e10, 'best_epoch': 0}\r\n",
    "\r\n",
    "# r_ae.reset_parameters()\r\n",
    "\r\n",
    "torch.set_printoptions(precision=2)\r\n",
    "\r\n",
    "for epoch in range(1, epochs + 1):\r\n",
    "    \r\n",
    "    train_loss, train_res = train_nec_ae_r2ts(nec_ae, nec_opt, train_loader)\r\n",
    "    final_res['train_loss_arr'].append(train_loss)\r\n",
    "    final_res['train_res_arr'].append(train_res)\r\n",
    "    print(f\"===== Training epoch {epoch:03d} complete with loss: {train_loss:.4f} ====\")\r\n",
    "    \r\n",
    "    if epoch % test_interval == 0:\r\n",
    "    \r\n",
    "        test_loss, test_res = test_nec_ae(nec_ae, test_loaders['r'])\r\n",
    "        final_res['test_loss_arr'].append(test_loss)\r\n",
    "        final_res['test_res_arr'].append(test_res)\r\n",
    "        print(f'===== Testing epoch: {epoch:03d}, Loss: {test_loss:.4f} ===== \\n')\r\n",
    "        \r\n",
    "        if test_loss < final_res['best_test']:\r\n",
    "            final_res['best_test'] = test_loss\r\n",
    "            final_res['best_epoch'] = epoch"
   ]
  },
  {
   "cell_type": "code",
   "execution_count": 7,
   "metadata": {},
   "outputs": [
    {
     "name": "stdout",
     "output_type": "stream",
     "text": [
      "===== Training epoch 001 complete with loss: 0.0000 ====\n",
      "===== Training epoch 002 complete with loss: 0.0000 ====\n",
      "===== Training epoch 003 complete with loss: 0.0000 ====\n",
      "===== Training epoch 004 complete with loss: 0.0000 ====\n",
      "===== Training epoch 005 complete with loss: 0.0000 ====\n",
      "===== Testing epoch: 005, Loss: 0.7080 ===== \n",
      "\n",
      "===== Training epoch 006 complete with loss: 0.0000 ====\n",
      "===== Training epoch 007 complete with loss: 0.0000 ====\n",
      "===== Training epoch 008 complete with loss: 0.0000 ====\n",
      "===== Training epoch 009 complete with loss: 0.0000 ====\n",
      "===== Training epoch 010 complete with loss: 0.0000 ====\n",
      "===== Testing epoch: 010, Loss: 0.7080 ===== \n",
      "\n"
     ]
    }
   ],
   "source": [
    "### NodeEdgeCoord Model\r\n",
    "epochs = 10\r\n",
    "test_interval = 5\r\n",
    "final_res = {'epochs': [], 'train_loss_arr': [], 'train_res_arr': [], \r\n",
    "             'test_loss_arr': [], 'test_res_arr': [], 'best_test': 1e10, 'best_epoch': 0}\r\n",
    "\r\n",
    "# r_ae.reset_parameters()\r\n",
    "\r\n",
    "torch.set_printoptions(precision=2)\r\n",
    "\r\n",
    "for epoch in range(1, epochs + 1):\r\n",
    "    \r\n",
    "    train_loss, train_res = train_nec_ae(nec_ae, nec_opt, train_loaders['r'])\r\n",
    "    final_res['train_loss_arr'].append(train_loss)\r\n",
    "    final_res['train_res_arr'].append(train_res)\r\n",
    "    print(f\"===== Training epoch {epoch:03d} complete with loss: {train_loss:.4f} ====\")\r\n",
    "    \r\n",
    "    if epoch % test_interval == 0:\r\n",
    "    \r\n",
    "        test_loss, test_res = test_nec_ae(nec_ae, test_loaders['r'])\r\n",
    "        final_res['test_loss_arr'].append(test_loss)\r\n",
    "        final_res['test_res_arr'].append(test_res)\r\n",
    "        print(f'===== Testing epoch: {epoch:03d}, Loss: {test_loss:.4f} ===== \\n')\r\n",
    "        \r\n",
    "        if test_loss < final_res['best_test']:\r\n",
    "            final_res['best_test'] = test_loss\r\n",
    "            final_res['best_epoch'] = epoch"
   ]
  },
  {
   "cell_type": "code",
   "execution_count": 23,
   "metadata": {},
   "outputs": [
    {
     "data": {
      "text/plain": "[0.0,\n 0.0,\n 0.0,\n 0.0,\n 0.0,\n 0.0,\n 0.0,\n 0.0,\n 0.0,\n 0.0,\n 0.0,\n 0.0,\n 0.0,\n 0.0,\n 0.0,\n 0.0,\n 0.0,\n 0.0,\n 0.0,\n 0.0,\n 0.0,\n 0.0,\n 0.0,\n 0.0,\n 0.0,\n 0.0,\n 0.0,\n 0.0,\n 0.0,\n 0.0,\n 0.0,\n 0.0,\n 0.0,\n 0.0,\n 0.0,\n 0.0,\n 0.0,\n 0.0,\n 0.0,\n 0.0,\n 0.0,\n 0.0,\n 0.0,\n 0.0,\n 0.0,\n 0.0,\n 0.0,\n 0.0,\n 0.0,\n 0.0,\n 0.0,\n 0.0,\n 0.0,\n 0.0,\n 0.0,\n 0.0,\n 0.0,\n 0.0,\n 0.0,\n 0.0,\n 0.0,\n 0.0,\n 0.0,\n 0.0,\n 0.0,\n 0.0,\n 0.0,\n 0.0,\n 0.0,\n 0.0,\n 0.0,\n 0.0,\n 0.0,\n 0.0]"
     },
     "execution_count": 23,
     "metadata": {},
     "output_type": "execute_result"
    }
   ],
   "source": [
    "# final_res['train_res_arr'][0]['node_recon_loss_arr']\r\n",
    "# improves slightly: 1.95-> 1.6\r\n",
    "# final_res['train_res_arr'][0]['edge_recon_loss_arr']\r\n",
    "# improves slightly: 0.19 -> 0.13\r\n",
    "# final_res['train_res_arr'][0]['adj_loss_arr']\r\n",
    "# stays same: 0.71\r\n",
    "# final_res['train_res_arr'][0]['coord_loss_arr']\r\n",
    "# stays same: 0"
   ]
  },
  {
   "cell_type": "code",
   "execution_count": 14,
   "metadata": {},
   "outputs": [
    {
     "data": {
      "text/plain": "[0.7285862565040588,\n 0.730161190032959,\n 0.7295154929161072,\n 0.7291362285614014,\n 0.7294766306877136,\n 0.7294126152992249,\n 0.7305843830108643,\n 0.7299090623855591,\n 0.7289371490478516,\n 0.7288703322410583,\n 0.7297692894935608,\n 0.7288429737091064,\n 0.7287067770957947,\n 0.7288702726364136,\n 0.7291567921638489,\n 0.7293187379837036,\n 0.7297435402870178,\n 0.7284173965454102,\n 0.7233184576034546]"
     },
     "execution_count": 14,
     "metadata": {},
     "output_type": "execute_result"
    }
   ],
   "source": [
    "\r\n",
    "# final_res['test_res_arr'][0]['node_recon_loss_arr']\r\n",
    "final_res['test_res_arr'][0]['adj_loss_arr']\r\n",
    "# ['total_loss', 'counter', 'total_loss_arr', 'coord_loss_arr', 'node_recon_loss_arr', 'edge_recon_loss_arr', 'adj_loss_arr']\r\n",
    "\r\n",
    "# total_loss not changing, ~0.73\r\n",
    "# coord_loss = 0 always [expect for R->R]\r\n",
    "# node_recon_loss \r\n",
    "\r\n",
    "\r\n",
    "# test_loss doesn't seem to be changing\r\n",
    "# node_loss > 1.7, usually > 2 but gets worse...\r\n",
    "# adj_loss always 0.3\r\n",
    "# edge_loss goes from 0.8 -> 0.1\r\n"
   ]
  },
  {
   "cell_type": "markdown",
   "metadata": {},
   "source": [
    "Convert MLP to GNN by swapping torch.nn.Linear with PyG's GNN operators e.g. GCN layer\r\n",
    "Lucky's work\r\n",
    "- PairFeatures: a manual MP I think. it has to be otherwise what he's doing isn't a GNN.\r\n",
    "- set edges: iterate: \r\n",
    "    - compute features (i.e. MP) -> MLP(features) -> update edges\r\n",
    "    - compute features (i.e. MP) -> MLP(MLP(edges)) -> update vertices\r\n",
    "\r\n",
    "Loose notes\r\n",
    "- Can define data class for parameters e.g. \r\n",
    "    - @dataclass\r\n",
    "      class GNNParams:\r\n",
    "        input_dim: int\r\n",
    "        output_dim: int\r\n",
    "        ... (hidden_sizes, dropout, batchnorm, activation)"
   ]
  }
 ],
 "metadata": {
  "kernelspec": {
   "display_name": "Python 3.6.13 64-bit (conda)",
   "name": "python3613jvsc74a57bd0f4671ad35fdc0609fa675edcd17de5b3092cb55d03f1d9670a78611a41fb18f3"
  },
  "language_info": {
   "name": "python",
   "version": ""
  },
  "orig_nbformat": 2
 },
 "nbformat": 4,
 "nbformat_minor": 2
}