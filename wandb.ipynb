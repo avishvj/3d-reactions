{
 "cells": [
  {
   "cell_type": "markdown",
   "metadata": {},
   "source": [
    "### Experiment Tracking with W&B\r\n",
    "\r\n",
    "- config: store hp and metadata for each run\r\n",
    "- wandb.init\r\n",
    "- wandb.watch: log model gradients and params over time (helps detect bugs e.g. weird grad behaviour)\r\n",
    "- wandb.log: log stuff we care about\r\n",
    "- wandb.save: save online\r\n",
    "\r\n",
    "use with block in context manager syntax"
   ]
  },
  {
   "cell_type": "code",
   "execution_count": null,
   "metadata": {},
   "outputs": [],
   "source": [
    "import wandb\r\n",
    "wandb.login()"
   ]
  },
  {
   "cell_type": "code",
   "execution_count": null,
   "metadata": {},
   "outputs": [],
   "source": [
    "config = dict(\r\n",
    "    epochs = 50,\r\n",
    "    val_ratio = 0,\r\n",
    "    test_ratio = 0.2\r\n",
    ")"
   ]
  },
  {
   "cell_type": "code",
   "execution_count": null,
   "metadata": {},
   "outputs": [],
   "source": [
    "def make(base_path, val_ratio, test_ratio, encode_data_name, decode_data_name, latent_dim):\r\n",
    "    # TODO: make edges to device here on when called on\r\n",
    "    device = torch.device('cuda' if torch.cuda.is_available() else 'cpu')\r\n",
    "\r\n",
    "    # dataset to encode\r\n",
    "    encode_dataset = ReactionDataset(base_path, geo_file = encode_data_name, dataset_type= 'individual')\r\n",
    "    encode_data = encode_dataset.data\r\n",
    "    encode_data.train_mask = encode_data.val_mask = encode_data.test_mask = encode_data.y = None\r\n",
    "    encode_data = train_test_split_edges(data = encode_data, val_ratio = val_ratio, test_ratio = test_ratio)\r\n",
    "    encode_x = encode_data.x.to(device)\r\n",
    "    encode_train_pos_edge_index = encode_data.train_pos_edge_index.to(device)\r\n",
    "\r\n",
    "    # dataset to decode\r\n",
    "    decode_dataset = ReactionDataset(base_path, geo_file = decode_data_name, dataset_type= 'individual')\r\n",
    "    decode_data = decode_dataset.data\r\n",
    "    decode_data.train_mask = decode_data.val_mask = decode_data.test_mask = decode_data.y = None\r\n",
    "    decode_data = train_test_split_edges(data = decode_data, val_ratio = val_ratio, test_ratio = test_ratio)\r\n",
    "    decode_x = decode_data.x.to(device)\r\n",
    "    decode_train_pos_edge_index = decode_data.train_pos_edge_index.to(device)\r\n",
    "\r\n",
    "    # model creation\r\n",
    "    gae = GAE(MolEncoder(encode_data.num_node_features, latent_dim))\r\n",
    "    opt = torch.optim.Adam(gae.parameters(), lr = 0.01)\r\n",
    "\r\n",
    "    return gae, opt, encode_data, decode_data"
   ]
  },
  {
   "cell_type": "code",
   "execution_count": null,
   "metadata": {},
   "outputs": [],
   "source": [
    "def model_pipeline(hps):\r\n",
    "\r\n",
    "    # start wandb\r\n",
    "    with wandb.init(project=\"test\", config=hps):\r\n",
    "        \r\n",
    "        # access hps through wandb.config so logging matches execution\r\n",
    "        config = wandb.config\r\n",
    "\r\n",
    "        # model data\r\n",
    "        \r\n",
    "        val_ratio = 0\r\n",
    "        test_ratio = 0.2\r\n",
    "        \r\n",
    "        # make model, data, opt problem\r\n",
    "        ts_r_gae, ts_r_opt, r_data, ts_data = make(r'data/', 0, 0.2, 'train_r', 'train_ts', 2)"
   ]
  },
  {
   "cell_type": "code",
   "execution_count": null,
   "metadata": {},
   "outputs": [],
   "source": []
  }
 ],
 "metadata": {
  "kernelspec": {
   "display_name": "Python 3.7.0 64-bit ('base': conda)",
   "name": "python370jvsc74a57bd0ec79c1982030707fbb22b743400c173c15f08a11bb526a2f80231dc849ee7ba7"
  },
  "language_info": {
   "name": "python",
   "version": ""
  },
  "orig_nbformat": 2
 },
 "nbformat": 4,
 "nbformat_minor": 2
}