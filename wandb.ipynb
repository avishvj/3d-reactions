{
 "cells": [
  {
   "cell_type": "markdown",
   "metadata": {},
   "source": [
    "### Experiment Tracking with W&B\r\n",
    "\r\n",
    "- config: store hp and metadata for each run\r\n",
    "- wandb.init\r\n",
    "- wandb.watch: log model gradients and params over time (helps detect bugs e.g. weird grad behaviour)\r\n",
    "- wandb.log: log stuff we care about\r\n",
    "- wandb.save: save online\r\n",
    "\r\n",
    "use with block in context manager syntax"
   ]
  },
  {
   "cell_type": "code",
   "execution_count": null,
   "metadata": {},
   "outputs": [],
   "source": [
    "import wandb\r\n",
    "wandb.login()"
   ]
  },
  {
   "cell_type": "code",
   "execution_count": null,
   "metadata": {},
   "outputs": [],
   "source": [
    "config = dict(\r\n",
    "    epochs = 50,\r\n",
    "    val_ratio = 0,\r\n",
    "    test_ratio = 0.2\r\n",
    ")"
   ]
  },
  {
   "cell_type": "code",
   "execution_count": null,
   "metadata": {},
   "outputs": [],
   "source": [
    "def make(base_path, val_ratio, test_ratio, encode_data_name, decode_data_name, latent_dim):\r\n",
    "    # TODO: make edges to device here on when called on\r\n",
    "    device = torch.device('cuda' if torch.cuda.is_available() else 'cpu')\r\n",
    "\r\n",
    "    # dataset to encode\r\n",
    "    encode_dataset = ReactionDataset(base_path, geo_file = encode_data_name, dataset_type= 'individual')\r\n",
    "    encode_data = encode_dataset.data\r\n",
    "    encode_data.train_mask = encode_data.val_mask = encode_data.test_mask = encode_data.y = None\r\n",
    "    encode_data = train_test_split_edges(data = encode_data, val_ratio = val_ratio, test_ratio = test_ratio)\r\n",
    "    encode_x = encode_data.x.to(device)\r\n",
    "    encode_train_pos_edge_index = encode_data.train_pos_edge_index.to(device)\r\n",
    "\r\n",
    "    # dataset to decode\r\n",
    "    decode_dataset = ReactionDataset(base_path, geo_file = decode_data_name, dataset_type= 'individual')\r\n",
    "    decode_data = decode_dataset.data\r\n",
    "    decode_data.train_mask = decode_data.val_mask = decode_data.test_mask = decode_data.y = None\r\n",
    "    decode_data = train_test_split_edges(data = decode_data, val_ratio = val_ratio, test_ratio = test_ratio)\r\n",
    "    decode_x = decode_data.x.to(device)\r\n",
    "    decode_train_pos_edge_index = decode_data.train_pos_edge_index.to(device)\r\n",
    "\r\n",
    "    # model creation\r\n",
    "    gae = GAE(MolEncoder(encode_data.num_node_features, latent_dim))\r\n",
    "    opt = torch.optim.Adam(gae.parameters(), lr = 0.01)\r\n",
    "\r\n",
    "    return gae, opt, encode_data, decode_data"
   ]
  },
  {
   "cell_type": "code",
   "execution_count": null,
   "metadata": {},
   "outputs": [],
   "source": [
    "def model_pipeline(hps):\r\n",
    "\r\n",
    "    # start wandb\r\n",
    "    with wandb.init(project=\"test\", config=hps):\r\n",
    "        \r\n",
    "        # access hps through wandb.config so logging matches execution\r\n",
    "        config = wandb.config\r\n",
    "\r\n",
    "        # model data\r\n",
    "        \r\n",
    "        val_ratio = 0\r\n",
    "        test_ratio = 0.2\r\n",
    "        \r\n",
    "        # make model, data, opt problem\r\n",
    "        ts_r_gae, ts_r_opt, r_data, ts_data = make(r'data/', 0, 0.2, 'train_r', 'train_ts', 2)"
   ]
  },
  {
   "cell_type": "markdown",
   "metadata": {},
   "source": [
    "### Testing GAEs"
   ]
  },
  {
   "cell_type": "code",
   "execution_count": 1,
   "metadata": {},
   "outputs": [],
   "source": [
    "# data processing\r\n",
    "from ts_vae.data_processors.new_pyg_processor import ReactionDataset\r\n",
    "\r\n",
    "# node AE\r\n",
    "from ts_vae.simple_gaes.node_gae import Node_AE\r\n",
    "from ts_vae.simple_gaes.node_gae import train_node_ae, test_node_ae\r\n",
    "\r\n",
    "# nodeedge AE\r\n",
    "from ts_vae.simple_gaes.nodeedge_gae import NodeEdge_AE\r\n",
    "from ts_vae.simple_gaes.nodeedge_gae import train_ne_ae\r\n",
    "\r\n",
    "# torch\r\n",
    "import torch\r\n",
    "import torch.nn as nn\r\n",
    "import torch.nn.functional as F\r\n",
    "\r\n",
    "# torch geometric\r\n",
    "from torch_geometric.data import DataLoader\r\n",
    "# should double check this func works okay\r\n",
    "from torch_geometric.utils import to_dense_adj\r\n",
    "\r\n",
    "# other\r\n",
    "import numpy as np\r\n",
    "from sklearn.metrics import roc_auc_score, average_precision_score"
   ]
  },
  {
   "cell_type": "code",
   "execution_count": 2,
   "metadata": {},
   "outputs": [],
   "source": [
    "# remove processed files\r\n",
    "import os\r\n",
    "import glob\r\n",
    "\r\n",
    "files = glob.glob(r'data/processed/*')\r\n",
    "for f in files:\r\n",
    "    os.remove(f)"
   ]
  },
  {
   "cell_type": "markdown",
   "metadata": {},
   "source": [
    "## New try"
   ]
  },
  {
   "cell_type": "code",
   "execution_count": 2,
   "metadata": {},
   "outputs": [],
   "source": [
    "rxns = ReactionDataset(r'data')\r\n",
    "reactants = rxns.data.r\r\n",
    "transition_states = rxns.data.ts\r\n",
    "products = rxns.data.p\r\n",
    "\r\n",
    "# train_loader = DataLoader(rxns[: num_train], batch_size = 2, follow_batch = ['r', 'p'])\r\n",
    "# test_loader = DataLoader(rxns[num_train:], batch_size = 2, follow_batch = ['r', 'p'])\r\n",
    "\r\n",
    "num_rxns = len(rxns)\r\n",
    "train_ratio = 0.8\r\n",
    "num_train = int(np.floor(train_ratio * num_rxns))\r\n",
    "\r\n",
    "batch_size = 2\r\n",
    "\r\n",
    "# need to be able to recover original reactants after encoding\r\n",
    "# note: no padding, since PyG automatically factors this in\r\n",
    "train_loaders = {'r':  DataLoader(reactants[: num_train], batch_size), \r\n",
    "                 'ts': DataLoader(transition_states[: num_train], batch_size), \r\n",
    "                 'p':  DataLoader(products[: num_train], batch_size)}\r\n",
    "\r\n",
    "test_loaders =  {'r':  DataLoader(reactants[num_train: ], batch_size), \r\n",
    "                 'ts': DataLoader(transition_states[num_train: ], batch_size), \r\n",
    "                 'p':  DataLoader(products[num_train: ], batch_size)}"
   ]
  },
  {
   "cell_type": "code",
   "execution_count": 3,
   "metadata": {},
   "outputs": [],
   "source": [
    "### Node AE\r\n",
    "\r\n",
    "# TODO: same for test_loader?\r\n",
    "max_num_nodes = max([r.z.size(0) for r in train_loaders['r'].dataset])\r\n",
    "assert([r.x.size(1) for r in train_loaders['r'].dataset] == [train_loaders['r'].dataset[0].x.size(1)] * len(train_loaders['r'].dataset))\r\n",
    "num_node_fs = train_loaders['r'].dataset[0].x.size(1)\r\n",
    "num_edge_fs = train_loaders['r'].dataset[0].edge_attr.size(1)\r\n",
    "h_nf = 5\r\n",
    "emb_nf = 2\r\n",
    "\r\n",
    "# in_node_nf + in_edge_nf >= h_nf >= out_nf > emb_nf \r\n",
    "node_ae = Node_AE(in_node_nf = num_node_fs, in_edge_nf = num_edge_fs, h_nf = h_nf, out_nf = h_nf, emb_nf = emb_nf)\r\n",
    "node_opt = torch.optim.Adam(node_ae.parameters(), lr = 1e-3)\r\n",
    "\r\n",
    "# train and test, add epochs after\r\n",
    "train_loss, train_res = train_node_ae(node_ae, node_opt, train_loaders['r'])\r\n",
    "test_loss, test_res = test_node_ae(node_ae, node_opt, test_loaders['r']) "
   ]
  },
  {
   "cell_type": "code",
   "execution_count": 4,
   "metadata": {},
   "outputs": [],
   "source": [
    "# NodeEdge AE\r\n",
    "\r\n",
    "max_num_nodes = max([r.z.size(0) for r in train_loaders['r'].dataset])\r\n",
    "assert([r.x.size(1) for r in train_loaders['r'].dataset] == [train_loaders['r'].dataset[0].x.size(1)] * len(train_loaders['r'].dataset))\r\n",
    "num_node_fs = train_loaders['r'].dataset[0].x.size(1)\r\n",
    "num_edge_fs = train_loaders['r'].dataset[0].edge_attr.size(1)\r\n",
    "h_nf = 5\r\n",
    "emb_nf = 2\r\n",
    "\r\n",
    "ne_ae = NodeEdge_AE(in_node_nf = num_node_fs, in_edge_nf = num_edge_fs, h_nf = h_nf, out_nf = h_nf, emb_nf = emb_nf)\r\n",
    "ne_opt = torch.optim.Adam(ne_ae.parameters(), lr = 1e-3)\r\n",
    "\r\n",
    "# train and test\r\n",
    "train_loss, train_res = train_ne_ae(ne_ae, ne_opt, train_loaders['r'])\r\n",
    "test_loss, test_res = test_ne_ae(ne_ae, test_loaders['r']) "
   ]
  },
  {
   "cell_type": "code",
   "execution_count": 21,
   "metadata": {},
   "outputs": [
    {
     "ename": "NameError",
     "evalue": "name 'in_node_nf' is not defined",
     "output_type": "error",
     "traceback": [
      "\u001b[1;31m---------------------------------------------------------------------------\u001b[0m",
      "\u001b[1;31mNameError\u001b[0m                                 Traceback (most recent call last)",
      "\u001b[1;32m<ipython-input-21-b8662d84226e>\u001b[0m in \u001b[0;36m<module>\u001b[1;34m\u001b[0m\n\u001b[0;32m     15\u001b[0m \u001b[0mnode_is_fs\u001b[0m\u001b[1;33m.\u001b[0m\u001b[0mshape\u001b[0m\u001b[1;33m,\u001b[0m \u001b[0medge_in\u001b[0m\u001b[1;33m.\u001b[0m\u001b[0mshape\u001b[0m\u001b[1;33m,\u001b[0m \u001b[0medge_attr\u001b[0m\u001b[1;33m.\u001b[0m\u001b[0mshape\u001b[0m\u001b[1;33m\u001b[0m\u001b[1;33m\u001b[0m\u001b[0m\n\u001b[0;32m     16\u001b[0m \u001b[1;33m\u001b[0m\u001b[0m\n\u001b[1;32m---> 17\u001b[1;33m edge_mlp = nn.Sequential(nn.Linear(in_node_nf * 2 + in_edge_nf, h_nf, bias = bias),\n\u001b[0m\u001b[0;32m     18\u001b[0m                                       \u001b[0mact_fn\u001b[0m\u001b[1;33m,\u001b[0m\u001b[1;33m\u001b[0m\u001b[1;33m\u001b[0m\u001b[0m\n\u001b[0;32m     19\u001b[0m                                       nn.Linear(h_nf, out_nf, bias = bias))\n",
      "\u001b[1;31mNameError\u001b[0m: name 'in_node_nf' is not defined"
     ]
    }
   ],
   "source": [
    "batch = next(iter(test_loaders['r']))\r\n",
    "\r\n",
    "node_feats, edge_index, edge_attr = batch.x, batch.edge_index, batch.edge_attr\r\n",
    "\r\n",
    "# batch.x.shape, batch.x[row].shape, batch.x[col].shape\r\n",
    "\r\n",
    "\r\n",
    "\r\n",
    "# in_node_nf * 2 + in_edge_nf\r\n",
    "\r\n",
    "node_is, node_js = edge_index\r\n",
    "# get node feats for each bonded pair of atoms\r\n",
    "node_is_fs, node_js_fs = node_feats[node_is], node_feats[node_js]\r\n",
    "edge_in = torch.cat([node_is_fs, node_js_fs, edge_attr], dim = 1)\r\n",
    "node_is_fs.shape, edge_in.shape, edge_attr.shape\r\n",
    "\r\n",
    "edge_mlp = nn.Sequential(nn.Linear(in_node_nf * 2 + in_edge_nf, h_nf, bias = bias),\r\n",
    "                                      act_fn,\r\n",
    "                                      nn.Linear(h_nf, out_nf, bias = bias))"
   ]
  },
  {
   "cell_type": "code",
   "execution_count": 15,
   "metadata": {},
   "outputs": [
    {
     "data": {
      "text/plain": "tensor([[0., 0., 0., 1., 0., 8., 0., 0., 0., 0., 1.],\n        [0., 1., 0., 0., 0., 6., 0., 0., 0., 0., 2.],\n        [0., 1., 0., 0., 0., 6., 0., 0., 0., 0., 2.],\n        [0., 0., 1., 0., 0., 7., 0., 0., 0., 0., 0.],\n        [0., 1., 0., 0., 0., 6., 0., 0., 0., 0., 2.],\n        [0., 1., 0., 0., 0., 6., 0., 0., 0., 0., 2.],\n        [1., 0., 0., 0., 0., 1., 0., 0., 0., 0., 0.],\n        [1., 0., 0., 0., 0., 1., 0., 0., 0., 0., 0.],\n        [1., 0., 0., 0., 0., 1., 0., 0., 0., 0., 0.],\n        [1., 0., 0., 0., 0., 1., 0., 0., 0., 0., 0.],\n        [1., 0., 0., 0., 0., 1., 0., 0., 0., 0., 0.],\n        [1., 0., 0., 0., 0., 1., 0., 0., 0., 0., 0.],\n        [1., 0., 0., 0., 0., 1., 0., 0., 0., 0., 0.],\n        [1., 0., 0., 0., 0., 1., 0., 0., 0., 0., 0.],\n        [1., 0., 0., 0., 0., 1., 0., 0., 0., 0., 0.]])"
     },
     "execution_count": 15,
     "metadata": {},
     "output_type": "execute_result"
    }
   ],
   "source": []
  },
  {
   "cell_type": "code",
   "execution_count": 158,
   "metadata": {},
   "outputs": [
    {
     "data": {
      "text/plain": "Batch(batch=[15], edge_attr=[30, 4], edge_index=[2, 30], idx=[1], pos=[15, 3], ptr=[2], x=[15, 11], z=[15])"
     },
     "execution_count": 158,
     "metadata": {},
     "output_type": "execute_result"
    }
   ],
   "source": [
    "# R->R: node ae, train \r\n",
    "#   DONE!\r\n",
    "# R->R: node + edge ae, train\r\n",
    "# R->R: node + edge + coords, train\r\n",
    "# same for R->TS, P->TS, (R,P)->TS\r\n",
    "\r\n",
    "# look at DGL for improvements: k-hop graph func + khop adj util func"
   ]
  },
  {
   "cell_type": "code",
   "execution_count": null,
   "metadata": {},
   "outputs": [],
   "source": [
    "def train_gae(gae, opt, x, train_pos_edge_index):\r\n",
    "    gae.train()\r\n",
    "    opt.zero_grad()\r\n",
    "    print(\"train x shape: \", x.shape)\r\n",
    "    z = gae.encode(x, train_pos_edge_index)\r\n",
    "    print(\"train z shape: \", z.shape)\r\n",
    "    loss = gae.recon_loss(z, train_pos_edge_index)\r\n",
    "    loss.backward()\r\n",
    "    opt.step()\r\n",
    "    return float(loss)\r\n",
    "\r\n",
    "def test_gae(gae, x, train_pos_edge_index, test_pos_edge_index, test_neg_edge_index):\r\n",
    "    gae.eval()\r\n",
    "    with torch.no_grad():\r\n",
    "        z = gae.encode(x, train_pos_edge_index)\r\n",
    "    return gae.test(z, test_pos_edge_index, test_neg_edge_index)\r\n",
    "\r\n",
    "def new_test_gae(gae, x, edge_index):\r\n",
    "    # this just does recon loss again\r\n",
    "    gae.eval()\r\n",
    "    with torch.no_grad():\r\n",
    "        print(\"test x shape: \", x.shape)\r\n",
    "        z = gae.encode(x, edge_index)\r\n",
    "        print(\"test z shape: \", z.shape)\r\n",
    "    return gae.recon_loss(z, edge_index)\r\n",
    "\r\n",
    "r_ae.reset_parameters()\r\n",
    "\r\n",
    "epochs = 10\r\n",
    "for epoch in range(1, epochs + 1):\r\n",
    "\r\n",
    "    # value = (z[edge_index[0]] * z[edge_index[1]]).sum(dim = 1)\r\n",
    "    loss_train = train_gae(r_ae, r_opt, r_x, r_data.edge_index)\r\n",
    "    print(\"===== Training complete with loss: {:.4f}, now testing ====\".format(loss_train))\r\n",
    "    loss_test = new_test_gae(r_ae, test_x, test_data.edge_index)\r\n",
    "    if epoch % 1 == 0:\r\n",
    "        print('===== Epoch: {:03d}, Loss: {:.4f} ===== \\n'.format(epoch, loss_test))"
   ]
  }
 ],
 "metadata": {
  "kernelspec": {
   "display_name": "Python 3.6.13 64-bit (conda)",
   "name": "3d-rdkit"
  },
  "language_info": {
   "codemirror_mode": {
    "name": "ipython",
    "version": 3
   },
   "file_extension": ".py",
   "mimetype": "text/x-python",
   "name": "python",
   "nbconvert_exporter": "python",
   "pygments_lexer": "ipython3",
   "version": "3.6.13"
  },
  "orig_nbformat": 2
 },
 "nbformat": 4,
 "nbformat_minor": 2
}