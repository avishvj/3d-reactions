{
 "cells": [
  {
   "cell_type": "markdown",
   "metadata": {},
   "source": [
    "### Experiment Tracking with W&B\r\n",
    "\r\n",
    "- config: store hp and metadata for each run\r\n",
    "- wandb.init\r\n",
    "- wandb.watch: log model gradients and params over time (helps detect bugs e.g. weird grad behaviour)\r\n",
    "- wandb.log: log stuff we care about\r\n",
    "- wandb.save: save online\r\n",
    "\r\n",
    "use with block in context manager syntax"
   ]
  },
  {
   "cell_type": "code",
   "execution_count": null,
   "metadata": {},
   "outputs": [],
   "source": [
    "import wandb\r\n",
    "wandb.login()"
   ]
  },
  {
   "cell_type": "code",
   "execution_count": null,
   "metadata": {},
   "outputs": [],
   "source": [
    "config = dict(\r\n",
    "    epochs = 50,\r\n",
    "    val_ratio = 0,\r\n",
    "    test_ratio = 0.2\r\n",
    ")"
   ]
  },
  {
   "cell_type": "code",
   "execution_count": null,
   "metadata": {},
   "outputs": [],
   "source": [
    "def make(base_path, val_ratio, test_ratio, encode_data_name, decode_data_name, latent_dim):\r\n",
    "    # TODO: make edges to device here on when called on\r\n",
    "    device = torch.device('cuda' if torch.cuda.is_available() else 'cpu')\r\n",
    "\r\n",
    "    # dataset to encode\r\n",
    "    encode_dataset = ReactionDataset(base_path, geo_file = encode_data_name, dataset_type= 'individual')\r\n",
    "    encode_data = encode_dataset.data\r\n",
    "    encode_data.train_mask = encode_data.val_mask = encode_data.test_mask = encode_data.y = None\r\n",
    "    encode_data = train_test_split_edges(data = encode_data, val_ratio = val_ratio, test_ratio = test_ratio)\r\n",
    "    encode_x = encode_data.x.to(device)\r\n",
    "    encode_train_pos_edge_index = encode_data.train_pos_edge_index.to(device)\r\n",
    "\r\n",
    "    # dataset to decode\r\n",
    "    decode_dataset = ReactionDataset(base_path, geo_file = decode_data_name, dataset_type= 'individual')\r\n",
    "    decode_data = decode_dataset.data\r\n",
    "    decode_data.train_mask = decode_data.val_mask = decode_data.test_mask = decode_data.y = None\r\n",
    "    decode_data = train_test_split_edges(data = decode_data, val_ratio = val_ratio, test_ratio = test_ratio)\r\n",
    "    decode_x = decode_data.x.to(device)\r\n",
    "    decode_train_pos_edge_index = decode_data.train_pos_edge_index.to(device)\r\n",
    "\r\n",
    "    # model creation\r\n",
    "    gae = GAE(MolEncoder(encode_data.num_node_features, latent_dim))\r\n",
    "    opt = torch.optim.Adam(gae.parameters(), lr = 0.01)\r\n",
    "\r\n",
    "    return gae, opt, encode_data, decode_data"
   ]
  },
  {
   "cell_type": "code",
   "execution_count": null,
   "metadata": {},
   "outputs": [],
   "source": [
    "def model_pipeline(hps):\r\n",
    "\r\n",
    "    # start wandb\r\n",
    "    with wandb.init(project=\"test\", config=hps):\r\n",
    "        \r\n",
    "        # access hps through wandb.config so logging matches execution\r\n",
    "        config = wandb.config\r\n",
    "\r\n",
    "        # model data\r\n",
    "        \r\n",
    "        val_ratio = 0\r\n",
    "        test_ratio = 0.2\r\n",
    "        \r\n",
    "        # make model, data, opt problem\r\n",
    "        ts_r_gae, ts_r_opt, r_data, ts_data = make(r'data/', 0, 0.2, 'train_r', 'train_ts', 2)"
   ]
  },
  {
   "cell_type": "markdown",
   "metadata": {},
   "source": [
    "### Testing GAEs"
   ]
  },
  {
   "cell_type": "code",
   "execution_count": 1,
   "metadata": {},
   "outputs": [],
   "source": [
    "# data processing\r\n",
    "from ts_vae.data_processors.grambow_processor import ReactionDataset\r\n",
    "\r\n",
    "# my GAEs\r\n",
    "from ts_vae.gaes.n_gae import Node_AE, train_node_ae, test_node_ae\r\n",
    "from ts_vae.gaes.ne_gae import NodeEdge_AE, train_ne_ae, test_ne_ae\r\n",
    "from ts_vae.gaes.nec_gae import NodeEdgeCoord_AE, train_nec_ae, test_nec_ae, main\r\n",
    "\r\n",
    "# torch\r\n",
    "import torch\r\n",
    "import torch.nn as nn\r\n",
    "import torch.nn.functional as F\r\n",
    "\r\n",
    "# torch geometric\r\n",
    "from torch_geometric.data import DataLoader\r\n",
    "from torch_geometric.utils import to_dense_adj\r\n",
    "\r\n",
    "# other\r\n",
    "import numpy as np\r\n",
    "from sklearn.metrics import roc_auc_score, average_precision_score"
   ]
  },
  {
   "cell_type": "code",
   "execution_count": 2,
   "metadata": {},
   "outputs": [],
   "source": [
    "# remove processed files\r\n",
    "import os\r\n",
    "import glob\r\n",
    "\r\n",
    "files = glob.glob(r'data/processed/*')\r\n",
    "for f in files:\r\n",
    "    os.remove(f)"
   ]
  },
  {
   "cell_type": "code",
   "execution_count": 3,
   "metadata": {},
   "outputs": [
    {
     "name": "stdout",
     "output_type": "stream",
     "text": [
      "Processing...\n"
     ]
    },
    {
     "name": "stderr",
     "output_type": "stream",
     "text": [
      " 15%|█▍        | 1000/6739 [00:02<00:16, 350.72it/s]\n",
      "100%|██████████| 842/842 [00:00<00:00, 1062.10it/s]\n",
      " 15%|█▍        | 1000/6739 [00:01<00:09, 578.16it/s]\n",
      "100%|██████████| 842/842 [00:00<00:00, 1158.25it/s]\n",
      " 15%|█▍        | 1000/6739 [00:02<00:12, 471.32it/s]\n",
      "100%|██████████| 842/842 [00:02<00:00, 341.44it/s]\n"
     ]
    },
    {
     "name": "stdout",
     "output_type": "stream",
     "text": [
      "Done!\n"
     ]
    }
   ],
   "source": [
    "rxns = ReactionDataset(r'data')\r\n",
    "reactants = rxns.data.r\r\n",
    "transition_states = rxns.data.ts\r\n",
    "products = rxns.data.p\r\n",
    "\r\n",
    "# train_loader = DataLoader(rxns[: num_train], batch_size = 2, follow_batch = ['r', 'p'])\r\n",
    "# test_loader = DataLoader(rxns[num_train:], batch_size = 2, follow_batch = ['r', 'p'])\r\n",
    "\r\n",
    "num_rxns = len(rxns)\r\n",
    "train_ratio = 0.8\r\n",
    "num_train = int(np.floor(train_ratio * num_rxns))\r\n",
    "\r\n",
    "batch_size = 20\r\n",
    "\r\n",
    "# need to be able to recover original reactants after encoding\r\n",
    "# note: no padding, since PyG automatically factors this in\r\n",
    "train_loaders = {'r':  DataLoader(reactants[: num_train], batch_size), \r\n",
    "                 'ts': DataLoader(transition_states[: num_train], batch_size), \r\n",
    "                 'p':  DataLoader(products[: num_train], batch_size)}\r\n",
    "\r\n",
    "test_loaders =  {'r':  DataLoader(reactants[num_train: ], batch_size), \r\n",
    "                 'ts': DataLoader(transition_states[num_train: ], batch_size), \r\n",
    "                 'p':  DataLoader(products[num_train: ], batch_size)}"
   ]
  },
  {
   "cell_type": "code",
   "execution_count": 4,
   "metadata": {},
   "outputs": [],
   "source": [
    "### Node AE\r\n",
    "max_num_nodes = max([r.z.size(0) for r in train_loaders['r'].dataset])\r\n",
    "assert([r.x.size(1) for r in train_loaders['r'].dataset] == [train_loaders['r'].dataset[0].x.size(1)] * len(train_loaders['r'].dataset))\r\n",
    "num_node_fs = train_loaders['r'].dataset[0].x.size(1)\r\n",
    "num_edge_fs = train_loaders['r'].dataset[0].edge_attr.size(1)\r\n",
    "h_nf = 5\r\n",
    "emb_nf = 2\r\n",
    "\r\n",
    "# in_node_nf + in_edge_nf >= h_nf >= out_nf > emb_nf \r\n",
    "node_ae = Node_AE(in_node_nf = num_node_fs, in_edge_nf = num_edge_fs, h_nf = h_nf, out_nf = h_nf, emb_nf = emb_nf)\r\n",
    "node_opt = torch.optim.Adam(node_ae.parameters(), lr = 1e-3)\r\n",
    "\r\n",
    "# train and test, add epochs after\r\n",
    "train_loss, train_res = train_node_ae(node_ae, node_opt, train_loaders['r'])\r\n",
    "test_loss, test_res = test_node_ae(node_ae, node_opt, test_loaders['r']) "
   ]
  },
  {
   "cell_type": "code",
   "execution_count": 5,
   "metadata": {},
   "outputs": [],
   "source": [
    "### NodeEdge AE\r\n",
    "max_num_nodes = max([r.z.size(0) for r in train_loaders['r'].dataset])\r\n",
    "assert([r.x.size(1) for r in train_loaders['r'].dataset] == [train_loaders['r'].dataset[0].x.size(1)] * len(train_loaders['r'].dataset))\r\n",
    "num_node_fs = train_loaders['r'].dataset[0].x.size(1)\r\n",
    "num_edge_fs = train_loaders['r'].dataset[0].edge_attr.size(1)\r\n",
    "h_nf = 5\r\n",
    "emb_nf = 2\r\n",
    "\r\n",
    "# model and opt\r\n",
    "ne_ae = NodeEdge_AE(in_node_nf = num_node_fs, in_edge_nf = num_edge_fs, h_nf = h_nf, out_nf = h_nf, emb_nf = emb_nf)\r\n",
    "ne_opt = torch.optim.Adam(ne_ae.parameters(), lr = 1e-3)\r\n",
    "\r\n",
    "# train and test\r\n",
    "train_loss, train_res = train_ne_ae(ne_ae, ne_opt, train_loaders['r'])\r\n",
    "test_loss, test_res = test_ne_ae(ne_ae, test_loaders['r']) "
   ]
  },
  {
   "cell_type": "code",
   "execution_count": 6,
   "metadata": {},
   "outputs": [],
   "source": [
    "### NodeEdgeCoord AE\r\n",
    "max_num_nodes = max([r.z.size(0) for r in train_loaders['r'].dataset])\r\n",
    "assert([r.x.size(1) for r in train_loaders['r'].dataset] == [train_loaders['r'].dataset[0].x.size(1)] * len(train_loaders['r'].dataset))\r\n",
    "num_node_fs = train_loaders['r'].dataset[0].x.size(1)\r\n",
    "num_edge_fs = train_loaders['r'].dataset[0].edge_attr.size(1)\r\n",
    "h_nf = 5\r\n",
    "emb_nf = 2\r\n",
    "\r\n",
    "# model and opt\r\n",
    "nec_ae = NodeEdgeCoord_AE(in_node_nf = num_node_fs, in_edge_nf = num_edge_fs, h_nf = h_nf, out_nf = h_nf, emb_nf = emb_nf)\r\n",
    "nec_opt = torch.optim.Adam(nec_ae.parameters(), lr = 1e-3)\r\n",
    "\r\n",
    "# train and test\r\n",
    "train_loss, train_res = train_nec_ae(nec_ae, nec_opt, train_loaders['r'])\r\n",
    "test_loss, test_res = test_nec_ae(nec_ae, test_loaders['r'])"
   ]
  },
  {
   "cell_type": "code",
   "execution_count": 13,
   "metadata": {},
   "outputs": [
    {
     "name": "stdout",
     "output_type": "stream",
     "text": [
      "===== Training epoch 001 complete with loss: 2.9641 ====\n",
      "===== Training epoch 002 complete with loss: 3.0421 ====\n",
      "===== Training epoch 003 complete with loss: 3.0840 ====\n",
      "===== Training epoch 004 complete with loss: 3.0168 ====\n",
      "===== Training epoch 005 complete with loss: 2.9672 ====\n",
      "===== Testing epoch: 005, Loss: 2.8587 ===== \n",
      "\n",
      "===== Training epoch 006 complete with loss: 2.9764 ====\n",
      "===== Training epoch 007 complete with loss: 3.0892 ====\n",
      "===== Training epoch 008 complete with loss: 3.0578 ====\n",
      "===== Training epoch 009 complete with loss: 3.0092 ====\n",
      "===== Training epoch 010 complete with loss: 2.9911 ====\n",
      "===== Testing epoch: 010, Loss: 2.7333 ===== \n",
      "\n",
      "===== Training epoch 011 complete with loss: 2.9480 ====\n",
      "===== Training epoch 012 complete with loss: 2.9414 ====\n",
      "===== Training epoch 013 complete with loss: 2.9321 ====\n",
      "===== Training epoch 014 complete with loss: 3.0139 ====\n",
      "===== Training epoch 015 complete with loss: 3.0026 ====\n",
      "===== Testing epoch: 015, Loss: 3.0517 ===== \n",
      "\n",
      "===== Training epoch 016 complete with loss: 2.9518 ====\n",
      "===== Training epoch 017 complete with loss: 2.9370 ====\n",
      "===== Training epoch 018 complete with loss: 3.0574 ====\n",
      "===== Training epoch 019 complete with loss: 3.0241 ====\n",
      "===== Training epoch 020 complete with loss: 2.9521 ====\n",
      "===== Testing epoch: 020, Loss: 2.9473 ===== \n",
      "\n"
     ]
    }
   ],
   "source": [
    "# NodeEdge Model\r\n",
    "\r\n",
    "epochs = 20\r\n",
    "test_interval = 5\r\n",
    "\r\n",
    "final_res = {'epochs': [], 'train_loss_arr': [], 'train_res_arr': [], \r\n",
    "             'test_loss_arr': [], 'test_res_arr': [], 'best_test': 1e10, 'best_epoch': 0}\r\n",
    "\r\n",
    "# r_ae.reset_parameters()\r\n",
    "\r\n",
    "for epoch in range(1, epochs + 1):\r\n",
    "    \r\n",
    "    train_loss, train_res = train_ne_ae(ne_ae, ne_opt, train_loaders['r'])\r\n",
    "    final_res['train_loss_arr'].append(train_loss)\r\n",
    "    final_res['train_res_arr'].append(train_res)\r\n",
    "    print(f\"===== Training epoch {epoch:03d} complete with loss: {train_loss:.4f} ====\")\r\n",
    "    \r\n",
    "    if epoch % test_interval == 0:\r\n",
    "    \r\n",
    "        test_loss, test_res = test_ne_ae(ne_ae, test_loaders['r'])\r\n",
    "        final_res['test_loss_arr'].append(test_loss)\r\n",
    "        final_res['test_res_arr'].append(test_res)\r\n",
    "        print(f'===== Testing epoch: {epoch:03d}, Loss: {test_loss:.4f} ===== \\n')\r\n",
    "        \r\n",
    "        if test_loss < final_res['best_test']:\r\n",
    "            final_res['best_test'] = test_loss\r\n",
    "            final_res['best_epoch'] = epoch"
   ]
  },
  {
   "cell_type": "code",
   "execution_count": null,
   "metadata": {},
   "outputs": [],
   "source": [
    "# NodeEdgeCoord Model\r\n",
    "\r\n",
    "epochs = 20\r\n",
    "test_interval = 5\r\n",
    "\r\n",
    "final_res = {'epochs': [], 'train_loss_arr': [], 'train_res_arr': [], \r\n",
    "             'test_loss_arr': [], 'test_res_arr': [], 'best_test': 1e10, 'best_epoch': 0}\r\n",
    "\r\n",
    "# r_ae.reset_parameters()\r\n",
    "\r\n",
    "for epoch in range(1, epochs + 1):\r\n",
    "    \r\n",
    "    train_loss, train_res = train_nec_ae(nec_ae, nec_opt, train_loaders['r'])\r\n",
    "    final_res['train_loss_arr'].append(train_loss)\r\n",
    "    final_res['train_res_arr'].append(train_res)\r\n",
    "    print(f\"===== Training epoch {epoch:03d} complete with loss: {train_loss:.4f} ====\")\r\n",
    "    \r\n",
    "    if epoch % test_interval == 0:\r\n",
    "    \r\n",
    "        test_loss, test_res = test_nec_ae(nec_ae, test_loaders['r'])\r\n",
    "        final_res['test_loss_arr'].append(test_loss)\r\n",
    "        final_res['test_res_arr'].append(test_res)\r\n",
    "        print(f'===== Testing epoch: {epoch:03d}, Loss: {test_loss:.4f} ===== \\n')\r\n",
    "        \r\n",
    "        if test_loss < final_res['best_test']:\r\n",
    "            final_res['best_test'] = test_loss\r\n",
    "            final_res['best_epoch'] = epoch"
   ]
  },
  {
   "cell_type": "code",
   "execution_count": 11,
   "metadata": {},
   "outputs": [
    {
     "data": {
      "text/plain": "[{'total_loss': 1057.0986795425415,\n  'counter': 369,\n  'total_loss_arr': [3.0813746452331543,\n   2.6163179874420166,\n   3.012462854385376,\n   2.5098307132720947,\n   2.5540337562561035,\n   2.899033308029175,\n   3.2690751552581787,\n   2.8928704261779785,\n   2.990562677383423,\n   3.501192331314087,\n   2.8398962020874023,\n   2.6030735969543457,\n   2.548585891723633,\n   2.960947036743164,\n   2.4626095294952393,\n   2.971714973449707,\n   2.8775155544281006,\n   2.8694534301757812,\n   3.098630905151367],\n  'coord_loss_arr': [0.0,\n   0.0,\n   0.0,\n   0.0,\n   0.0,\n   0.0,\n   0.0,\n   0.0,\n   0.0,\n   0.0,\n   0.0,\n   0.0,\n   0.0,\n   0.0,\n   0.0,\n   0.0,\n   0.0,\n   0.0,\n   0.0],\n  'node_recon_loss_arr': [1.9208110570907593,\n   1.7394442558288574,\n   2.1114180088043213,\n   2.0683984756469727,\n   1.9450640678405762,\n   2.4605486392974854,\n   2.156846523284912,\n   2.2254295349121094,\n   2.4294798374176025,\n   2.4254672527313232,\n   2.4140782356262207,\n   2.1779332160949707,\n   1.9332128763198853,\n   2.4377739429473877,\n   1.8139039278030396,\n   2.2300007343292236,\n   2.3170740604400635,\n   2.3904242515563965,\n   2.6155543327331543],\n  'edge_recon_loss_arr': [0.838325560092926,\n   0.5556636452674866,\n   0.5785819292068481,\n   0.11987880617380142,\n   0.2875709533691406,\n   0.11672713607549667,\n   0.7904938459396362,\n   0.34540048241615295,\n   0.23868760466575623,\n   0.753750741481781,\n   0.10421957075595856,\n   0.10303857177495956,\n   0.2933393120765686,\n   0.2007659524679184,\n   0.3264477252960205,\n   0.4196206331253052,\n   0.23870955407619476,\n   0.1573544293642044,\n   0.15142351388931274],\n  'adj_loss_arr': [0.32223793864250183,\n   0.3212101459503174,\n   0.3224627673625946,\n   0.32155340909957886,\n   0.32139870524406433,\n   0.32175758481025696,\n   0.32173463702201843,\n   0.3220404386520386,\n   0.3223952651023865,\n   0.32197433710098267,\n   0.3215984106063843,\n   0.32210174202919006,\n   0.32203376293182373,\n   0.3224072754383087,\n   0.3222576677799225,\n   0.32209348678588867,\n   0.3217320740222931,\n   0.3216747045516968,\n   0.3316531181335449]},\n {'total_loss': 1098.306967973709,\n  'counter': 369,\n  'total_loss_arr': [2.8013052940368652,\n   2.8957149982452393,\n   2.880288600921631,\n   2.88411545753479,\n   3.401848793029785,\n   3.2742013931274414,\n   2.9613196849823,\n   3.063833713531494,\n   3.4716506004333496,\n   3.364039659500122,\n   2.649190902709961,\n   3.062880754470825,\n   2.4848570823669434,\n   2.561992883682251,\n   3.428497076034546,\n   2.3680877685546875,\n   2.816575765609741,\n   2.9396908283233643,\n   3.5672380924224854],\n  'coord_loss_arr': [0.0,\n   0.0,\n   0.0,\n   0.0,\n   0.0,\n   0.0,\n   0.0,\n   0.0,\n   0.0,\n   0.0,\n   0.0,\n   0.0,\n   0.0,\n   0.0,\n   0.0,\n   0.0,\n   0.0,\n   0.0,\n   0.0],\n  'node_recon_loss_arr': [2.083117723464966,\n   2.190094470977783,\n   2.2661421298980713,\n   2.3047473430633545,\n   2.4495198726654053,\n   2.368581533432007,\n   1.9176733493804932,\n   1.9505629539489746,\n   2.6848747730255127,\n   2.663578510284424,\n   1.7480766773223877,\n   2.4164915084838867,\n   1.7989970445632935,\n   2.0189504623413086,\n   2.3685460090637207,\n   1.8515976667404175,\n   1.7972362041473389,\n   2.1427979469299316,\n   2.695427656173706],\n  'edge_recon_loss_arr': [0.3976955711841583,\n   0.38623887300491333,\n   0.29381754994392395,\n   0.25978371500968933,\n   0.6324625611305237,\n   0.5857893228530884,\n   0.7237980961799622,\n   0.7931995391845703,\n   0.46623802185058594,\n   0.3804895877838135,\n   0.5814598798751831,\n   0.3257536292076111,\n   0.36552584171295166,\n   0.22289444506168365,\n   0.7398460507392883,\n   0.19627250730991364,\n   0.6997594833374023,\n   0.477068692445755,\n   0.5417206287384033],\n  'adj_loss_arr': [0.320492148399353,\n   0.3193817734718323,\n   0.32032904028892517,\n   0.31958436965942383,\n   0.3198662996292114,\n   0.3198302984237671,\n   0.31984826922416687,\n   0.32007133960723877,\n   0.3205379247665405,\n   0.31997159123420715,\n   0.31965455412864685,\n   0.32063546776771545,\n   0.3203340768814087,\n   0.32014790177345276,\n   0.32010507583618164,\n   0.3202175199985504,\n   0.3195801079273224,\n   0.31982412934303284,\n   0.33008989691734314]}]"
     },
     "execution_count": 11,
     "metadata": {},
     "output_type": "execute_result"
    }
   ],
   "source": [
    "# final_res['train_res_arr']\r\n",
    "final_res['test_res_arr']\r\n",
    "\r\n",
    "# node_loss > 1.7, usually > 2 but gets worse...\r\n",
    "# adj_loss always 0.3\r\n",
    "# edge_loss goes from 0.8 -> 0.1\r\n",
    "# coord_loss = 0 always..."
   ]
  },
  {
   "cell_type": "markdown",
   "metadata": {},
   "source": [
    "Convert MLP to GNN by swapping torch.nn.Linear with PyG's GNN operators e.g. GCN layer\r\n",
    "Lucky's work\r\n",
    "- PairFeatures: a manual MP I think. it has to be otherwise what he's doing isn't a GNN.\r\n",
    "- set edges: iterate: \r\n",
    "    - compute features (i.e. MP) -> MLP(features) -> update edges\r\n",
    "    - compute features (i.e. MP) -> MLP(MLP(edges)) -> update vertices\r\n",
    "\r\n",
    "Loose notes\r\n",
    "- Can define data class for parameters e.g. \r\n",
    "    - @dataclass\r\n",
    "      class GNNParams:\r\n",
    "        input_dim: int\r\n",
    "        output_dim: int\r\n",
    "        ... (hidden_sizes, dropout, batchnorm, activation)"
   ]
  }
 ],
 "metadata": {
  "kernelspec": {
   "display_name": "Python 3.6.13 64-bit (conda)",
   "name": "python3613jvsc74a57bd0f4671ad35fdc0609fa675edcd17de5b3092cb55d03f1d9670a78611a41fb18f3"
  },
  "language_info": {
   "name": "python",
   "version": ""
  },
  "orig_nbformat": 2
 },
 "nbformat": 4,
 "nbformat_minor": 2
}