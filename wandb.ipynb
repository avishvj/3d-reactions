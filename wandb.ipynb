{
 "cells": [
  {
   "cell_type": "markdown",
   "metadata": {},
   "source": [
    "### Experiment Tracking with W&B\r\n",
    "\r\n",
    "- config: store hp and metadata for each run\r\n",
    "- wandb.init\r\n",
    "- wandb.watch: log model gradients and params over time (helps detect bugs e.g. weird grad behaviour)\r\n",
    "- wandb.log: log stuff we care about\r\n",
    "- wandb.save: save online\r\n",
    "\r\n",
    "use with block in context manager syntax"
   ]
  },
  {
   "cell_type": "code",
   "execution_count": null,
   "metadata": {},
   "outputs": [],
   "source": [
    "import wandb\r\n",
    "wandb.login()"
   ]
  },
  {
   "cell_type": "code",
   "execution_count": null,
   "metadata": {},
   "outputs": [],
   "source": [
    "config = dict(\r\n",
    "    epochs = 50,\r\n",
    "    val_ratio = 0,\r\n",
    "    test_ratio = 0.2\r\n",
    ")"
   ]
  },
  {
   "cell_type": "code",
   "execution_count": null,
   "metadata": {},
   "outputs": [],
   "source": [
    "def make(base_path, val_ratio, test_ratio, encode_data_name, decode_data_name, latent_dim):\r\n",
    "    # TODO: make edges to device here on when called on\r\n",
    "    device = torch.device('cuda' if torch.cuda.is_available() else 'cpu')\r\n",
    "\r\n",
    "    # dataset to encode\r\n",
    "    encode_dataset = ReactionDataset(base_path, geo_file = encode_data_name, dataset_type= 'individual')\r\n",
    "    encode_data = encode_dataset.data\r\n",
    "    encode_data.train_mask = encode_data.val_mask = encode_data.test_mask = encode_data.y = None\r\n",
    "    encode_data = train_test_split_edges(data = encode_data, val_ratio = val_ratio, test_ratio = test_ratio)\r\n",
    "    encode_x = encode_data.x.to(device)\r\n",
    "    encode_train_pos_edge_index = encode_data.train_pos_edge_index.to(device)\r\n",
    "\r\n",
    "    # dataset to decode\r\n",
    "    decode_dataset = ReactionDataset(base_path, geo_file = decode_data_name, dataset_type= 'individual')\r\n",
    "    decode_data = decode_dataset.data\r\n",
    "    decode_data.train_mask = decode_data.val_mask = decode_data.test_mask = decode_data.y = None\r\n",
    "    decode_data = train_test_split_edges(data = decode_data, val_ratio = val_ratio, test_ratio = test_ratio)\r\n",
    "    decode_x = decode_data.x.to(device)\r\n",
    "    decode_train_pos_edge_index = decode_data.train_pos_edge_index.to(device)\r\n",
    "\r\n",
    "    # model creation\r\n",
    "    gae = GAE(MolEncoder(encode_data.num_node_features, latent_dim))\r\n",
    "    opt = torch.optim.Adam(gae.parameters(), lr = 0.01)\r\n",
    "\r\n",
    "    return gae, opt, encode_data, decode_data"
   ]
  },
  {
   "cell_type": "code",
   "execution_count": null,
   "metadata": {},
   "outputs": [],
   "source": [
    "def model_pipeline(hps):\r\n",
    "\r\n",
    "    # start wandb\r\n",
    "    with wandb.init(project=\"test\", config=hps):\r\n",
    "        \r\n",
    "        # access hps through wandb.config so logging matches execution\r\n",
    "        config = wandb.config\r\n",
    "\r\n",
    "        # model data\r\n",
    "        \r\n",
    "        val_ratio = 0\r\n",
    "        test_ratio = 0.2\r\n",
    "        \r\n",
    "        # make model, data, opt problem\r\n",
    "        ts_r_gae, ts_r_opt, r_data, ts_data = make(r'data/', 0, 0.2, 'train_r', 'train_ts', 2)"
   ]
  },
  {
   "cell_type": "markdown",
   "metadata": {},
   "source": [
    "### Testing GAEs"
   ]
  },
  {
   "cell_type": "code",
   "execution_count": 1,
   "metadata": {},
   "outputs": [],
   "source": [
    "# data processing\r\n",
    "from ts_vae.data_processors.new_pyg_processor import ReactionDataset\r\n",
    "\r\n",
    "# Node AE\r\n",
    "from ts_vae.gaes.n_gae import Node_AE, train_node_ae, test_node_ae\r\n",
    "# NodeEdge AE\r\n",
    "from ts_vae.gaes.ne_gae import NodeEdge_AE, train_ne_ae, test_ne_ae\r\n",
    "# NodeEdgeCoord AE\r\n",
    "from ts_vae.gaes.nec_gae import NodeEdgeCoord_AE, train_nec_ae, test_nec_ae\r\n",
    "\r\n",
    "# torch\r\n",
    "import torch\r\n",
    "import torch.nn as nn\r\n",
    "import torch.nn.functional as F\r\n",
    "\r\n",
    "# torch geometric\r\n",
    "from torch_geometric.data import DataLoader\r\n",
    "# should double check this func works okay\r\n",
    "from torch_geometric.utils import to_dense_adj\r\n",
    "\r\n",
    "# other\r\n",
    "import numpy as np\r\n",
    "from sklearn.metrics import roc_auc_score, average_precision_score"
   ]
  },
  {
   "cell_type": "code",
   "execution_count": 2,
   "metadata": {},
   "outputs": [],
   "source": [
    "# remove processed files\r\n",
    "import os\r\n",
    "import glob\r\n",
    "\r\n",
    "files = glob.glob(r'data/processed/*')\r\n",
    "for f in files:\r\n",
    "    os.remove(f)"
   ]
  },
  {
   "cell_type": "markdown",
   "metadata": {},
   "source": [
    "## New try"
   ]
  },
  {
   "cell_type": "code",
   "execution_count": 2,
   "metadata": {},
   "outputs": [],
   "source": [
    "rxns = ReactionDataset(r'data')\r\n",
    "reactants = rxns.data.r\r\n",
    "transition_states = rxns.data.ts\r\n",
    "products = rxns.data.p\r\n",
    "\r\n",
    "# train_loader = DataLoader(rxns[: num_train], batch_size = 2, follow_batch = ['r', 'p'])\r\n",
    "# test_loader = DataLoader(rxns[num_train:], batch_size = 2, follow_batch = ['r', 'p'])\r\n",
    "\r\n",
    "num_rxns = len(rxns)\r\n",
    "train_ratio = 0.8\r\n",
    "num_train = int(np.floor(train_ratio * num_rxns))\r\n",
    "\r\n",
    "batch_size = 2\r\n",
    "\r\n",
    "# need to be able to recover original reactants after encoding\r\n",
    "# note: no padding, since PyG automatically factors this in\r\n",
    "train_loaders = {'r':  DataLoader(reactants[: num_train], batch_size), \r\n",
    "                 'ts': DataLoader(transition_states[: num_train], batch_size), \r\n",
    "                 'p':  DataLoader(products[: num_train], batch_size)}\r\n",
    "\r\n",
    "test_loaders =  {'r':  DataLoader(reactants[num_train: ], batch_size), \r\n",
    "                 'ts': DataLoader(transition_states[num_train: ], batch_size), \r\n",
    "                 'p':  DataLoader(products[num_train: ], batch_size)}"
   ]
  },
  {
   "cell_type": "code",
   "execution_count": 3,
   "metadata": {},
   "outputs": [],
   "source": [
    "### Node AE\r\n",
    "max_num_nodes = max([r.z.size(0) for r in train_loaders['r'].dataset])\r\n",
    "assert([r.x.size(1) for r in train_loaders['r'].dataset] == [train_loaders['r'].dataset[0].x.size(1)] * len(train_loaders['r'].dataset))\r\n",
    "num_node_fs = train_loaders['r'].dataset[0].x.size(1)\r\n",
    "num_edge_fs = train_loaders['r'].dataset[0].edge_attr.size(1)\r\n",
    "h_nf = 5\r\n",
    "emb_nf = 2\r\n",
    "\r\n",
    "# in_node_nf + in_edge_nf >= h_nf >= out_nf > emb_nf \r\n",
    "node_ae = Node_AE(in_node_nf = num_node_fs, in_edge_nf = num_edge_fs, h_nf = h_nf, out_nf = h_nf, emb_nf = emb_nf)\r\n",
    "node_opt = torch.optim.Adam(node_ae.parameters(), lr = 1e-3)\r\n",
    "\r\n",
    "# train and test, add epochs after\r\n",
    "train_loss, train_res = train_node_ae(node_ae, node_opt, train_loaders['r'])\r\n",
    "test_loss, test_res = test_node_ae(node_ae, node_opt, test_loaders['r']) "
   ]
  },
  {
   "cell_type": "code",
   "execution_count": 4,
   "metadata": {},
   "outputs": [],
   "source": [
    "### NodeEdge AE\r\n",
    "max_num_nodes = max([r.z.size(0) for r in train_loaders['r'].dataset])\r\n",
    "assert([r.x.size(1) for r in train_loaders['r'].dataset] == [train_loaders['r'].dataset[0].x.size(1)] * len(train_loaders['r'].dataset))\r\n",
    "num_node_fs = train_loaders['r'].dataset[0].x.size(1)\r\n",
    "num_edge_fs = train_loaders['r'].dataset[0].edge_attr.size(1)\r\n",
    "h_nf = 5\r\n",
    "emb_nf = 2\r\n",
    "\r\n",
    "# model and opt\r\n",
    "ne_ae = NodeEdge_AE(in_node_nf = num_node_fs, in_edge_nf = num_edge_fs, h_nf = h_nf, out_nf = h_nf, emb_nf = emb_nf)\r\n",
    "ne_opt = torch.optim.Adam(ne_ae.parameters(), lr = 1e-3)\r\n",
    "\r\n",
    "# train and test\r\n",
    "train_loss, train_res = train_ne_ae(ne_ae, ne_opt, train_loaders['r'])\r\n",
    "test_loss, test_res = test_ne_ae(ne_ae, test_loaders['r']) "
   ]
  },
  {
   "cell_type": "code",
   "execution_count": 3,
   "metadata": {},
   "outputs": [],
   "source": [
    "### NodeEdgeCoord AE\r\n",
    "max_num_nodes = max([r.z.size(0) for r in train_loaders['r'].dataset])\r\n",
    "assert([r.x.size(1) for r in train_loaders['r'].dataset] == [train_loaders['r'].dataset[0].x.size(1)] * len(train_loaders['r'].dataset))\r\n",
    "num_node_fs = train_loaders['r'].dataset[0].x.size(1)\r\n",
    "num_edge_fs = train_loaders['r'].dataset[0].edge_attr.size(1)\r\n",
    "h_nf = 5\r\n",
    "emb_nf = 2\r\n",
    "\r\n",
    "# model and opt\r\n",
    "nec_ae = NodeEdgeCoord_AE(in_node_nf = num_node_fs, in_edge_nf = num_edge_fs, h_nf = h_nf, out_nf = h_nf, emb_nf = emb_nf)\r\n",
    "nec_opt = torch.optim.Adam(nec_ae.parameters(), lr = 1e-3)\r\n",
    "\r\n",
    "# train and test\r\n",
    "train_loss, train_res = train_nec_ae(nec_ae, nec_opt, train_loaders['r'])\r\n",
    "test_loss, test_res = test_nec_ae(nec_ae, test_loaders['r'])"
   ]
  },
  {
   "cell_type": "code",
   "execution_count": 4,
   "metadata": {},
   "outputs": [
    {
     "data": {
      "text/plain": "(3.447507619857788, 2.907812794049581)"
     },
     "execution_count": 4,
     "metadata": {},
     "output_type": "execute_result"
    }
   ],
   "source": [
    "train_loss, test_loss"
   ]
  },
  {
   "cell_type": "code",
   "execution_count": 158,
   "metadata": {},
   "outputs": [
    {
     "data": {
      "text/plain": "Batch(batch=[15], edge_attr=[30, 4], edge_index=[2, 30], idx=[1], pos=[15, 3], ptr=[2], x=[15, 11], z=[15])"
     },
     "execution_count": 158,
     "metadata": {},
     "output_type": "execute_result"
    }
   ],
   "source": [
    "# DONE! R->R: node ae, train \r\n",
    "# DONE! R->R: node + edge ae, train\r\n",
    "# DONE! R->R: node + edge + coords, train\r\n",
    "# Coords: training loop, more data (~1000), R->TS (ground truth as ['ts']) on NEC\r\n",
    "#   - Compare N, NE, NEC on more data (~1000), more training epochs\r\n",
    "#       - Need to figure out input num fs for train and test when on bigger sets\r\n",
    "# Tues slides\r\n",
    "#   - Work out which figures I need for tomorrow: D_init distr\r\n",
    "#   - Presentation outline\r\n",
    "\r\n",
    "# After meeting:\r\n",
    "#   - MIT coords\r\n",
    "#   - NE -> coords for comparison\r\n",
    "#   - P->TS, (R,P)->TS\r\n",
    "#   - All the data\r\n",
    "#   - Gradients for diff NNs within func?\r\n",
    "#   - Coordinates to interatomic\r\n",
    "#   - RMSD from github\r\n",
    "\r\n",
    "# Long after:\r\n",
    "#   - DGL for improvements: k-hop graph func + khop adj util func"
   ]
  },
  {
   "cell_type": "code",
   "execution_count": 19,
   "metadata": {},
   "outputs": [
    {
     "name": "stdout",
     "output_type": "stream",
     "text": [
      "===== Training epoch 001 complete with loss: 3.1545 ====\n",
      "===== Training epoch 002 complete with loss: 3.1154 ====\n",
      "===== Training epoch 003 complete with loss: 3.1296 ====\n",
      "===== Training epoch 004 complete with loss: 3.1444 ====\n",
      "===== Training epoch 005 complete with loss: 3.0177 ====\n",
      "===== Testing epoch: 005, Loss: 2.9221 ===== \n",
      "\n",
      "===== Training epoch 006 complete with loss: 3.1225 ====\n",
      "===== Training epoch 007 complete with loss: 3.1225 ====\n",
      "===== Training epoch 008 complete with loss: 3.2075 ====\n",
      "===== Training epoch 009 complete with loss: 3.1491 ====\n",
      "===== Training epoch 010 complete with loss: 3.1824 ====\n",
      "===== Testing epoch: 010, Loss: 2.9582 ===== \n",
      "\n"
     ]
    }
   ],
   "source": [
    "epochs = 10\r\n",
    "test_interval = 5\r\n",
    "\r\n",
    "final_res = {'epochs': [], 'train_loss_arr': [], 'train_res_arr': [], \r\n",
    "             'test_loss_arr': [], 'test_res_arr': [], 'best_test': 1e10, 'best_epoch': 0}\r\n",
    "train_loss_arr = []\r\n",
    "train_res_arr = []\r\n",
    "test_loss_arr = []\r\n",
    "test_res_arr = []\r\n",
    "\r\n",
    "# r_ae.reset_parameters()\r\n",
    "\r\n",
    "for epoch in range(1, epochs + 1):\r\n",
    "    \r\n",
    "    train_loss, train_res = train_nec_ae(nec_ae, nec_opt, train_loaders['r'])\r\n",
    "    final_res['train_loss_arr'].append(train_loss)\r\n",
    "    final_res['train_res_arr'].append(train_res)\r\n",
    "    print(f\"===== Training epoch {epoch:03d} complete with loss: {train_loss:.4f} ====\")\r\n",
    "    \r\n",
    "    if epoch % test_interval == 0:\r\n",
    "    \r\n",
    "        test_loss, test_res = test_nec_ae(nec_ae, test_loaders['r'])\r\n",
    "        final_res['test_loss_arr'].append(test_loss)\r\n",
    "        final_res['test_res_arr'].append(test_res)\r\n",
    "        print(f'===== Testing epoch: {epoch:03d}, Loss: {test_loss:.4f} ===== \\n')\r\n",
    "        \r\n",
    "        if test_loss < final_res['best_test']:\r\n",
    "            final_res['best_test'] = test_loss\r\n",
    "            final_res['best_epoch'] = epoch"
   ]
  }
 ],
 "metadata": {
  "kernelspec": {
   "display_name": "Python 3.6.13 64-bit (conda)",
   "name": "python3613jvsc74a57bd0f4671ad35fdc0609fa675edcd17de5b3092cb55d03f1d9670a78611a41fb18f3"
  },
  "language_info": {
   "name": "python",
   "version": ""
  },
  "orig_nbformat": 2
 },
 "nbformat": 4,
 "nbformat_minor": 2
}