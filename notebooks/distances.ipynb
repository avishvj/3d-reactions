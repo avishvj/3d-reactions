{
 "cells": [
  {
   "cell_type": "markdown",
   "metadata": {},
   "source": [
    "Using this to plot distributions of reaction centres of TS structures from initial model (D_init), final model (D,after NLS optimisation), ground truth, and linear approximation."
   ]
  },
  {
   "cell_type": "code",
   "execution_count": 1,
   "metadata": {},
   "outputs": [],
   "source": [
    "from rdkit import Chem, Geometry\n",
    "from rdkit.Chem import AllChem\n",
    "\n",
    "import numpy as np\n",
    "from scipy import stats\n",
    "from scipy.optimize import least_squares\n",
    "import pandas as pd\n",
    "\n",
    "import matplotlib.pyplot as plt\n",
    "import seaborn as sns\n",
    "%matplotlib inline\n",
    "\n",
    "# sys.path.insert(0, \"Users/rmhavij/ts_gen/create_figs/scripts/\")\n",
    "# from gaussian import Gaussian"
   ]
  },
  {
   "cell_type": "code",
   "execution_count": 3,
   "metadata": {},
   "outputs": [],
   "source": [
    "# base_folder = r'../data/raw/' # normal\n",
    "base_folder = 'Users/rmhavij/3d-reactions/data/raw/' # azure\n",
    "\n",
    "test_ts_file = base_folder + 'test_ts.sdf'\n",
    "reactant_file = base_folder + 'test_reactants.sdf'\n",
    "product_file = base_folder + 'test_products.sdf'\n",
    "model_ts_no_opt_file = base_folder + 'model_ts.sdf'\n",
    "\n",
    "test_r = Chem.SDMolSupplier(reactant_file, removeHs=False, sanitize=False)\n",
    "test_r = [x for x in test_r]\n",
    "\n",
    "test_ts = Chem.SDMolSupplier(test_ts_file, removeHs=False, sanitize=False)\n",
    "test_ts = [ts for ts in test_ts]\n",
    "\n",
    "test_p = Chem.SDMolSupplier(product_file, removeHs=False, sanitize=False)\n",
    "test_p = [x for x  in test_p]\n",
    "\n",
    "# will need to add my non-optimised versions later\n",
    "# model_ts_no_opt = Chem.SDMolSupplier(model_ts_no_opt_file, removeHs=False, sanitize=False)\n",
    "# model_ts_no_opt = [x for x  in model_ts_no_opt]"
   ]
  },
  {
   "cell_type": "code",
   "execution_count": 7,
   "metadata": {},
   "outputs": [],
   "source": [
    "# temp cos it's easier for now\n",
    "D_init = np.load('Users/rmhavij/ts_gen/create_figs/model_data/D_init.npy')\n",
    "av_mit_d_init = np.load('Users/rmhavij/ts_gen/azure-experiments/log/21May28_0634AM/D_init.npy')"
   ]
  },
  {
   "cell_type": "code",
   "execution_count": null,
   "metadata": {},
   "outputs": [],
   "source": [
    "# can optimise the D_init here OR could save D_init and optimised version in function"
   ]
  },
  {
   "cell_type": "code",
   "execution_count": null,
   "metadata": {},
   "outputs": [],
   "source": [
    "# all for reaction core\n",
    "\n",
    "ground_truth = []  \n",
    "linear_approx = []\n",
    "mit_d_init = []\n",
    "mit_d_final = []\n",
    "my_d_init = [] # feed my created D_init into this (e.g. from modifying their model, my own model, etc.)\n",
    "\n",
    "for idx in range(len(test_ts)):\n",
    "    \n",
    "    # get N and create mask\n",
    "    N = test_ts[idx].GetNumAtoms()\n",
    "    core_mask = (Chem.GetAdjacencyMatrix(test_p[idx]) + Chem.GetAdjacencyMatrix(test_r[idx])) == 1\n",
    "    \n",
    "    # need to modify model_ts_no_opt \n",
    "    ground_truth.append(np.ravel(Chem.Get3DDistanceMatrix(test_ts[idx]) * core_mask))\n",
    "    linear_approx.append(np.ravel( (Chem.Get3DDistanceMatrix(test_r[idx]) + Chem.Get3DDistanceMatrix(test_p[idx])) / 2 * core_mask))\n",
    "    mit_d_init.append(np.ravel(D_init[idx][0:N,0:N] * core_mask))\n",
    "    mit_d_final.append(np.ravel(Chem.Get3DDistanceMatrix(model_ts_no_opt[idx]) * core_mask))\n",
    "    my_d_init.append(np.ravel(av_mit_d_init[idx][0:N,0:N] * core_mask)) \n",
    "\n",
    "# concat + ravel\n",
    "ground_truth_all = np.concatenate(ground_truth).ravel()\n",
    "linear_approx_all = np.concatenate(linear_approx).ravel()\n",
    "mit_d_init_all = np.concatenate(mit_d_init).ravel()\n",
    "mit_d_final_all = np.concatenate(mit_d_final).ravel() \n",
    "my_d_init_all = np.concatenate(my_d_init).ravel()\n",
    "\n",
    "# no nulls TODO: put this in a loop to align if any null\n",
    "ground_truth_all = ground_truth_all[ground_truth_all != 0]\n",
    "linear_approx_all = linear_approx_all[linear_approx_all != 0]\n",
    "mit_d_init_all = mit_d_init_all[mit_d_init_all != 0]\n",
    "mit_d_final_all = mit_d_final_all[mit_d_final_all != 0] \n",
    "my_d_init_all = my_d_init_all[my_d_init_all != 0]"
   ]
  }
 ],
 "metadata": {
  "kernelspec": {
   "display_name": "Python (tsir-rdkit-env-plotting)",
   "name": "tsir-rdkit-env-plotting"
  },
  "language_info": {
   "codemirror_mode": {
    "name": "ipython",
    "version": 3
   },
   "file_extension": ".py",
   "mimetype": "text/x-python",
   "name": "python",
   "nbconvert_exporter": "python",
   "pygments_lexer": "ipython3",
   "version": "3.6.12"
  },
  "orig_nbformat": 2
 },
 "nbformat": 4,
 "nbformat_minor": 2
}