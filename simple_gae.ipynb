{
 "cells": [
  {
   "cell_type": "code",
   "execution_count": 6,
   "metadata": {},
   "outputs": [],
   "source": [
    "# atom features, bond type, graph connectivity, (x,y,z) coordinates  \n",
    "#   - when we encode the graph, we're doing it through atom features, bond types, and connectivitity (i.e. which atoms are connected to each other and how?)\n",
    "#   - the coordinate-based representation is particularly useful \n",
    "#   - for reaction centre, find adjacency matrix differences then map to 3D matrix\n",
    "\n",
    "# convert MLP to GNN by swapping torch.nn.linear with PyG's GNN operators e.g. GCN layer"
   ]
  },
  {
   "cell_type": "code",
   "execution_count": null,
   "metadata": {},
   "outputs": [],
   "source": []
  },
  {
   "cell_type": "code",
   "execution_count": 7,
   "metadata": {},
   "outputs": [],
   "source": [
    "import torch\n",
    "import torch.nn as nn\n",
    "from torch_geometric.nn import GCNConv, GAE\n",
    "from torch_geometric.utils import train_test_split_edges\n",
    "\n",
    "import sys\n",
    "sys.path.insert(0, \"Users/rmhavij/3d-reactions/\") # azure again\n",
    "from ts_vae.data_processors.grambow_processor import ReactionDataset"
   ]
  },
  {
   "cell_type": "code",
   "execution_count": 16,
   "metadata": {},
   "outputs": [],
   "source": [
    "# normal: base_path = r'data/'\n",
    "# azure\n",
    "base_path = r'Users/rmhavij/3d-reactions/data/'\n",
    "r_dataset = ReactionDataset(base_path, geo_file = 'train_r') \n",
    "\n",
    "data = r_dataset.data\n",
    "data.train_mask = data.val_mask = data.test_mask = data.y = None\n",
    "data = train_test_split_edges(data = data, val_ratio = 0, test_ratio = 0.2)"
   ]
  },
  {
   "cell_type": "code",
   "execution_count": 17,
   "metadata": {},
   "outputs": [],
   "source": [
    "class LinearEncoder(nn.Module):\n",
    "    def __init__(self, in_channels, out_channels):\n",
    "        super(LinearEncoder, self).__init__()\n",
    "        # use single GC to get embeddings for nodes here\n",
    "        self.conv = GCNConv(in_channels, out_channels)\n",
    "    \n",
    "    def forward(self, x, edge_index):\n",
    "        # no relu for linearity\n",
    "        return self.conv(x, edge_index)\n",
    "    \n"
   ]
  },
  {
   "cell_type": "code",
   "execution_count": 18,
   "metadata": {},
   "outputs": [],
   "source": [
    "num_node_fs = r_dataset.data.num_node_features # = 11\n",
    "out_channels = 2\n",
    "\n",
    "# build model and optimiser\n",
    "device = torch.device('cuda' if torch.cuda.is_available() else 'cpu')\n",
    "model = GAE(LinearEncoder(num_node_fs, out_channels))\n",
    "model = model.to(device)\n",
    "x = data.x.to(device)\n",
    "train_pos_edge_index = data.train_pos_edge_index.to(device)\n",
    "opt = torch.optim.Adam(model.parameters(), lr=0.01)\n"
   ]
  },
  {
   "cell_type": "code",
   "execution_count": 19,
   "metadata": {},
   "outputs": [],
   "source": [
    "def train():\n",
    "    model.train()\n",
    "    opt.zero_grad()\n",
    "    z = model.encode(x, train_pos_edge_index)\n",
    "    loss = model.recon_loss(z, train_pos_edge_index)\n",
    "    loss.backward()\n",
    "    opt.step()\n",
    "    return float(loss)\n",
    "\n",
    "def test(pos_edge_index, neg_edge_index):\n",
    "    model.eval()\n",
    "    with torch.no_grad():\n",
    "        z = model.encode(x, train_pos_edge_index)\n",
    "    return model.test(z, pos_edge_index, neg_edge_index)"
   ]
  },
  {
   "cell_type": "code",
   "execution_count": 21,
   "metadata": {},
   "outputs": [
    {
     "name": "stdout",
     "output_type": "stream",
     "text": [
      "Epoch: 001, AUC: 0.7769, AP: 0.6816\n",
      "Epoch: 002, AUC: 0.7787, AP: 0.6858\n",
      "Epoch: 003, AUC: 0.7767, AP: 0.6864\n",
      "Epoch: 004, AUC: 0.7795, AP: 0.6884\n",
      "Epoch: 005, AUC: 0.7790, AP: 0.6882\n",
      "Epoch: 006, AUC: 0.7796, AP: 0.6898\n",
      "Epoch: 007, AUC: 0.7794, AP: 0.6895\n",
      "Epoch: 008, AUC: 0.7769, AP: 0.6841\n",
      "Epoch: 009, AUC: 0.7732, AP: 0.6795\n",
      "Epoch: 010, AUC: 0.7732, AP: 0.6791\n"
     ]
    }
   ],
   "source": [
    "epochs = 10\n",
    "for epoch in range(1, epochs + 1):\n",
    "    loss = train()\n",
    "    auc, ap = test(data.test_pos_edge_index, data.test_neg_edge_index)\n",
    "    print('Epoch: {:03d}, AUC: {:.4f}, AP: {:.4f}'.format(epoch, auc, ap))"
   ]
  },
  {
   "cell_type": "code",
   "execution_count": null,
   "metadata": {},
   "outputs": [],
   "source": [
    "# lucky's work\n",
    "# PairFeatures: a manual MP I think. it has to be otherwise what he's doing isn't a GNN at all.\n",
    "\n",
    "# set edges\n",
    "#   iterate:\n",
    "#       compute features (i.e. MP) -> MLP(features) -> update edges\n",
    "#       compute features (i.e. MP) -> MLP(MLP(edges)) -> update vertices"
   ]
  }
 ],
 "metadata": {
  "kernelspec": {
   "display_name": "Python (3d-rdkit)",
   "language": "python",
   "name": "3d-rdkit"
  },
  "language_info": {
   "codemirror_mode": {
    "name": "ipython",
    "version": 3
   },
   "file_extension": ".py",
   "mimetype": "text/x-python",
   "name": "python",
   "nbconvert_exporter": "python",
   "pygments_lexer": "ipython3",
   "version": "3.6.13"
  },
  "orig_nbformat": 2
 },
 "nbformat": 4,
 "nbformat_minor": 2
}