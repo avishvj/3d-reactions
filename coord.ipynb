{
 "cells": [
  {
   "cell_type": "code",
   "execution_count": 1,
   "metadata": {},
   "outputs": [],
   "source": [
    "# data processing\r\n",
    "from ts_vae.data_processors.grambow_processor import ReactionDataset\r\n",
    "\r\n",
    "# my GAEs\r\n",
    "from ts_vae.gaes.n_gae import Node_AE, train_node_ae, test_node_ae\r\n",
    "from ts_vae.gaes.ne_gae import NodeEdge_AE, train_ne_ae, test_ne_ae\r\n",
    "from ts_vae.gaes.nec_gae import NodeEdgeCoord_AE, train_nec_ae, test_nec_ae, main\r\n",
    "\r\n",
    "# torch\r\n",
    "import torch\r\n",
    "import torch.nn as nn\r\n",
    "import torch.nn.functional as F\r\n",
    "from torch.utils.data import ConcatDataset\r\n",
    "\r\n",
    "# torch geometric\r\n",
    "from torch_geometric.data import DataLoader\r\n",
    "from torch_geometric.utils import to_dense_adj\r\n",
    "from torch_geometric.utils.sparse import dense_to_sparse\r\n",
    "\r\n",
    "# other\r\n",
    "import numpy as np\r\n",
    "from sklearn.metrics import roc_auc_score, average_precision_score"
   ]
  },
  {
   "cell_type": "code",
   "execution_count": 2,
   "metadata": {},
   "outputs": [],
   "source": [
    "# remove processed files\r\n",
    "import os\r\n",
    "import glob\r\n",
    "\r\n",
    "files = glob.glob(r'data/processed/*')\r\n",
    "for f in files:\r\n",
    "    os.remove(f)"
   ]
  },
  {
   "cell_type": "code",
   "execution_count": 23,
   "metadata": {},
   "outputs": [],
   "source": [
    "### New Data Processing\r\n",
    "\r\n",
    "rxns = ReactionDataset(r'data')\r\n",
    "\r\n",
    "num_rxns = len(rxns)\r\n",
    "train_ratio = 0.8\r\n",
    "num_train = int(np.floor(train_ratio * num_rxns))\r\n",
    "\r\n",
    "batch_size = 10\r\n",
    "to_follow = ['edge_index_r', 'edge_index_ts', 'edge_index_p', 'edge_attr_r', 'edge_attr_ts', 'edge_attr_p'\r\n",
    "             'pos_r', 'pos_ts', 'pos_p', 'x_r', 'x_ts', 'x_p']\r\n",
    "\r\n",
    "\r\n",
    "train_loader = DataLoader(rxns[: num_train], batch_size = batch_size, follow_batch = to_follow)\r\n",
    "test_loader = DataLoader(rxns[num_train: ], batch_size = batch_size, follow_batch = to_follow)"
   ]
  },
  {
   "cell_type": "code",
   "execution_count": 28,
   "metadata": {},
   "outputs": [],
   "source": [
    "### NEW! NodeEdgeCoord AE\r\n",
    "max_num_atoms = max([rxn.num_atoms.item() for rxn in train_loader.dataset])\r\n",
    "assert all(rxn.num_atom_fs.item() == train_loader.dataset[0].num_atom_fs.item() for rxn in train_loader.dataset)\r\n",
    "num_atom_fs = train_loader.dataset[0].num_atom_fs.item()\r\n",
    "assert all(rxn.num_bond_fs.item() == train_loader.dataset[0].num_bond_fs.item() for rxn in train_loader.dataset)\r\n",
    "num_bond_fs = train_loader.dataset[0].num_bond_fs.item()\r\n",
    "h_nf = 5\r\n",
    "emb_nf = 2\r\n",
    "\r\n",
    "# model and opt\r\n",
    "nec_ae = NodeEdgeCoord_AE(in_node_nf = num_atom_fs, in_edge_nf = num_bond_fs, h_nf = h_nf, out_nf = h_nf, emb_nf = emb_nf)\r\n",
    "nec_opt = torch.optim.Adam(nec_ae.parameters(), lr = 1e-3)\r\n",
    "\r\n",
    "# train and test\r\n",
    "#train_loss, train_res = train_nec_ae(nec_ae, nec_opt, train_loaders['r'])\r\n",
    "#test_loss, test_res = test_nec_ae(nec_ae, test_loaders['r'])"
   ]
  },
  {
   "cell_type": "code",
   "execution_count": 29,
   "metadata": {},
   "outputs": [],
   "source": [
    "# TODO: noticed an error earlier with adj_loss calc, double check with multiple runs\r\n",
    "\r\n",
    "def train(nec_ae, opt, loader):\r\n",
    "    \r\n",
    "\r\n",
    "    res = {'total_loss': 0, 'batch_counter': 0, 'coord_loss_arr': [], 'adj_loss_arr': [],\r\n",
    "           'node_loss_arr': []}\r\n",
    "\r\n",
    "    # adj_save = {'adj_gt_arr': [], 'adj_pred_arr': []}\r\n",
    "    # coord_save = {'gt': [], 'pred': []}\r\n",
    "\r\n",
    "    for i, rxn_batch in enumerate(loader):\r\n",
    "\r\n",
    "        nec_ae.train()\r\n",
    "        opt.zero_grad()\r\n",
    "\r\n",
    "        # init required variables for model\r\n",
    "        r_node_feats, r_edge_index, r_edge_attr, r_coords = rxn_batch.x_r, rxn_batch.edge_index_r, rxn_batch.edge_attr_r, rxn_batch.pos_r\r\n",
    "        batch_size = len(rxn_batch.idx)\r\n",
    "        max_num_atoms = sum(rxn_batch.num_atoms).item() # add this in because sometimes we get hanging atoms if bonds broken\r\n",
    "\r\n",
    "        # run model on reactant\r\n",
    "        node_emb, edge_emb, recon_node_fs, recon_edge_fs, adj_pred, coord_out = nec_ae(r_node_feats, r_edge_index, r_edge_attr, r_coords)\r\n",
    "\r\n",
    "        # ground truth values\r\n",
    "        ts_node_feats, ts_edge_index, ts_edge_attr, ts_coords = rxn_batch.x_ts, rxn_batch.edge_index_ts, rxn_batch.edge_attr_ts, rxn_batch.pos_ts\r\n",
    "        adj_gt = to_dense_adj(ts_edge_index, max_num_nodes = max_num_atoms).squeeze(dim = 0)\r\n",
    "        assert adj_gt.shape == adj_pred.shape, f\"Your adjacency matrices don't have the same shape! \\n \\\r\n",
    "               GT shape: {adj_gt.shape}, Pred shape: {adj_pred.shape}, Batch size: {batch_size} \\n \\\r\n",
    "               TS edge idx: {ts_edge_index}, TS node_fs shape: {ts_node_feats.shape}, Batch n_atoms: {rxn_batch.num_atoms}\"\r\n",
    "\r\n",
    "        # losses and opt step\r\n",
    "        adj_loss = F.binary_cross_entropy(adj_pred, adj_gt) # scale: e-1, 10 epochs: 0.5 -> 0.4\r\n",
    "        coord_loss = torch.sqrt(F.mse_loss(coord_out, ts_coords)) # scale: e-1, 10 epochs: 1.1 -> 0.4\r\n",
    "        node_loss = F.mse_loss(recon_node_fs, ts_node_feats) # scale: e-1 --> e-2, 10 epochs: 0.7 -> 0.05\r\n",
    "        total_loss = adj_loss + coord_loss + node_loss\r\n",
    "\r\n",
    "        total_loss.backward()\r\n",
    "        opt.step()\r\n",
    "\r\n",
    "        # record batch results\r\n",
    "        res['total_loss'] += total_loss.item()\r\n",
    "        res['batch_counter'] += 1\r\n",
    "        \r\n",
    "        res['coord_loss_arr'].append(coord_loss.item())\r\n",
    "        res['adj_loss_arr'].append(adj_loss.item())\r\n",
    "        res['node_loss_arr'].append(node_loss.item())\r\n",
    "    \r\n",
    "    return res['total_loss'] / res['batch_counter'], res\r\n",
    "\r\n",
    "loss, res = train(nec_ae, nec_opt, train_loader)"
   ]
  },
  {
   "cell_type": "code",
   "execution_count": 30,
   "metadata": {},
   "outputs": [
    {
     "name": "stdout",
     "output_type": "stream",
     "text": [
      "===== Training epoch 001 complete with loss: 4.3736 ====\n",
      "===== Training epoch 002 complete with loss: 4.1410 ====\n",
      "===== Training epoch 003 complete with loss: 3.9215 ====\n",
      "===== Training epoch 004 complete with loss: 3.7005 ====\n",
      "===== Training epoch 005 complete with loss: 3.4841 ====\n",
      "===== Training epoch 010 complete with loss: 2.5552 ====\n"
     ]
    }
   ],
   "source": [
    "### NodeEdgeCoord Model \r\n",
    "\r\n",
    "epochs = 10\r\n",
    "# test_interval = 1000\r\n",
    "\r\n",
    "# nec_ae.reset_parameters()\r\n",
    "torch.set_printoptions(precision = 3, sci_mode = False)\r\n",
    "\r\n",
    "final_res = {'train_loss_arr': [], 'train_res_arr': [], 'test_loss_arr': [], 'test_res_arr': [], \r\n",
    "             'best_test': 1e10, 'best_epoch': 0}\r\n",
    "\r\n",
    "for epoch in range(1, epochs + 1):\r\n",
    "\r\n",
    "    train_loss, train_res = train(nec_ae, nec_opt, train_loader)\r\n",
    "    final_res['train_loss_arr'].append(train_loss)\r\n",
    "    final_res['train_res_arr'].append(train_res)\r\n",
    "    \r\n",
    "    if epoch < 5:\r\n",
    "        print(f\"===== Training epoch {epoch:03d} complete with loss: {train_loss:.4f} ====\")\r\n",
    "    if epoch % 5 == 0:\r\n",
    "        print(f\"===== Training epoch {epoch:03d} complete with loss: {train_loss:.4f} ====\")"
   ]
  }
 ],
 "metadata": {
  "kernelspec": {
   "display_name": "Python 3.6.13 64-bit (conda)",
   "name": "3d-rdkit"
  },
  "language_info": {
   "codemirror_mode": {
    "name": "ipython",
    "version": 3
   },
   "file_extension": ".py",
   "mimetype": "text/x-python",
   "name": "python",
   "nbconvert_exporter": "python",
   "pygments_lexer": "ipython3",
   "version": "3.6.13"
  },
  "orig_nbformat": 2
 },
 "nbformat": 4,
 "nbformat_minor": 2
}