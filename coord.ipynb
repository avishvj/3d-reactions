{
 "cells": [
  {
   "cell_type": "code",
   "execution_count": 1,
   "metadata": {},
   "outputs": [],
   "source": [
    "# data processing\r\n",
    "from ts_vae.data_processors.grambow_processor import ReactionDataset\r\n",
    "\r\n",
    "# my GAEs\r\n",
    "from ts_vae.gaes.n_gae import Node_AE, train_node_ae, test_node_ae\r\n",
    "from ts_vae.gaes.ne_gae import NodeEdge_AE, train_ne_ae, test_ne_ae\r\n",
    "from ts_vae.gaes.nec_gae import NodeEdgeCoord_AE, train_nec_ae, test_nec_ae, main\r\n",
    "\r\n",
    "# torch\r\n",
    "import torch\r\n",
    "import torch.nn as nn\r\n",
    "import torch.nn.functional as F\r\n",
    "from torch.utils.data import ConcatDataset\r\n",
    "\r\n",
    "# torch geometric\r\n",
    "from torch_geometric.data import DataLoader\r\n",
    "from torch_geometric.utils import to_dense_adj\r\n",
    "\r\n",
    "# other\r\n",
    "import numpy as np\r\n",
    "from sklearn.metrics import roc_auc_score, average_precision_score"
   ]
  },
  {
   "cell_type": "code",
   "execution_count": 2,
   "metadata": {},
   "outputs": [],
   "source": [
    "# remove processed files\r\n",
    "import os\r\n",
    "import glob\r\n",
    "\r\n",
    "files = glob.glob(r'data/processed/*')\r\n",
    "for f in files:\r\n",
    "    os.remove(f)"
   ]
  },
  {
   "cell_type": "code",
   "execution_count": 4,
   "metadata": {},
   "outputs": [],
   "source": [
    "### New Data Processing\r\n",
    "\r\n",
    "rxns = ReactionDataset(r'data')\r\n",
    "\r\n",
    "num_rxns = len(rxns)\r\n",
    "train_ratio = 0.8\r\n",
    "num_train = int(np.floor(train_ratio * num_rxns))\r\n",
    "\r\n",
    "batch_size = 2\r\n",
    "to_follow = ['edge_index_r', 'edge_index_ts', 'edge_index_p', 'edge_attr_r', 'edge_attr_ts', 'edge_attr_p'\r\n",
    "             'pos_r', 'pos_ts', 'pos_p', 'x_r', 'x_ts', 'x_p']\r\n",
    "\r\n",
    "\r\n",
    "train_loader = DataLoader(rxns[: num_train], batch_size = 10, follow_batch = to_follow)\r\n",
    "test_loader = DataLoader(rxns[num_train: ], batch_size = 10, follow_batch = to_follow)"
   ]
  },
  {
   "cell_type": "code",
   "execution_count": 5,
   "metadata": {},
   "outputs": [],
   "source": [
    "### NEW! NodeEdgeCoord AE\r\n",
    "max_num_atoms = max([rxn.num_atoms.item() for rxn in train_loader.dataset])\r\n",
    "assert all(rxn.num_atom_fs.item() == train_loader.dataset[0].num_atom_fs.item() for rxn in train_loader.dataset)\r\n",
    "num_atom_fs = train_loader.dataset[0].num_atom_fs.item()\r\n",
    "assert all(rxn.num_bond_fs.item() == train_loader.dataset[0].num_bond_fs.item() for rxn in train_loader.dataset)\r\n",
    "num_bond_fs = train_loader.dataset[0].num_bond_fs.item()\r\n",
    "h_nf = 5\r\n",
    "emb_nf = 2\r\n",
    "\r\n",
    "# model and opt\r\n",
    "nec_ae = NodeEdgeCoord_AE(in_node_nf = num_atom_fs, in_edge_nf = num_bond_fs, h_nf = h_nf, out_nf = h_nf, emb_nf = emb_nf)\r\n",
    "nec_opt = torch.optim.Adam(nec_ae.parameters(), lr = 1e-3)\r\n",
    "\r\n",
    "# train and test\r\n",
    "#train_loss, train_res = train_nec_ae(nec_ae, nec_opt, train_loaders['r'])\r\n",
    "#test_loss, test_res = test_nec_ae(nec_ae, test_loaders['r'])"
   ]
  },
  {
   "cell_type": "code",
   "execution_count": 6,
   "metadata": {},
   "outputs": [],
   "source": [
    "def train(nec_ae, opt, loader):\r\n",
    "\r\n",
    "    res = {'total_loss': 0, 'num_rxns': 0, 'coord_loss_arr': []}\r\n",
    "\r\n",
    "    for i, rxn_batch in enumerate(loader):\r\n",
    "\r\n",
    "        nec_ae.train()\r\n",
    "        opt.zero_grad()\r\n",
    "\r\n",
    "        # init required variables\r\n",
    "        r_node_feats, r_edge_index, r_edge_attr, r_coords = rxn_batch.x_r, rxn_batch.edge_index_r, rxn_batch.edge_attr_r, rxn_batch.pos_r\r\n",
    "        ts_node_feats, ts_edge_index, ts_edge_attr, ts_coords = rxn_batch.x_ts, rxn_batch.edge_index_ts, rxn_batch.edge_attr_ts, rxn_batch.pos_ts\r\n",
    "        batch_size = len(rxn_batch.idx)\r\n",
    "\r\n",
    "        # run model on reactant\r\n",
    "        node_emb, edge_emb, recon_node_fs, recon_edge_fs, adj_pred, coord_out = nec_ae(r_node_feats, r_edge_index, r_edge_attr, r_coords)\r\n",
    "\r\n",
    "        # ground truth values\r\n",
    "        adj_gt = to_dense_adj(ts_edge_index).squeeze(dim = 0)\r\n",
    "        assert adj_gt.shape == adj_pred.shape, f\"Your adjacency matrices don't have the same shape! \\\r\n",
    "                GT shape: {adj_gt.shape}, Pred shape: {adj_pred.shape}, Batch size: {batch_size}\"\r\n",
    "        \r\n",
    "        # losses and opt step\r\n",
    "        coord_loss = F.mse_loss(coord_out, ts_coords)\r\n",
    "        total_loss = coord_loss\r\n",
    "        total_loss.backward()\r\n",
    "        opt.step()\r\n",
    "\r\n",
    "        # record batch results\r\n",
    "        res['total_loss'] += total_loss.item()\r\n",
    "        res['num_rxns'] += batch_size\r\n",
    "        res['coord_loss_arr'].append(coord_loss.item())\r\n",
    "    \r\n",
    "    return res['total_loss'] / res['num_rxns'], res\r\n",
    "\r\n",
    "loss, res = train(nec_ae, nec_opt, train_loader)"
   ]
  },
  {
   "cell_type": "code",
   "execution_count": 7,
   "metadata": {},
   "outputs": [
    {
     "name": "stdout",
     "output_type": "stream",
     "text": [
      "===== Training epoch 010 complete with loss: 0.0201 ====\n",
      "===== Training epoch 020 complete with loss: 0.0200 ====\n",
      "===== Training epoch 030 complete with loss: 0.0200 ====\n",
      "===== Training epoch 040 complete with loss: 0.0200 ====\n",
      "===== Training epoch 050 complete with loss: 0.0200 ====\n"
     ]
    }
   ],
   "source": [
    "### NodeEdgeCoord Model \r\n",
    "\r\n",
    "epochs = 50\r\n",
    "test_interval = 1000\r\n",
    "\r\n",
    "# r_ae.reset_parameters()\r\n",
    "torch.set_printoptions(precision = 2)\r\n",
    "\r\n",
    "final_res = {'train_loss_arr': [], 'train_res_arr': [], 'test_loss_arr': [], 'test_res_arr': [], \r\n",
    "             'best_test': 1e10, 'best_epoch': 0}\r\n",
    "\r\n",
    "for epoch in range(1, epochs + 1):\r\n",
    "\r\n",
    "    train_loss, train_res = train(nec_ae, nec_opt, train_loader)\r\n",
    "    final_res['train_loss_arr'].append(train_loss)\r\n",
    "    final_res['train_res_arr'].append(train_res)\r\n",
    "    \r\n",
    "    if epoch % 10 == 0:\r\n",
    "        print(f\"===== Training epoch {epoch:03d} complete with loss: {train_loss:.4f} ====\")\r\n",
    "\r\n",
    "    if epoch % test_interval == 0:\r\n",
    "    \r\n",
    "        test_loss, test_res = test(nec_ae, test_loader)\r\n",
    "        final_res['test_loss_arr'].append(test_loss)\r\n",
    "        final_res['test_res_arr'].append(test_res)\r\n",
    "        print(f'===== Testing epoch: {epoch:03d}, Loss: {test_loss:.4f} ===== \\n')\r\n",
    "        \r\n",
    "        if test_loss < final_res['best_test']:\r\n",
    "            final_res['best_test'] = test_loss\r\n",
    "            final_res['best_epoch'] = epoch"
   ]
  }
 ],
 "metadata": {
  "kernelspec": {
   "display_name": "Python 3.6.13 64-bit (conda)",
   "name": "3d-rdkit"
  },
  "language_info": {
   "codemirror_mode": {
    "name": "ipython",
    "version": 3
   },
   "file_extension": ".py",
   "mimetype": "text/x-python",
   "name": "python",
   "nbconvert_exporter": "python",
   "pygments_lexer": "ipython3",
   "version": "3.6.13"
  },
  "orig_nbformat": 2
 },
 "nbformat": 4,
 "nbformat_minor": 2
}