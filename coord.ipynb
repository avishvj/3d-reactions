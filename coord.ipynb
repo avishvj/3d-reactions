{
 "cells": [
  {
   "cell_type": "code",
   "execution_count": 1,
   "metadata": {},
   "outputs": [],
   "source": [
    "# data processing\r\n",
    "from ts_vae.data_processors.grambow_processor import ReactionDataset\r\n",
    "\r\n",
    "# my GAEs\r\n",
    "from ts_vae.gaes.n_gae import Node_AE, train_node_ae, test_node_ae\r\n",
    "from ts_vae.gaes.ne_gae import NodeEdge_AE, train_ne_ae, test_ne_ae\r\n",
    "from ts_vae.gaes.nec_gae import NodeEdgeCoord_AE, train_nec_ae, test_nec_ae, main\r\n",
    "\r\n",
    "# torch\r\n",
    "import torch\r\n",
    "import torch.nn as nn\r\n",
    "import torch.nn.functional as F\r\n",
    "from torch.utils.data import ConcatDataset\r\n",
    "\r\n",
    "# torch geometric\r\n",
    "from torch_geometric.data import DataLoader\r\n",
    "from torch_geometric.utils import to_dense_adj\r\n",
    "\r\n",
    "# other\r\n",
    "import numpy as np\r\n",
    "from sklearn.metrics import roc_auc_score, average_precision_score"
   ]
  },
  {
   "cell_type": "code",
   "execution_count": 2,
   "metadata": {},
   "outputs": [],
   "source": [
    "# remove processed files\r\n",
    "import os\r\n",
    "import glob\r\n",
    "\r\n",
    "files = glob.glob(r'data/processed/*')\r\n",
    "for f in files:\r\n",
    "    os.remove(f)"
   ]
  },
  {
   "cell_type": "code",
   "execution_count": 2,
   "metadata": {},
   "outputs": [],
   "source": [
    "### New Data Processing\r\n",
    "\r\n",
    "rxns = ReactionDataset(r'data')\r\n",
    "\r\n",
    "num_rxns = len(rxns)\r\n",
    "train_ratio = 0.8\r\n",
    "num_train = int(np.floor(train_ratio * num_rxns))\r\n",
    "\r\n",
    "batch_size = 1\r\n",
    "to_follow = ['edge_index_r', 'edge_index_ts', 'edge_index_p', 'edge_attr_r', 'edge_attr_ts', 'edge_attr_p'\r\n",
    "             'pos_r', 'pos_ts', 'pos_p', 'x_r', 'x_ts', 'x_p']\r\n",
    "\r\n",
    "\r\n",
    "train_loader = DataLoader(rxns[: num_train], batch_size = batch_size, follow_batch = to_follow)\r\n",
    "test_loader = DataLoader(rxns[num_train: ], batch_size = batch_size, follow_batch = to_follow)"
   ]
  },
  {
   "cell_type": "code",
   "execution_count": 9,
   "metadata": {},
   "outputs": [],
   "source": [
    "### NEW! NodeEdgeCoord AE\r\n",
    "max_num_atoms = max([rxn.num_atoms.item() for rxn in train_loader.dataset])\r\n",
    "assert all(rxn.num_atom_fs.item() == train_loader.dataset[0].num_atom_fs.item() for rxn in train_loader.dataset)\r\n",
    "num_atom_fs = train_loader.dataset[0].num_atom_fs.item()\r\n",
    "assert all(rxn.num_bond_fs.item() == train_loader.dataset[0].num_bond_fs.item() for rxn in train_loader.dataset)\r\n",
    "num_bond_fs = train_loader.dataset[0].num_bond_fs.item()\r\n",
    "h_nf = 5\r\n",
    "emb_nf = 2\r\n",
    "\r\n",
    "# model and opt\r\n",
    "nec_ae = NodeEdgeCoord_AE(in_node_nf = num_atom_fs, in_edge_nf = num_bond_fs, h_nf = h_nf, out_nf = h_nf, emb_nf = emb_nf)\r\n",
    "nec_opt = torch.optim.Adam(nec_ae.parameters(), lr = 1e-3)\r\n",
    "\r\n",
    "# train and test\r\n",
    "#train_loss, train_res = train_nec_ae(nec_ae, nec_opt, train_loaders['r'])\r\n",
    "#test_loss, test_res = test_nec_ae(nec_ae, test_loaders['r'])"
   ]
  },
  {
   "cell_type": "code",
   "execution_count": 10,
   "metadata": {},
   "outputs": [],
   "source": [
    "COORD_LOSS_SCALER = 10 # coord_loss around 0.015, adj_loss around 0.7, 0.7/0.015 ~= 47\r\n",
    "from torch_geometric.utils.sparse import dense_to_sparse\r\n",
    "\r\n",
    "def train(nec_ae, opt, loader):\r\n",
    "\r\n",
    "    res = {'total_loss': 0, 'batch_counter': 0, 'coord_loss_arr': [], 'adj_loss_arr': [],\r\n",
    "           'node_loss_arr': []}\r\n",
    "\r\n",
    "    adj_save = {'adj_gt_arr': [], 'adj_pred_arr': []}\r\n",
    "\r\n",
    "    for i, rxn_batch in enumerate(loader):\r\n",
    "\r\n",
    "        nec_ae.train()\r\n",
    "        opt.zero_grad()\r\n",
    "\r\n",
    "        # init required variables\r\n",
    "        r_node_feats, r_edge_index, r_edge_attr, r_coords = rxn_batch.x_r, rxn_batch.edge_index_r, rxn_batch.edge_attr_r, rxn_batch.pos_r\r\n",
    "        ts_node_feats, ts_edge_index, ts_edge_attr, ts_coords = rxn_batch.x_ts, rxn_batch.edge_index_ts, rxn_batch.edge_attr_ts, rxn_batch.pos_ts\r\n",
    "        batch_size = len(rxn_batch.idx)\r\n",
    "        max_num_atoms = sum(rxn_batch.num_atoms).item() # add this in because sometimes we get hanging atoms if bonds broken\r\n",
    "\r\n",
    "        # run model on reactant\r\n",
    "        node_emb, edge_emb, recon_node_fs, recon_edge_fs, adj_pred, coord_out = nec_ae(r_node_feats, r_edge_index, r_edge_attr, r_coords)\r\n",
    "\r\n",
    "        # ground truth values\r\n",
    "        adj_gt = to_dense_adj(ts_edge_index, max_num_nodes = max_num_atoms).squeeze(dim = 0)\r\n",
    "        assert adj_gt.shape == adj_pred.shape, f\"Your adjacency matrices don't have the same shape! \\n \\\r\n",
    "               GT shape: {adj_gt.shape}, Pred shape: {adj_pred.shape}, Batch size: {batch_size} \\n \\\r\n",
    "               {ts_edge_index}, {ts_node_feats.shape}, \\n \\\r\n",
    "                   num_atoms: {rxn_batch.num_atoms}\"\r\n",
    "        \r\n",
    "\r\n",
    "        # losses and opt step\r\n",
    "        try:\r\n",
    "            adj_loss = F.binary_cross_entropy(adj_pred, adj_gt)\r\n",
    "        except:\r\n",
    "            print(f\"Epoch: {i}\")\r\n",
    "            # print(f\"{adj_pred}\")\r\n",
    "            continue\r\n",
    "        \r\n",
    "        total_loss = adj_loss\r\n",
    "\r\n",
    "        #coord_loss = COORD_LOSS_SCALER * F.mse_loss(coord_out, ts_coords) # barely any change\r\n",
    "        #coord_loss = torch.sqrt(F.mse_loss(coord_out, ts_coords))\r\n",
    "        # total_loss = coord_loss\r\n",
    "\r\n",
    "        #total_loss = adj_loss + coord_loss\r\n",
    "        \r\n",
    "        #node_loss = F.mse_loss(recon_node_fs, ts_node_feats) # goes from 0.2 -> 0.01 in 20 epochs i.e. works\r\n",
    "        #total_loss = node_loss\r\n",
    "\r\n",
    "        total_loss.backward()\r\n",
    "        opt.step()\r\n",
    "\r\n",
    "        # record batch results\r\n",
    "        res['total_loss'] += total_loss.item()\r\n",
    "        res['batch_counter'] += 1\r\n",
    "        \r\n",
    "        # res['coord_loss_arr'].append(coord_loss.item())\r\n",
    "        res['adj_loss_arr'].append(adj_loss.item())\r\n",
    "        # res['node_loss_arr'].append(node_loss.item())\r\n",
    "\r\n",
    "        if i < 10:\r\n",
    "            adj_save['adj_gt_arr'].append(adj_gt)\r\n",
    "            adj_save['adj_pred_arr'].append(adj_pred)\r\n",
    "    \r\n",
    "    return res['total_loss'] / res['batch_counter'], res, adj_save\r\n",
    "\r\n",
    "loss, res, adj_save = train(nec_ae, nec_opt, train_loader)"
   ]
  },
  {
   "cell_type": "code",
   "execution_count": 14,
   "metadata": {},
   "outputs": [
    {
     "data": {
      "text/plain": "tensor([[0., 1., 0., 0., 0., 0., 1., 1., 0., 0., 0.],\n        [1., 0., 1., 1., 0., 0., 0., 0., 0., 0., 0.],\n        [0., 1., 0., 0., 0., 0., 0., 0., 0., 0., 0.],\n        [0., 1., 0., 0., 1., 1., 0., 0., 1., 0., 0.],\n        [0., 0., 0., 1., 0., 1., 0., 0., 0., 1., 1.],\n        [0., 0., 0., 1., 1., 0., 0., 0., 0., 0., 0.],\n        [1., 0., 0., 0., 0., 0., 0., 0., 0., 0., 0.],\n        [1., 0., 0., 0., 0., 0., 0., 0., 0., 0., 0.],\n        [0., 0., 0., 1., 0., 0., 0., 0., 0., 0., 0.],\n        [0., 0., 0., 0., 1., 0., 0., 0., 0., 0., 0.],\n        [0., 0., 0., 0., 1., 0., 0., 0., 0., 0., 0.]])"
     },
     "execution_count": 14,
     "metadata": {},
     "output_type": "execute_result"
    }
   ],
   "source": [
    "i = 4\r\n",
    "adj_save['adj_gt_arr'][i]"
   ]
  },
  {
   "cell_type": "code",
   "execution_count": 15,
   "metadata": {},
   "outputs": [
    {
     "data": {
      "text/plain": "tensor([[0.0000, 0.0289, 0.0208, 0.0040, 0.0141, 0.0037, 0.2207, 0.2782, 0.1380,\n         0.2109, 0.2470],\n        [0.0289, 0.0000, 0.0103, 0.0362, 0.0167, 0.0302, 0.1049, 0.1382, 0.0530,\n         0.0927, 0.1257],\n        [0.0208, 0.0103, 0.0000, 0.0377, 0.0324, 0.0333, 0.1746, 0.2075, 0.1081,\n         0.1553, 0.2012],\n        [0.0040, 0.0362, 0.0377, 0.0000, 0.0084, 0.0003, 0.2103, 0.2753, 0.1289,\n         0.2063, 0.2340],\n        [0.0141, 0.0167, 0.0324, 0.0084, 0.0000, 0.0058, 0.1366, 0.1926, 0.0721,\n         0.1340, 0.1563],\n        [0.0037, 0.0302, 0.0333, 0.0003, 0.0058, 0.0000, 0.1967, 0.2594, 0.1181,\n         0.1923, 0.2200],\n        [0.2207, 0.1049, 0.1746, 0.2103, 0.1366, 0.1967, 0.0000, 0.0090, 0.0104,\n         0.0023, 0.0010],\n        [0.2782, 0.1382, 0.2075, 0.2753, 0.1926, 0.2594, 0.0090, 0.0000, 0.0324,\n         0.0056, 0.0093],\n        [0.1380, 0.0530, 0.1081, 0.1289, 0.0721, 0.1181, 0.0104, 0.0324, 0.0000,\n         0.0112, 0.0168],\n        [0.2109, 0.0927, 0.1553, 0.2063, 0.1340, 0.1923, 0.0023, 0.0056, 0.0112,\n         0.0000, 0.0055],\n        [0.2470, 0.1257, 0.2012, 0.2340, 0.1563, 0.2200, 0.0010, 0.0093, 0.0168,\n         0.0055, 0.0000]], grad_fn=<MulBackward0>)"
     },
     "execution_count": 15,
     "metadata": {},
     "output_type": "execute_result"
    }
   ],
   "source": [
    "adj_save['adj_pred_arr'][i]"
   ]
  },
  {
   "cell_type": "code",
   "execution_count": 17,
   "metadata": {},
   "outputs": [
    {
     "name": "stdout",
     "output_type": "stream",
     "text": [
      "===== Training epoch 001 complete with loss: 0.3339 ====\n",
      "===== Training epoch 002 complete with loss: 0.3328 ====\n",
      "===== Training epoch 003 complete with loss: 0.3324 ====\n",
      "===== Training epoch 004 complete with loss: 0.3310 ====\n",
      "===== Training epoch 005 complete with loss: 0.3299 ====\n",
      "===== Training epoch 006 complete with loss: 0.3292 ====\n",
      "===== Training epoch 007 complete with loss: 0.3283 ====\n",
      "===== Training epoch 008 complete with loss: 0.3278 ====\n",
      "===== Training epoch 009 complete with loss: 0.3274 ====\n",
      "===== Training epoch 010 complete with loss: 0.3276 ====\n"
     ]
    }
   ],
   "source": [
    "### NodeEdgeCoord Model \r\n",
    "\r\n",
    "epochs = 10\r\n",
    "# test_interval = 1000\r\n",
    "\r\n",
    "# nec_ae.reset_parameters()\r\n",
    "torch.set_printoptions(precision = 3)\r\n",
    "\r\n",
    "final_res = {'train_loss_arr': [], 'train_res_arr': [], 'test_loss_arr': [], 'test_res_arr': [], \r\n",
    "             'best_test': 1e10, 'best_epoch': 0}\r\n",
    "\r\n",
    "for epoch in range(1, epochs + 1):\r\n",
    "\r\n",
    "    train_loss, train_res, adj = train(nec_ae, nec_opt, train_loader)\r\n",
    "    final_res['train_loss_arr'].append(train_loss)\r\n",
    "    final_res['train_res_arr'].append(train_res)\r\n",
    "    \r\n",
    "    if epoch < 10:\r\n",
    "        print(f\"===== Training epoch {epoch:03d} complete with loss: {train_loss:.4f} ====\")\r\n",
    "    if epoch % 10 == 0:\r\n",
    "        print(f\"===== Training epoch {epoch:03d} complete with loss: {train_loss:.4f} ====\")"
   ]
  },
  {
   "cell_type": "code",
   "execution_count": 28,
   "metadata": {},
   "outputs": [
    {
     "data": {
      "text/plain": "{'total_loss': 11.281865656375885,\n 'batch_counter': 16,\n 'coord_loss_arr': [],\n 'adj_loss_arr': [0.7181799411773682,\n  0.7143734693527222,\n  0.709192156791687,\n  0.7101082801818848,\n  0.7094240188598633,\n  0.7085379362106323,\n  0.7043125033378601,\n  0.7037222385406494,\n  0.70466548204422,\n  0.702354371547699,\n  0.6996329426765442,\n  0.7027063965797424,\n  0.6990594863891602,\n  0.6990302205085754,\n  0.6985227465629578,\n  0.6980434656143188],\n 'node_loss_arr': []}"
     },
     "execution_count": 28,
     "metadata": {},
     "output_type": "execute_result"
    }
   ],
   "source": [
    "final_res['train_res_arr'][0]"
   ]
  },
  {
   "cell_type": "code",
   "execution_count": 52,
   "metadata": {},
   "outputs": [
    {
     "data": {
      "text/plain": "{'total_loss': 13.69211345911026,\n 'num_rxns': 320,\n 'coord_loss_arr': [0.4517003893852234,\n  0.3646640181541443,\n  0.379293292760849,\n  0.4266248345375061,\n  0.3577047884464264,\n  0.4440578818321228,\n  0.5548912882804871,\n  0.45330995321273804,\n  0.45632728934288025,\n  0.3787263035774231,\n  0.44680121541023254,\n  0.36229124665260315,\n  0.30292972922325134,\n  0.42477449774742126,\n  0.4116053283214569,\n  0.4654482305049896,\n  0.42196935415267944,\n  0.3555295169353485,\n  0.4371601343154907,\n  0.35873374342918396,\n  0.39976420998573303,\n  0.4350343942642212,\n  0.36323943734169006,\n  0.4794536828994751,\n  0.36955004930496216,\n  0.3972865343093872,\n  0.4190240800380707,\n  0.4411216676235199,\n  0.4474222660064697,\n  0.4987640678882599,\n  0.6237435936927795,\n  0.5631664395332336],\n 'adj_loss_arr': [],\n 'node_loss_arr': []}"
     },
     "execution_count": 52,
     "metadata": {},
     "output_type": "execute_result"
    }
   ],
   "source": [
    "final_res['train_res_arr'][0]"
   ]
  },
  {
   "cell_type": "code",
   "execution_count": 55,
   "metadata": {},
   "outputs": [
    {
     "data": {
      "text/plain": "{'total_loss': 13.650706440210342,\n 'num_rxns': 320,\n 'coord_loss_arr': [0.44959649443626404,\n  0.36572614312171936,\n  0.37784436345100403,\n  0.4274539649486542,\n  0.35596367716789246,\n  0.44366729259490967,\n  0.5529890656471252,\n  0.44835323095321655,\n  0.4550268352031708,\n  0.3751155436038971,\n  0.4419046640396118,\n  0.36208486557006836,\n  0.30449697375297546,\n  0.42465561628341675,\n  0.4112507998943329,\n  0.4648565948009491,\n  0.4198797643184662,\n  0.3543452322483063,\n  0.4375874698162079,\n  0.35692909359931946,\n  0.3987211585044861,\n  0.4339248239994049,\n  0.363501638174057,\n  0.47662532329559326,\n  0.3682370185852051,\n  0.3952687680721283,\n  0.4194740355014801,\n  0.442590594291687,\n  0.44637081027030945,\n  0.49775010347366333,\n  0.6186178922653198,\n  0.5598965883255005],\n 'adj_loss_arr': [],\n 'node_loss_arr': []}"
     },
     "execution_count": 55,
     "metadata": {},
     "output_type": "execute_result"
    }
   ],
   "source": [
    "final_res['train_res_arr'][19]"
   ]
  }
 ],
 "metadata": {
  "kernelspec": {
   "display_name": "Python 3.6.13 64-bit (conda)",
   "name": "3d-rdkit"
  },
  "language_info": {
   "codemirror_mode": {
    "name": "ipython",
    "version": 3
   },
   "file_extension": ".py",
   "mimetype": "text/x-python",
   "name": "python",
   "nbconvert_exporter": "python",
   "pygments_lexer": "ipython3",
   "version": "3.6.13"
  },
  "orig_nbformat": 2
 },
 "nbformat": 4,
 "nbformat_minor": 2
}