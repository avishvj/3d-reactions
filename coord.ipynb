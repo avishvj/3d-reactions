{
 "cells": [
  {
   "cell_type": "code",
   "execution_count": 1,
   "metadata": {},
   "outputs": [],
   "source": [
    "# data processing\r\n",
    "from ts_vae.data_processors.grambow_processor import ReactionDataset\r\n",
    "\r\n",
    "# my GAEs\r\n",
    "from ts_vae.gaes.n_gae import Node_AE, train_node_ae, test_node_ae\r\n",
    "from ts_vae.gaes.ne_gae import NodeEdge_AE, train_ne_ae, test_ne_ae\r\n",
    "from ts_vae.gaes.nec_gae import NodeEdgeCoord_AE, train_nec, test_nec, main_nec\r\n",
    "\r\n",
    "# torch\r\n",
    "import torch\r\n",
    "import torch.nn as nn\r\n",
    "import torch.nn.functional as F\r\n",
    "from torch.utils.data import ConcatDataset\r\n",
    "\r\n",
    "# torch geometric\r\n",
    "from torch_geometric.data import DataLoader\r\n",
    "from torch_geometric.utils import to_dense_adj\r\n",
    "from torch_geometric.utils.sparse import dense_to_sparse\r\n",
    "\r\n",
    "# other\r\n",
    "import numpy as np\r\n",
    "from sklearn.metrics import roc_auc_score, average_precision_score"
   ]
  },
  {
   "cell_type": "code",
   "execution_count": 2,
   "metadata": {},
   "outputs": [],
   "source": [
    "# remove processed files\r\n",
    "import os\r\n",
    "import glob\r\n",
    "\r\n",
    "files = glob.glob(r'data/processed/*')\r\n",
    "for f in files:\r\n",
    "    os.remove(f)"
   ]
  },
  {
   "cell_type": "code",
   "execution_count": 2,
   "metadata": {},
   "outputs": [],
   "source": [
    "### New Data Processing\r\n",
    "\r\n",
    "rxns = ReactionDataset(r'data')\r\n",
    "\r\n",
    "num_rxns = len(rxns)\r\n",
    "train_ratio = 0.8\r\n",
    "num_train = int(np.floor(train_ratio * num_rxns))\r\n",
    "\r\n",
    "batch_size = 10\r\n",
    "to_follow = ['edge_index_r', 'edge_index_ts', 'edge_index_p', 'edge_attr_r', 'edge_attr_ts', 'edge_attr_p'\r\n",
    "             'pos_r', 'pos_ts', 'pos_p', 'x_r', 'x_ts', 'x_p']\r\n",
    "\r\n",
    "\r\n",
    "train_loader = DataLoader(rxns[: num_train], batch_size = batch_size, follow_batch = to_follow)\r\n",
    "test_loader = DataLoader(rxns[num_train: ], batch_size = batch_size, follow_batch = to_follow)"
   ]
  },
  {
   "cell_type": "code",
   "execution_count": 4,
   "metadata": {},
   "outputs": [
    {
     "name": "stdout",
     "output_type": "stream",
     "text": [
      "===== Training epoch 001 complete with loss: 4.7408 ====\n",
      "===== Training epoch 002 complete with loss: 4.4853 ====\n",
      "===== Training epoch 003 complete with loss: 4.2326 ====\n",
      "===== Training epoch 004 complete with loss: 3.9473 ====\n",
      "===== Training epoch 005 complete with loss: 3.6093 ====\n",
      "===== Testing epoch: 005, Loss: 3.3752 ===== \n",
      "\n",
      "===== Training epoch 006 complete with loss: 3.2334 ====\n",
      "===== Training epoch 007 complete with loss: 2.8690 ====\n",
      "===== Training epoch 008 complete with loss: 2.5583 ====\n",
      "===== Training epoch 009 complete with loss: 2.3064 ====\n",
      "===== Training epoch 010 complete with loss: 2.0526 ====\n",
      "===== Testing epoch: 010, Loss: 1.8907 ===== \n",
      "\n",
      "===== Training epoch 011 complete with loss: 1.6853 ====\n",
      "===== Training epoch 012 complete with loss: 1.3897 ====\n",
      "===== Training epoch 013 complete with loss: 1.2721 ====\n",
      "===== Training epoch 014 complete with loss: 1.2093 ====\n",
      "===== Training epoch 015 complete with loss: 1.1642 ====\n",
      "===== Testing epoch: 015, Loss: 1.1696 ===== \n",
      "\n",
      "===== Training epoch 016 complete with loss: 1.1277 ====\n",
      "===== Training epoch 017 complete with loss: 1.0968 ====\n",
      "===== Training epoch 018 complete with loss: 1.0699 ====\n",
      "===== Training epoch 019 complete with loss: 1.0461 ====\n",
      "===== Training epoch 020 complete with loss: 1.0255 ====\n",
      "===== Testing epoch: 020, Loss: 1.0545 ===== \n",
      "\n"
     ]
    }
   ],
   "source": [
    "### NEW! NodeEdgeCoord AE\r\n",
    "max_num_atoms = max([rxn.num_atoms.item() for rxn in train_loader.dataset])\r\n",
    "assert all(rxn.num_atom_fs.item() == train_loader.dataset[0].num_atom_fs.item() for rxn in train_loader.dataset)\r\n",
    "num_atom_fs = train_loader.dataset[0].num_atom_fs.item()\r\n",
    "assert all(rxn.num_bond_fs.item() == train_loader.dataset[0].num_bond_fs.item() for rxn in train_loader.dataset)\r\n",
    "num_bond_fs = train_loader.dataset[0].num_bond_fs.item()\r\n",
    "h_nf = 5\r\n",
    "emb_nf = 2\r\n",
    "\r\n",
    "# model and opt\r\n",
    "nec_ae = NodeEdgeCoord_AE(in_node_nf = num_atom_fs, in_edge_nf = num_bond_fs, h_nf = h_nf, out_nf = h_nf, emb_nf = emb_nf)\r\n",
    "nec_opt = torch.optim.Adam(nec_ae.parameters(), lr = 1e-3)\r\n",
    "\r\n",
    "# train, test, main\r\n",
    "train_loss, train_res = train_nec(nec_ae, nec_opt, train_loader)\r\n",
    "test_loss, test_res = test_nec(nec_ae, test_loader)\r\n",
    "final_res = main_nec(nec_ae, nec_opt, train_loader, test_loader)"
   ]
  }
 ],
 "metadata": {
  "kernelspec": {
   "display_name": "Python 3.6.13 64-bit (conda)",
   "name": "3d-rdkit"
  },
  "language_info": {
   "codemirror_mode": {
    "name": "ipython",
    "version": 3
   },
   "file_extension": ".py",
   "mimetype": "text/x-python",
   "name": "python",
   "nbconvert_exporter": "python",
   "pygments_lexer": "ipython3",
   "version": "3.6.13"
  },
  "orig_nbformat": 2
 },
 "nbformat": 4,
 "nbformat_minor": 2
}