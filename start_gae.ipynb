{
 "cells": [
  {
   "cell_type": "markdown",
   "metadata": {},
   "source": [
    "Go over notes and build up from simpler models\r\n",
    "\r\n",
    "1. R AE \r\n",
    "2. R-P AE \r\n",
    "3. R encoder and TS decoder \r\n",
    "4. R-P encoder, TS decoder"
   ]
  },
  {
   "cell_type": "code",
   "execution_count": 1,
   "metadata": {},
   "outputs": [],
   "source": [
    "import torch\r\n",
    "import torch.nn as nn\r\n",
    "from torch_geometric.nn import GCNConv, GAE\r\n",
    "from torch_geometric.utils import train_test_split_edges\r\n",
    "from ts_vae.data_processors.grambow_processor import ReactionDataset"
   ]
  },
  {
   "cell_type": "markdown",
   "metadata": {},
   "source": [
    "## Molecule Autoencoder"
   ]
  },
  {
   "cell_type": "code",
   "execution_count": 2,
   "metadata": {},
   "outputs": [],
   "source": [
    "def reset(nn):\r\n",
    "    def _reset(item):\r\n",
    "        if hasattr(item, 'reset_parameters'):\r\n",
    "            item.reset_parameters()\r\n",
    "\r\n",
    "    if nn is not None:\r\n",
    "        if hasattr(nn, 'children') and len(list(nn.children())) > 0:\r\n",
    "            for item in nn.children():\r\n",
    "                _reset(item)\r\n",
    "        else:\r\n",
    "            _reset(nn)"
   ]
  },
  {
   "cell_type": "code",
   "execution_count": 3,
   "metadata": {},
   "outputs": [],
   "source": [
    "from sklearn.metrics import roc_auc_score, average_precision_score\r\n",
    "from torch_geometric.utils import (negative_sampling, remove_self_loops, add_self_loops)\r\n",
    "EPS = 1e-15\r\n",
    "\r\n",
    "class GAE(nn.Module):\r\n",
    "    def __init__(self, encoder, decoder = None):\r\n",
    "        super(GAE, self).__init__()\r\n",
    "        self.encoder = encoder\r\n",
    "        self.decoder = InnerProductDecoder()\r\n",
    "        GAE.reset_parameters(self)\r\n",
    "\r\n",
    "    def reset_parameters(self):\r\n",
    "        reset(self.encoder)\r\n",
    "        reset(self.decoder) \r\n",
    "\r\n",
    "    def encode(self, *args, **kwargs):\r\n",
    "        return self.encoder(*args, **kwargs)\r\n",
    "\r\n",
    "    def decode(self, *args, **kwargs):\r\n",
    "        return self.decoder(*args, **kwargs)\r\n",
    "\r\n",
    "    def recon_loss(self, z, pos_edge_index, neg_edge_index = None):\r\n",
    "        \"\"\" BCE for input on its reconstruction. \"\"\"\r\n",
    "        pos_loss = -torch.log(self.decoder(z, pos_edge_index, sigmoid = True) + EPS).mean()\r\n",
    "\r\n",
    "        # no self-loops in negative samples\r\n",
    "        pos_edge_index, _ = remove_self_loops(pos_edge_index)\r\n",
    "        pos_edge_index, _ = add_self_loops(pos_edge_index)\r\n",
    "        if neg_edge_index is None:\r\n",
    "            neg_edge_index = negative_sampling(pos_edge_index, z.size(0))\r\n",
    "        neg_loss = -torch.log(1 - self.decoder(z, neg_edge_index, sigmoid = True) + EPS).mean()\r\n",
    "\r\n",
    "        return pos_loss + neg_loss\r\n",
    "\r\n",
    "    def test(self, z, pos_edge_index, neg_edge_index):\r\n",
    "        pos_y = z.new_ones(pos_edge_index.size(1))\r\n",
    "        neg_y = z.new_zeros(neg_edge_index.size(1))\r\n",
    "        y = torch.cat([pos_y, neg_y], dim=0)\r\n",
    "\r\n",
    "        pos_pred = self.decoder(z, pos_edge_index, sigmoid=True)\r\n",
    "        neg_pred = self.decoder(z, neg_edge_index, sigmoid=True)\r\n",
    "        pred = torch.cat([pos_pred, neg_pred], dim=0)\r\n",
    "\r\n",
    "        y, pred = y.detach().cpu().numpy(), pred.detach().cpu().numpy()\r\n",
    "\r\n",
    "        return roc_auc_score(y, pred), average_precision_score(y, pred)\r\n",
    "\r\n",
    "class MolEncoder(nn.Module):\r\n",
    "    def __init__(self, in_channels, out_channels):\r\n",
    "        super(MolEncoder, self).__init__()\r\n",
    "        self.conv = GCNConv(in_channels, out_channels)\r\n",
    "\r\n",
    "    def forward(self, x, edge_index):\r\n",
    "        return self.conv(x, edge_index)\r\n",
    "\r\n",
    "class InnerProductDecoder(nn.Module):\r\n",
    "    def forward(self, z, edge_index, sigmoid = True):\r\n",
    "        value = (z[edge_index[0]] * z[edge_index[1]]).sum(dim = 1)\r\n",
    "        return torch.sigmoid(value) if sigmoid else value\r\n",
    "    \r\n",
    "    def forward_all(self, z, sigmoid = True):\r\n",
    "        adj = torch.matmul(z, z.t())\r\n",
    "        return torch.sigmoid(adj) if sigmoid else adj\r\n"
   ]
  },
  {
   "cell_type": "markdown",
   "metadata": {},
   "source": [
    "### Training"
   ]
  },
  {
   "cell_type": "code",
   "execution_count": null,
   "metadata": {},
   "outputs": [],
   "source": [
    "def train_gae(gae, opt, x, train_pos_edge_index):\r\n",
    "    gae.train()\r\n",
    "    opt.zero_grad()\r\n",
    "    z = gae.encode(x, train_pos_edge_index)\r\n",
    "    loss = gae.recon_loss(z, train_pos_edge_index)\r\n",
    "    loss.backward()\r\n",
    "    opt.step()\r\n",
    "    return float(loss)\r\n",
    "\r\n",
    "def test_gae(gae, x, train_pos_edge_index, test_pos_edge_index, test_neg_edge_index):\r\n",
    "    gae.eval()\r\n",
    "    with torch.no_grad():\r\n",
    "        z = gae.encode(x, train_pos_edge_index)\r\n",
    "    return gae.test(z, test_pos_edge_index, test_neg_edge_index)"
   ]
  },
  {
   "cell_type": "markdown",
   "metadata": {},
   "source": [
    "### Reactant Autoencoder"
   ]
  },
  {
   "cell_type": "code",
   "execution_count": 4,
   "metadata": {},
   "outputs": [],
   "source": [
    "# model data\r\n",
    "base_path = r'data/'\r\n",
    "device = torch.device('cuda' if torch.cuda.is_available() else 'cpu')\r\n",
    "val_ratio = 0\r\n",
    "test_ratio = 0.2\r\n",
    "\r\n",
    "# reactant data\r\n",
    "r_dataset = ReactionDataset(base_path, geo_file = 'train_r') \r\n",
    "r_data = r_dataset.data\r\n",
    "r_data.train_mask = r_data.val_mask = r_data.test_mask = r_data.y = None\r\n",
    "r_data = train_test_split_edges(data = r_data, val_ratio = val_ratio, test_ratio = test_ratio)\r\n",
    "r_x = r_data.x.to(device)\r\n",
    "r_train_pos_edge_index = r_data.train_pos_edge_index.to(device)\r\n",
    "\r\n",
    "# reactant encoder\r\n",
    "r_num_node_fs = r_data.num_node_features\r\n",
    "r_latent_dim = 2\r\n",
    "r_ae = GAE(MolEncoder(r_num_node_fs, r_latent_dim))\r\n",
    "r_opt = torch.optim.Adam(r_ae.parameters(), lr = 0.01)"
   ]
  },
  {
   "cell_type": "code",
   "execution_count": 5,
   "metadata": {},
   "outputs": [
    {
     "name": "stdout",
     "output_type": "stream",
     "text": [
      "Epoch: 010, AUC: 0.7424, AP: 0.6088\n",
      "Epoch: 020, AUC: 0.7838, AP: 0.6450\n",
      "Epoch: 030, AUC: 0.7891, AP: 0.6672\n",
      "Epoch: 040, AUC: 0.7893, AP: 0.6733\n",
      "Epoch: 050, AUC: 0.7941, AP: 0.6827\n",
      "Epoch: 060, AUC: 0.8118, AP: 0.6922\n",
      "Epoch: 070, AUC: 0.8162, AP: 0.6925\n",
      "Epoch: 080, AUC: 0.8214, AP: 0.6945\n",
      "Epoch: 090, AUC: 0.8159, AP: 0.6860\n",
      "Epoch: 100, AUC: 0.8178, AP: 0.6866\n"
     ]
    }
   ],
   "source": [
    "r_ae.reset_parameters()\r\n",
    "\r\n",
    "epochs = 100\r\n",
    "for epoch in range(1, epochs + 1):\r\n",
    "    loss = train_gae(r_ae, r_opt, r_x, r_data.train_pos_edge_index)\r\n",
    "    auc, ap = test_gae(r_ae, r_x, r_data.train_pos_edge_index, r_data.test_pos_edge_index, r_data.test_neg_edge_index)\r\n",
    "    if epoch % 10 == 0:\r\n",
    "        print('Epoch: {:03d}, AUC: {:.4f}, AP: {:.4f}'.format(epoch, auc, ap))"
   ]
  },
  {
   "cell_type": "markdown",
   "metadata": {},
   "source": [
    "### Product Autoencoder"
   ]
  },
  {
   "cell_type": "code",
   "execution_count": 6,
   "metadata": {},
   "outputs": [],
   "source": [
    "# model data\r\n",
    "base_path = r'data/'\r\n",
    "device = torch.device('cuda' if torch.cuda.is_available() else 'cpu')\r\n",
    "val_ratio = 0\r\n",
    "test_ratio = 0.2\r\n",
    "\r\n",
    "# reactant data\r\n",
    "p_dataset = ReactionDataset(base_path, geo_file = 'train_p') \r\n",
    "p_data = p_dataset.data\r\n",
    "p_data.train_mask = p_data.val_mask = p_data.test_mask = p_data.y = None\r\n",
    "p_data = train_test_split_edges(data = p_data, val_ratio = val_ratio, test_ratio = test_ratio)\r\n",
    "p_x = p_data.x.to(device)\r\n",
    "p_train_pos_edge_index = p_data.train_pos_edge_index.to(device)\r\n",
    "\r\n",
    "# reactant encoder\r\n",
    "p_num_node_fs = p_data.num_node_features\r\n",
    "p_latent_dim = 2\r\n",
    "p_ae = GAE(MolEncoder(p_num_node_fs, p_latent_dim))\r\n",
    "p_opt = torch.optim.Adam(p_ae.parameters(), lr = 0.01)"
   ]
  },
  {
   "cell_type": "code",
   "execution_count": 29,
   "metadata": {},
   "outputs": [
    {
     "name": "stdout",
     "output_type": "stream",
     "text": [
      "Epoch: 010, AUC: 0.5636, AP: 0.5001\n",
      "Epoch: 020, AUC: 0.7952, AP: 0.6576\n",
      "Epoch: 030, AUC: 0.4720, AP: 0.4673\n",
      "Epoch: 040, AUC: 0.7494, AP: 0.7111\n",
      "Epoch: 050, AUC: 0.8159, AP: 0.7243\n",
      "Epoch: 060, AUC: 0.8428, AP: 0.7289\n",
      "Epoch: 070, AUC: 0.8612, AP: 0.7397\n",
      "Epoch: 080, AUC: 0.8670, AP: 0.7454\n",
      "Epoch: 090, AUC: 0.8691, AP: 0.7465\n",
      "Epoch: 100, AUC: 0.8713, AP: 0.7495\n"
     ]
    }
   ],
   "source": [
    "p_ae.reset_parameters()\r\n",
    "\r\n",
    "epochs = 100\r\n",
    "for epoch in range(1, epochs + 1):\r\n",
    "    loss = train_gae(p_ae, p_opt, p_x, p_data.train_pos_edge_index)\r\n",
    "    auc, ap = test_gae(p_ae, p_x, p_data.train_pos_edge_index, p_data.test_pos_edge_index, p_data.test_neg_edge_index)\r\n",
    "    if epoch % 10 == 0:\r\n",
    "        print('Epoch: {:03d}, AUC: {:.4f}, AP: {:.4f}'.format(epoch, auc, ap))"
   ]
  }
 ],
 "metadata": {
  "kernelspec": {
   "display_name": "Python 3.6.13 64-bit (conda)",
   "name": "python3613jvsc74a57bd0f4671ad35fdc0609fa675edcd17de5b3092cb55d03f1d9670a78611a41fb18f3"
  },
  "language_info": {
   "codemirror_mode": {
    "name": "ipython",
    "version": 3
   },
   "file_extension": ".py",
   "mimetype": "text/x-python",
   "name": "python",
   "nbconvert_exporter": "python",
   "pygments_lexer": "ipython3",
   "version": "3.6.13"
  },
  "orig_nbformat": 2
 },
 "nbformat": 4,
 "nbformat_minor": 2
}